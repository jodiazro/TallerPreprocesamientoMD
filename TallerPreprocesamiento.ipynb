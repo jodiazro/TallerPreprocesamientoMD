{
 "cells": [
  {
   "cell_type": "markdown",
   "id": "27fe81f4",
   "metadata": {},
   "source": [
    "\n",
    "# MINERÍA DE DATOS\n"
   ]
  },
  {
   "cell_type": "markdown",
   "id": "30f5e295",
   "metadata": {},
   "source": [
    "\n",
    "## Taller: Preprocesamiento\n",
    "\n",
    "**Profesora:** Elizabeth León Guzmán\n",
    "\n",
    "**Tema:** Preprocesamiento\n",
    "\n",
    "**Entrega:** Entregar documento detallado del trabajo realizado y análisis respectivos.\n",
    "\n",
    "**Equipo 4:** Paula Velosa- Johan Díaz- Fabián López  \n",
    "\n"
   ]
  },
  {
   "cell_type": "markdown",
   "id": "9992507f",
   "metadata": {},
   "source": [
    "## Actividades\n"
   ]
  },
  {
   "cell_type": "code",
   "execution_count": 1,
   "id": "7604ea34",
   "metadata": {},
   "outputs": [],
   "source": [
    "import pandas as pd\n",
    "import sklearn as skl\n",
    "import numpy as np"
   ]
  },
  {
   "cell_type": "markdown",
   "id": "3c86bd5c",
   "metadata": {},
   "source": [
    "\n",
    "### 1. Normalización de datos\n"
   ]
  },
  {
   "cell_type": "code",
   "execution_count": 7,
   "id": "8f57e1ba",
   "metadata": {},
   "outputs": [],
   "source": [
    "X = np.array([-5.0, 23.0, 17.6, 7.23, 1.11])"
   ]
  },
  {
   "cell_type": "markdown",
   "id": "acc159a6",
   "metadata": {},
   "source": [
    "\n",
    "Dado un conjunto de datos de una dimensión\n",
    "**X = {-5.0, 23.0, 17.6, 7.23, 1.11}**, normalizar usando:\n",
    "\n",
    "* a) Min-max normalización en el intervalo \\[0,1]\n"
   ]
  },
  {
   "cell_type": "code",
   "execution_count": 8,
   "id": "878bbd14",
   "metadata": {},
   "outputs": [],
   "source": [
    "min_max_0_1 = (X-X.min())/(X.max()-X.min())"
   ]
  },
  {
   "cell_type": "markdown",
   "id": "d7c7b04c",
   "metadata": {},
   "source": [
    "* b) Min-max normalización en el intervalo \\[-1,1]\n"
   ]
  },
  {
   "cell_type": "code",
   "execution_count": 9,
   "id": "d0a7f2de",
   "metadata": {},
   "outputs": [],
   "source": [
    "min_max_m1_1 = 2*(X-X.min())/(X.max()-X.min())-1"
   ]
  },
  {
   "cell_type": "markdown",
   "id": "5e64c13d",
   "metadata": {},
   "source": [
    "* c) Normalización usando desviación estándar\n"
   ]
  },
  {
   "cell_type": "code",
   "execution_count": 10,
   "id": "a5afd262",
   "metadata": {},
   "outputs": [],
   "source": [
    "norm_by_std = (X-X.mean())/X.std()"
   ]
  },
  {
   "cell_type": "markdown",
   "id": "ee60742a",
   "metadata": {},
   "source": [
    "* d) Escala decimal en el intervalo \\[-1,1]\n"
   ]
  },
  {
   "cell_type": "code",
   "execution_count": 11,
   "id": "958d4469",
   "metadata": {},
   "outputs": [],
   "source": [
    "dec_scale=X/(X**(np.ceil(np.log10(X.max()))))"
   ]
  },
  {
   "cell_type": "markdown",
   "id": "50d972e7",
   "metadata": {},
   "source": [
    "* e) Comparar los resultados y discutir ventajas y desventajas\n"
   ]
  },
  {
   "cell_type": "code",
   "execution_count": null,
   "id": "31322b92",
   "metadata": {},
   "outputs": [
    {
     "ename": "TypeError",
     "evalue": "scatter() missing 1 required positional argument: 'y'",
     "output_type": "error",
     "traceback": [
      "\u001b[31m---------------------------------------------------------------------------\u001b[39m",
      "\u001b[31mTypeError\u001b[39m                                 Traceback (most recent call last)",
      "\u001b[36mCell\u001b[39m\u001b[36m \u001b[39m\u001b[32mIn[13]\u001b[39m\u001b[32m, line 5\u001b[39m\n\u001b[32m      1\u001b[39m \u001b[38;5;28;01mimport\u001b[39;00m\u001b[38;5;250m \u001b[39m\u001b[34;01mmatplotlib\u001b[39;00m\u001b[34;01m.\u001b[39;00m\u001b[34;01mpyplot\u001b[39;00m\u001b[38;5;250m \u001b[39m\u001b[38;5;28;01mas\u001b[39;00m\u001b[38;5;250m \u001b[39m\u001b[34;01mplt\u001b[39;00m\n\u001b[32m      3\u001b[39m fig = plt.figure()\n\u001b[32m----> \u001b[39m\u001b[32m5\u001b[39m \u001b[43mplt\u001b[49m\u001b[43m.\u001b[49m\u001b[43mscatter\u001b[49m\u001b[43m(\u001b[49m\u001b[43mdec_scale\u001b[49m\u001b[43m)\u001b[49m\n",
      "\u001b[36mFile \u001b[39m\u001b[32md:\\InfoAcer\\Documents\\Documentos\\Universidad\\MineriaDeDatos\\TallerPreprocesamiento\\.venv\\Lib\\site-packages\\matplotlib\\_api\\deprecation.py:453\u001b[39m, in \u001b[36mmake_keyword_only.<locals>.wrapper\u001b[39m\u001b[34m(*args, **kwargs)\u001b[39m\n\u001b[32m    447\u001b[39m \u001b[38;5;28;01mif\u001b[39;00m \u001b[38;5;28mlen\u001b[39m(args) > name_idx:\n\u001b[32m    448\u001b[39m     warn_deprecated(\n\u001b[32m    449\u001b[39m         since, message=\u001b[33m\"\u001b[39m\u001b[33mPassing the \u001b[39m\u001b[38;5;132;01m%(name)s\u001b[39;00m\u001b[33m \u001b[39m\u001b[38;5;132;01m%(obj_type)s\u001b[39;00m\u001b[33m \u001b[39m\u001b[33m\"\u001b[39m\n\u001b[32m    450\u001b[39m         \u001b[33m\"\u001b[39m\u001b[33mpositionally is deprecated since Matplotlib \u001b[39m\u001b[38;5;132;01m%(since)s\u001b[39;00m\u001b[33m; the \u001b[39m\u001b[33m\"\u001b[39m\n\u001b[32m    451\u001b[39m         \u001b[33m\"\u001b[39m\u001b[33mparameter will become keyword-only in \u001b[39m\u001b[38;5;132;01m%(removal)s\u001b[39;00m\u001b[33m.\u001b[39m\u001b[33m\"\u001b[39m,\n\u001b[32m    452\u001b[39m         name=name, obj_type=\u001b[33mf\u001b[39m\u001b[33m\"\u001b[39m\u001b[33mparameter of \u001b[39m\u001b[38;5;132;01m{\u001b[39;00mfunc.\u001b[34m__name__\u001b[39m\u001b[38;5;132;01m}\u001b[39;00m\u001b[33m()\u001b[39m\u001b[33m\"\u001b[39m)\n\u001b[32m--> \u001b[39m\u001b[32m453\u001b[39m \u001b[38;5;28;01mreturn\u001b[39;00m \u001b[43mfunc\u001b[49m\u001b[43m(\u001b[49m\u001b[43m*\u001b[49m\u001b[43margs\u001b[49m\u001b[43m,\u001b[49m\u001b[43m \u001b[49m\u001b[43m*\u001b[49m\u001b[43m*\u001b[49m\u001b[43mkwargs\u001b[49m\u001b[43m)\u001b[49m\n",
      "\u001b[31mTypeError\u001b[39m: scatter() missing 1 required positional argument: 'y'"
     ]
    },
    {
     "data": {
      "text/plain": [
       "<Figure size 640x480 with 0 Axes>"
      ]
     },
     "metadata": {},
     "output_type": "display_data"
    }
   ],
   "source": []
  },
  {
   "cell_type": "markdown",
   "id": "404d6b7e",
   "metadata": {},
   "source": [
    "---\n",
    "\n",
    "### 2. Valores perdidos\n",
    "\n",
    "Dado un conjunto de datos de 4 dimensiones con valores perdidos:\n",
    "\n",
    "```\n",
    "I1 I2 I3 I4  \n",
    "0  1  1  2  \n",
    "2  1  ?  1  \n",
    "1  ?  ?  0  \n",
    "?  2  1  ?  \n",
    "2  2  1  0\n",
    "```\n",
    "\n",
    "* a) Dado que el dominio para todos los atributos es \\[0,1,2], ¿cuál debe ser el número de ejemplos “artificiales” si los valores perdidos son interpretados como “no importa el valor” y ellos son reemplazados con todos los posibles valores para su dominio?\n",
    "* b) ¿Qué otro método utilizaría para reemplazar los valores perdidos?\n"
   ]
  },
  {
   "cell_type": "markdown",
   "id": "9b35bd5a",
   "metadata": {},
   "source": [
    "\n",
    "---\n",
    "\n",
    "### 3. Outliers en número de hijos\n",
    "\n",
    "El número de hijos de diferentes pacientes es dado por el siguiente vector:\n",
    "**C = {3, 1, 0, 2, 7, 3, 6, 4, -2, 0, 0, 10, 15, 6}**\n"
   ]
  },
  {
   "cell_type": "code",
   "execution_count": 14,
   "id": "114a28e2",
   "metadata": {},
   "outputs": [],
   "source": [
    "C = np.array([3, 1, 0, 2, 7, 3, 6, 4, -2, 0, 0, 10, 15, 6])"
   ]
  },
  {
   "cell_type": "markdown",
   "id": "d6acf728",
   "metadata": {},
   "source": [
    "\n",
    "* a) Encontrar outliers usando parámetros estadísticos estándar: media y varianza\n"
   ]
  },
  {
   "cell_type": "code",
   "execution_count": 16,
   "id": "d40267e9",
   "metadata": {},
   "outputs": [
    {
     "data": {
      "text/plain": [
       "array([-0.21030754, -0.66327761, -0.88976265, -0.43679257,  0.69563262,\n",
       "       -0.21030754,  0.46914758,  0.0161775 , -1.34273272, -0.88976265,\n",
       "       -0.88976265,  1.37508773,  2.50751292,  0.46914758])"
      ]
     },
     "execution_count": 16,
     "metadata": {},
     "output_type": "execute_result"
    }
   ],
   "source": [
    "C_normalized = (C-C.mean())/C.std()\n",
    "C_normalized"
   ]
  },
  {
   "cell_type": "code",
   "execution_count": null,
   "id": "35536430",
   "metadata": {},
   "outputs": [
    {
     "data": {
      "text/plain": [
       "array([], dtype=int64)"
      ]
     },
     "execution_count": 17,
     "metadata": {},
     "output_type": "execute_result"
    }
   ],
   "source": [
    "C[abs(C_normalized)>3]"
   ]
  },
  {
   "cell_type": "markdown",
   "id": "90afd618",
   "metadata": {},
   "source": [
    "* b) Si el umbral cambia de ±3 desviaciones estándar a ±2 desviaciones estándar, ¿cuál “outlier adicional” se encuentra?\n"
   ]
  },
  {
   "cell_type": "code",
   "execution_count": 18,
   "id": "4dac7cce",
   "metadata": {},
   "outputs": [
    {
     "data": {
      "text/plain": [
       "array([15])"
      ]
     },
     "execution_count": 18,
     "metadata": {},
     "output_type": "execute_result"
    }
   ],
   "source": [
    "C[abs(C_normalized)>2]"
   ]
  },
  {
   "cell_type": "markdown",
   "id": "ffb07b42",
   "metadata": {},
   "source": [
    "\n",
    "---\n",
    "\n",
    "### 4. Detección de outliers multivariados\n",
    "\n",
    "Dado un conjunto de tres dimensiones:\n",
    "\n",
    "```\n",
    "X = [{1,2,0},{3,1,4},{2,1,5},{0,1,6},{2,4,3},{4,4,2},{5,2,1},{7,7,7},{0,0,0},{3,3,3}]\n",
    "```\n"
   ]
  },
  {
   "cell_type": "code",
   "execution_count": 20,
   "id": "78265511",
   "metadata": {},
   "outputs": [
    {
     "data": {
      "text/plain": [
       "array([[1, 2, 0],\n",
       "       [3, 1, 4],\n",
       "       [2, 1, 5],\n",
       "       [0, 1, 6],\n",
       "       [2, 4, 3],\n",
       "       [4, 4, 2],\n",
       "       [5, 2, 1],\n",
       "       [7, 7, 7],\n",
       "       [0, 0, 0],\n",
       "       [3, 3, 3]])"
      ]
     },
     "execution_count": 20,
     "metadata": {},
     "output_type": "execute_result"
    }
   ],
   "source": [
    "X = np.array([[1,2,0],[3,1,4],[2,1,5],[0,1,6],[2,4,3],[4,4,2],[5,2,1],[7,7,7],[0,0,0],[3,3,3]])\n",
    "X"
   ]
  },
  {
   "cell_type": "markdown",
   "id": "aeb8b531",
   "metadata": {},
   "source": [
    "\n",
    "* a) Describir el procedimiento e interpretar los resultados de detección de outliers basado en la media y varianza\n",
    "\n",
    "    Se propone realizar PCA de un único componente tal que sobre este se puedan aplicar una técninca unidimensional de detección de outliers.\n"
   ]
  },
  {
   "cell_type": "code",
   "execution_count": null,
   "id": "daf5fc4c",
   "metadata": {},
   "outputs": [
    {
     "data": {
      "text/plain": [
       "array([[-3.01860763],\n",
       "       [-0.19030271],\n",
       "       [-0.24505936],\n",
       "       [-0.903921  ],\n",
       "       [ 0.38813939],\n",
       "       [ 1.04700104],\n",
       "       [-0.05283928],\n",
       "       [ 7.33795324],\n",
       "       [-4.7773096 ],\n",
       "       [ 0.41494591]])"
      ]
     },
     "execution_count": 22,
     "metadata": {},
     "output_type": "execute_result"
    }
   ],
   "source": [
    "from sklearn.decomposition import PCA\n",
    "\n",
    "pca = PCA(n_components=1)\n",
    "x_pca = pca.fit_transform(X)\n",
    "\n",
    "x_pca\n"
   ]
  },
  {
   "cell_type": "code",
   "execution_count": 23,
   "id": "83707051",
   "metadata": {},
   "outputs": [
    {
     "data": {
      "text/plain": [
       "array([[-1.01690579],\n",
       "       [-0.064109  ],\n",
       "       [-0.08255537],\n",
       "       [-0.30451209],\n",
       "       [ 0.13075604],\n",
       "       [ 0.35271276],\n",
       "       [-0.01780045],\n",
       "       [ 2.47200301],\n",
       "       [-1.60937571],\n",
       "       [ 0.1397866 ]])"
      ]
     },
     "execution_count": 23,
     "metadata": {},
     "output_type": "execute_result"
    }
   ],
   "source": [
    "x_pca_normalized = (x_pca-x_pca.mean())/x_pca.std()\n",
    "x_pca_normalized"
   ]
  },
  {
   "cell_type": "markdown",
   "id": "09893ae0",
   "metadata": {},
   "source": [
    "Sobre nuestros nuevos datos unidimensionales realizamos detección de outliers mediante desviación estándar. El criterio será **más de 2 desviaciones estándar**."
   ]
  },
  {
   "cell_type": "code",
   "execution_count": 25,
   "id": "7cc94e8b",
   "metadata": {},
   "outputs": [
    {
     "data": {
      "text/plain": [
       "array([7, 7, 7])"
      ]
     },
     "execution_count": 25,
     "metadata": {},
     "output_type": "execute_result"
    }
   ],
   "source": [
    "x_pca_normalized_br,_ = np.broadcast_arrays(x_pca_normalized,X)\n",
    "\n",
    "X[(abs(x_pca_normalized_br)>2)]"
   ]
  },
  {
   "cell_type": "markdown",
   "id": "5ab8ca39",
   "metadata": {},
   "source": [
    "\n",
    "---\n",
    "\n",
    "### 5. Weka: valores perdidos, normalización y discretización\n",
    "\n",
    "Usar el conjunto de datos *iris* en Weka:\n",
    "\n",
    "* a) Eliminar manualmente valores (15%) en sus atributos para simular valores perdidos. Luego aplicar varios métodos disponibles en Weka para reemplazar esos valores. Discutir:\n",
    "\n",
    "  * Diferencias entre el valor real y el que lo reemplaza\n",
    "  * Diferencias entre los métodos\n",
    "* b) Normalizar usando varios métodos\n",
    "* c) Discretizar usando varios métodos\n"
   ]
  },
  {
   "cell_type": "markdown",
   "id": "ef6fe64d",
   "metadata": {},
   "source": [
    "\n",
    "---\n",
    "\n",
    "### 6. Reducción por binning\n",
    "\n",
    "Dado el conjunto de datos:\n",
    "\n",
    "```\n",
    "I1  I2   I3  \n",
    "1   5.9  3.4  \n",
    "2   2.1  6.2  \n",
    "1   1.6  2.8  \n",
    "2   6.8  5.8  \n",
    "1   3.1  3.1  \n",
    "1   8.3  4.1  \n",
    "2   2.4  5.0  \n",
    "```\n",
    "\n",
    "Realizar reducción de valores basado en la técnica de **binning** con el mejor corte:\n",
    "\n",
    "* a) Dimensión I2 usando la **media** como representante de 2 bins\n",
    "* b) Dimensión I3 usando el **límite más cercano** como representante de 2 bins\n",
    "  *(Mostrar pasos)*\n"
   ]
  },
  {
   "cell_type": "markdown",
   "id": "932785ea",
   "metadata": {},
   "source": [
    "\n",
    "---\n",
    "\n",
    "### 7. Ranking de dimensiones\n",
    "\n",
    "Dado el conjunto de datos con tres dimensiones de entrada y una clase:\n",
    "\n",
    "```\n",
    "I1   I2   I3   C  \n",
    "2.5  1.6  5.9  0  \n",
    "7.2  4.3  2.1  1  \n",
    "3.4  5.8  1.6  1  \n",
    "5.6  3.6  6.8  0  \n",
    "4.8  7.2  3.1  1  \n",
    "8.1  4.9  8.3  0  \n",
    "6.3  4.8  2.4  1  \n",
    "```\n",
    "\n",
    "* Realizar **ranking** de las dimensiones comparando medias y varianzas\n"
   ]
  },
  {
   "cell_type": "markdown",
   "id": "79a69438",
   "metadata": {},
   "source": [
    "\n",
    "---\n",
    "\n",
    "### 8. Selección de características por entropía\n",
    "\n",
    "Dado el conjunto de datos donde **X1** y **X2** son numéricas, y **X3** y **X4** categóricas:\n",
    "\n",
    "```\n",
    "X1  X2  X3  X4  \n",
    "2.7 3.4 1   A  \n",
    "3.1 6.2 2   A  \n",
    "4.5 2.8 1   B  \n",
    "5.3 5.8 2   B  \n",
    "6.6 3.1 1   A  \n",
    "5.0 4.1 2   B  \n",
    "```\n",
    "\n",
    "* a) Aplicar el método de **selección de características basado en entropía** para reducir una dimensión (mostrar pasos)\n",
    "* b) Implementar un programa para realizar el **ranking de dimensiones** usando entropía\n"
   ]
  },
  {
   "cell_type": "markdown",
   "id": "2f2f8fa4",
   "metadata": {},
   "source": [
    "\n",
    "---\n",
    "\n",
    "### 9. Transformación de atributos en *Adult dataset*\n",
    "\n",
    "Aplicar al conjunto de datos *Adult* del repositorio de Machine Learning:\n",
    "\n",
    "* a) Convertir todos los atributos numéricos a categóricos utilizando dos estrategias diferentes\n",
    "* b) Transformar el conjunto de datos para que **todos los atributos sean numéricos**\n"
   ]
  },
  {
   "cell_type": "markdown",
   "id": "c81dfb53",
   "metadata": {},
   "source": [
    "\n",
    "---\n",
    "\n",
    "### 10. PCA en conjunto de datos numéricos\n",
    "\n",
    "Escoger un conjunto de datos del repositorio de Machine Learning que tenga varias dimensiones numéricas y aplicar **PCA**.\n",
    "\n",
    "* Describir el nuevo conjunto de datos resultante\n",
    "\n"
   ]
  }
 ],
 "metadata": {
  "kernelspec": {
   "display_name": ".venv",
   "language": "python",
   "name": "python3"
  },
  "language_info": {
   "codemirror_mode": {
    "name": "ipython",
    "version": 3
   },
   "file_extension": ".py",
   "mimetype": "text/x-python",
   "name": "python",
   "nbconvert_exporter": "python",
   "pygments_lexer": "ipython3",
   "version": "3.13.3"
  }
 },
 "nbformat": 4,
 "nbformat_minor": 5
}
