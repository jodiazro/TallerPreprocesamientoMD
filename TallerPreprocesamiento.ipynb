{
 "cells": [
  {
   "cell_type": "markdown",
   "id": "27fe81f4",
   "metadata": {},
   "source": [
    "\n",
    "# MINERÍA DE DATOS\n"
   ]
  },
  {
   "cell_type": "markdown",
   "id": "30f5e295",
   "metadata": {},
   "source": [
    "\n",
    "## Taller: Preprocesamiento\n",
    "\n",
    "**Profesora:** Elizabeth León Guzmán\n",
    "\n",
    "**Tema:** Preprocesamiento\n",
    "\n",
    "**Entrega:** Entregar documento detallado del trabajo realizado y análisis respectivos.\n",
    "\n",
    "**Equipo 4:** Paula Velosa- Johan Díaz- Fabián López  \n",
    "\n"
   ]
  },
  {
   "cell_type": "markdown",
   "id": "9992507f",
   "metadata": {},
   "source": [
    "## Actividades\n"
   ]
  },
  {
   "cell_type": "code",
   "execution_count": 1,
   "id": "7604ea34",
   "metadata": {},
   "outputs": [],
   "source": [
    "import pandas as pd\n",
    "import numpy as np"
   ]
  },
  {
   "cell_type": "markdown",
   "id": "3c86bd5c",
   "metadata": {},
   "source": [
    "\n",
    "### 1. Normalización de datos\n"
   ]
  },
  {
   "cell_type": "code",
   "execution_count": 17,
   "id": "8f57e1ba",
   "metadata": {},
   "outputs": [],
   "source": [
    "X = np.array([-5.0, 23.0, 17.6, 7.23, 1.11])\n",
    "\n",
    "normalized_data = dict()"
   ]
  },
  {
   "cell_type": "markdown",
   "id": "acc159a6",
   "metadata": {},
   "source": [
    "\n",
    "Dado un conjunto de datos de una dimensión\n",
    "**X = {-5.0, 23.0, 17.6, 7.23, 1.11}**, normalizar usando:\n",
    "\n",
    "* a) Min-max normalización en el intervalo \\[0,1]\n"
   ]
  },
  {
   "cell_type": "code",
   "execution_count": 18,
   "id": "878bbd14",
   "metadata": {},
   "outputs": [
    {
     "data": {
      "text/plain": [
       "array([0.        , 1.        , 0.80714286, 0.43678571, 0.21821429])"
      ]
     },
     "execution_count": 18,
     "metadata": {},
     "output_type": "execute_result"
    }
   ],
   "source": [
    "normalized_data[\"Min-max [0,1]\"] = (X-X.min())/(X.max()-X.min())\n",
    "normalized_data[\"Min-max [0,1]\"]"
   ]
  },
  {
   "cell_type": "markdown",
   "id": "d7c7b04c",
   "metadata": {},
   "source": [
    "* b) Min-max normalización en el intervalo \\[-1,1]\n"
   ]
  },
  {
   "cell_type": "code",
   "execution_count": 19,
   "id": "d0a7f2de",
   "metadata": {},
   "outputs": [
    {
     "data": {
      "text/plain": [
       "array([-1.        ,  1.        ,  0.61428571, -0.12642857, -0.56357143])"
      ]
     },
     "execution_count": 19,
     "metadata": {},
     "output_type": "execute_result"
    }
   ],
   "source": [
    "normalized_data[\"Min-max [-1,1]\"] = 2*(X-X.min())/(X.max()-X.min())-1\n",
    "normalized_data[\"Min-max [-1,1]\"]"
   ]
  },
  {
   "cell_type": "markdown",
   "id": "5e64c13d",
   "metadata": {},
   "source": [
    "* c) Normalización usando desviación estándar\n"
   ]
  },
  {
   "cell_type": "code",
   "execution_count": 20,
   "id": "a5afd262",
   "metadata": {},
   "outputs": [
    {
     "data": {
      "text/plain": [
       "array([-1.33779582,  1.37893488,  0.85499396, -0.15116666, -0.74496637])"
      ]
     },
     "execution_count": 20,
     "metadata": {},
     "output_type": "execute_result"
    }
   ],
   "source": [
    "normalized_data[\"Desviación estándar\"] = (X-X.mean())/X.std()\n",
    "normalized_data[\"Desviación estándar\"]"
   ]
  },
  {
   "cell_type": "markdown",
   "id": "ee60742a",
   "metadata": {},
   "source": [
    "* d) Escala decimal en el intervalo \\[-1,1]\n"
   ]
  },
  {
   "cell_type": "code",
   "execution_count": 21,
   "id": "958d4469",
   "metadata": {},
   "outputs": [
    {
     "data": {
      "text/plain": [
       "array([-0.2       ,  0.04347826,  0.05681818,  0.13831259,  0.9009009 ])"
      ]
     },
     "execution_count": 21,
     "metadata": {},
     "output_type": "execute_result"
    }
   ],
   "source": [
    "normalized_data[\"Escala decimal\"]=X/(X**(np.ceil(np.log10(X.max()))))\n",
    "normalized_data[\"Escala decimal\"]"
   ]
  },
  {
   "cell_type": "markdown",
   "id": "50d972e7",
   "metadata": {},
   "source": [
    "* e) Comparar los resultados y discutir ventajas y desventajas\n",
    "\n",
    "\n",
    " \n",
    "    - **a) Min-max normalización en el intervalo \\[0, 1]**\n",
    "\n",
    "\n",
    "        **Ventajas:**\n",
    "\n",
    "        * Muy intuitivo y fácil de implementar.\n",
    "        * Preserva la distribución de los datos linealmente.\n",
    "        * Útil cuando se quiere que todos los valores estén en un rango fijo, como \\[0,1] (por ejemplo, en redes neuronales con funciones de activación tipo sigmoide).\n",
    "\n",
    "        **Desventajas:**\n",
    "\n",
    "        * **Muy sensible a valores atípicos (outliers)**: un solo valor extremo puede distorsionar la escala de todo el conjunto.\n",
    "        * No centra los datos alrededor de cero.\n",
    "\n",
    "\n",
    "    - **b) Min-max normalización en el intervalo \\[-1, 1]**\n",
    "\n",
    "\n",
    "        **Ventajas:**\n",
    "\n",
    "        * Igual que la anterior, pero ajustada a un rango simétrico respecto al cero.\n",
    "        * Puede ser más adecuada si se espera que los modelos traten valores negativos y positivos por igual (por ejemplo, activaciones tipo tanh).\n",
    "\n",
    "        **Desventajas:**\n",
    "\n",
    "        * Igual que el método \\[0,1]: sensible a outliers y no cambia la forma de la distribución.\n",
    "\n",
    "\n",
    "    - **c) Normalización por desviación estándar (Z-score)**\n",
    "\n",
    "\n",
    "\n",
    "        **Ventajas:**\n",
    "\n",
    "        * Centra los datos en cero y escala en función de la desviación estándar.\n",
    "        * **Menos afectada por outliers** que min-max (aunque no inmune).\n",
    "        * Ideal para algoritmos que asumen una distribución normal (por ejemplo, regresión lineal, SVM, PCA).\n",
    "\n",
    "        **Desventajas:**\n",
    "\n",
    "        * No limita los valores a un rango fijo; valores extremos pueden mantenerse extremos.\n",
    "        * Supone cierta simetría en los datos, lo que puede ser problemático si la distribución es muy sesgada.\n",
    "\n",
    "\n",
    "    - **d) Escala decimal (decimal scaling)**\n",
    "\n",
    "\n",
    "        **Ventajas:**\n",
    "\n",
    "        * Muy simple y rápido de calcular.\n",
    "        * Controla los valores para mantenerlos en el rango \\[-1,1].\n",
    "\n",
    "        **Desventajas:**\n",
    "\n",
    "        * Solo se basa en la magnitud del valor máximo: **no considera la dispersión de los datos**.\n",
    "        * Puede dar lugar a una escala demasiado \"gruesa\" si hay un único valor grande.\n",
    "        * No centra los datos ni ajusta su distribución.\n",
    "\n"
   ]
  },
  {
   "cell_type": "code",
   "execution_count": 23,
   "id": "8ab84440",
   "metadata": {},
   "outputs": [
    {
     "data": {
      "image/png": "[encoded data removed]",
      "text/plain": [
       "<Figure size 1000x600 with 1 Axes>"
      ]
     },
     "metadata": {},
     "output_type": "display_data"
    }
   ],
   "source": [
    "from matplotlib import pyplot as plt\n",
    "\n",
    "plt.figure(figsize=(10, 6))\n",
    "for k, d in normalized_data.items():\n",
    "    plt.plot(d, marker='o', label=k)\n",
    "\n",
    "plt.title(\"Comparación de métodos de normalización\")\n",
    "plt.xlabel(\"Índice de muestra\")\n",
    "plt.ylabel(\"Valor normalizado\")\n",
    "plt.axhline(0, color='gray', linestyle='--', linewidth=0.5)\n",
    "plt.grid(True, linestyle='--', alpha=0.6)\n",
    "plt.legend()\n",
    "plt.tight_layout()\n",
    "plt.show()"
   ]
  },
  {
   "cell_type": "markdown",
   "id": "f992fb06",
   "metadata": {},
   "source": [
    "---\n",
    "\n",
    "### 2. Valores perdidos\n",
    "\n",
    "Dado un conjunto de datos de 4 dimensiones con valores perdidos:\n",
    "\n",
    "```\n",
    "I1 I2 I3 I4  \n",
    "0  1  1  2  \n",
    "2  1  ?  1  \n",
    "1  ?  ?  0  \n",
    "?  2  1  ?  \n",
    "2  2  1  0\n",
    "```\n"
   ]
  },
  {
   "cell_type": "code",
   "execution_count": 121,
   "id": "b48db0bb",
   "metadata": {},
   "outputs": [
    {
     "data": {
      "text/html": [
       "<div>\n",
       "<style scoped>\n",
       "    .dataframe tbody tr th:only-of-type {\n",
       "        vertical-align: middle;\n",
       "    }\n",
       "\n",
       "    .dataframe tbody tr th {\n",
       "        vertical-align: top;\n",
       "    }\n",
       "\n",
       "    .dataframe thead th {\n",
       "        text-align: right;\n",
       "    }\n",
       "</style>\n",
       "<table border=\"1\" class=\"dataframe\">\n",
       "  <thead>\n",
       "    <tr style=\"text-align: right;\">\n",
       "      <th></th>\n",
       "      <th>I1</th>\n",
       "      <th>I2</th>\n",
       "      <th>I3</th>\n",
       "      <th>I4</th>\n",
       "    </tr>\n",
       "  </thead>\n",
       "  <tbody>\n",
       "    <tr>\n",
       "      <th>0</th>\n",
       "      <td>0.0</td>\n",
       "      <td>1.0</td>\n",
       "      <td>1.0</td>\n",
       "      <td>2.0</td>\n",
       "    </tr>\n",
       "    <tr>\n",
       "      <th>1</th>\n",
       "      <td>2.0</td>\n",
       "      <td>1.0</td>\n",
       "      <td>NaN</td>\n",
       "      <td>1.0</td>\n",
       "    </tr>\n",
       "    <tr>\n",
       "      <th>2</th>\n",
       "      <td>1.0</td>\n",
       "      <td>NaN</td>\n",
       "      <td>NaN</td>\n",
       "      <td>0.0</td>\n",
       "    </tr>\n",
       "    <tr>\n",
       "      <th>3</th>\n",
       "      <td>NaN</td>\n",
       "      <td>2.0</td>\n",
       "      <td>1.0</td>\n",
       "      <td>NaN</td>\n",
       "    </tr>\n",
       "    <tr>\n",
       "      <th>4</th>\n",
       "      <td>2.0</td>\n",
       "      <td>2.0</td>\n",
       "      <td>1.0</td>\n",
       "      <td>0.0</td>\n",
       "    </tr>\n",
       "  </tbody>\n",
       "</table>\n",
       "</div>"
      ],
      "text/plain": [
       "    I1   I2   I3   I4\n",
       "0  0.0  1.0  1.0  2.0\n",
       "1  2.0  1.0  NaN  1.0\n",
       "2  1.0  NaN  NaN  0.0\n",
       "3  NaN  2.0  1.0  NaN\n",
       "4  2.0  2.0  1.0  0.0"
      ]
     },
     "execution_count": 121,
     "metadata": {},
     "output_type": "execute_result"
    }
   ],
   "source": [
    "df = pd.DataFrame(dict(I1=[0,2,1,np.nan,2],I2=[1,1,np.nan,2,2],I3=[1,np.nan,np.nan,1,1],I4=[2,1,0,np.nan,0]))\n",
    "df"
   ]
  },
  {
   "cell_type": "markdown",
   "id": "c6eca89b",
   "metadata": {},
   "source": [
    "\n",
    "* a) Dado que el dominio para todos los atributos es \\[0,1,2], ¿cuál debe ser el número de ejemplos “artificiales” si los valores perdidos son interpretados como “no importa el valor” y ellos son reemplazados con todos los posibles valores para su dominio?\n",
    "\n",
    "    R/ Hay un total de 5 entradas faltantes. Si para cada una de esas entradas se generan 3 ejemplos artificales, 1 por cada valor del dominio tenemos un total de $5\\times 3 =15$ ejemplos artificiales. El sigiente código genera estos ejemplos artificiales.\n"
   ]
  },
  {
   "cell_type": "code",
   "execution_count": 122,
   "id": "ee9fa113",
   "metadata": {},
   "outputs": [
    {
     "name": "stderr",
     "output_type": "stream",
     "text": [
      "C:\\Users\\ACER\\AppData\\Local\\Temp\\ipykernel_16020\\2719312791.py:4: FutureWarning: The previous implementation of stack is deprecated and will be removed in a future version of pandas. See the What's New notes for pandas 2.1.0 for details. Specify future_stack=True to adopt the new implementation and silence this warning.\n",
      "  aux2_df = df.stack(dropna=False).astype(\"object\")\n"
     ]
    },
    {
     "data": {
      "text/html": [
       "<div>\n",
       "<style scoped>\n",
       "    .dataframe tbody tr th:only-of-type {\n",
       "        vertical-align: middle;\n",
       "    }\n",
       "\n",
       "    .dataframe tbody tr th {\n",
       "        vertical-align: top;\n",
       "    }\n",
       "\n",
       "    .dataframe thead th {\n",
       "        text-align: right;\n",
       "    }\n",
       "</style>\n",
       "<table border=\"1\" class=\"dataframe\">\n",
       "  <thead>\n",
       "    <tr style=\"text-align: right;\">\n",
       "      <th></th>\n",
       "      <th>I1</th>\n",
       "      <th>I2</th>\n",
       "      <th>I3</th>\n",
       "      <th>I4</th>\n",
       "    </tr>\n",
       "  </thead>\n",
       "  <tbody>\n",
       "    <tr>\n",
       "      <th>0</th>\n",
       "      <td>0</td>\n",
       "      <td>1</td>\n",
       "      <td>1</td>\n",
       "      <td>2</td>\n",
       "    </tr>\n",
       "    <tr>\n",
       "      <th>1</th>\n",
       "      <td>2</td>\n",
       "      <td>1</td>\n",
       "      <td>0</td>\n",
       "      <td>1</td>\n",
       "    </tr>\n",
       "    <tr>\n",
       "      <th>1</th>\n",
       "      <td>2</td>\n",
       "      <td>1</td>\n",
       "      <td>1</td>\n",
       "      <td>1</td>\n",
       "    </tr>\n",
       "    <tr>\n",
       "      <th>1</th>\n",
       "      <td>2</td>\n",
       "      <td>1</td>\n",
       "      <td>2</td>\n",
       "      <td>1</td>\n",
       "    </tr>\n",
       "    <tr>\n",
       "      <th>2</th>\n",
       "      <td>1</td>\n",
       "      <td>0</td>\n",
       "      <td>0</td>\n",
       "      <td>0</td>\n",
       "    </tr>\n",
       "    <tr>\n",
       "      <th>2</th>\n",
       "      <td>1</td>\n",
       "      <td>0</td>\n",
       "      <td>1</td>\n",
       "      <td>0</td>\n",
       "    </tr>\n",
       "    <tr>\n",
       "      <th>2</th>\n",
       "      <td>1</td>\n",
       "      <td>0</td>\n",
       "      <td>2</td>\n",
       "      <td>0</td>\n",
       "    </tr>\n",
       "    <tr>\n",
       "      <th>2</th>\n",
       "      <td>1</td>\n",
       "      <td>1</td>\n",
       "      <td>0</td>\n",
       "      <td>0</td>\n",
       "    </tr>\n",
       "    <tr>\n",
       "      <th>2</th>\n",
       "      <td>1</td>\n",
       "      <td>1</td>\n",
       "      <td>1</td>\n",
       "      <td>0</td>\n",
       "    </tr>\n",
       "    <tr>\n",
       "      <th>2</th>\n",
       "      <td>1</td>\n",
       "      <td>1</td>\n",
       "      <td>2</td>\n",
       "      <td>0</td>\n",
       "    </tr>\n",
       "    <tr>\n",
       "      <th>2</th>\n",
       "      <td>1</td>\n",
       "      <td>2</td>\n",
       "      <td>0</td>\n",
       "      <td>0</td>\n",
       "    </tr>\n",
       "    <tr>\n",
       "      <th>2</th>\n",
       "      <td>1</td>\n",
       "      <td>2</td>\n",
       "      <td>1</td>\n",
       "      <td>0</td>\n",
       "    </tr>\n",
       "    <tr>\n",
       "      <th>2</th>\n",
       "      <td>1</td>\n",
       "      <td>2</td>\n",
       "      <td>2</td>\n",
       "      <td>0</td>\n",
       "    </tr>\n",
       "    <tr>\n",
       "      <th>3</th>\n",
       "      <td>0</td>\n",
       "      <td>2</td>\n",
       "      <td>1</td>\n",
       "      <td>0</td>\n",
       "    </tr>\n",
       "    <tr>\n",
       "      <th>3</th>\n",
       "      <td>0</td>\n",
       "      <td>2</td>\n",
       "      <td>1</td>\n",
       "      <td>1</td>\n",
       "    </tr>\n",
       "    <tr>\n",
       "      <th>3</th>\n",
       "      <td>0</td>\n",
       "      <td>2</td>\n",
       "      <td>1</td>\n",
       "      <td>2</td>\n",
       "    </tr>\n",
       "    <tr>\n",
       "      <th>3</th>\n",
       "      <td>1</td>\n",
       "      <td>2</td>\n",
       "      <td>1</td>\n",
       "      <td>0</td>\n",
       "    </tr>\n",
       "    <tr>\n",
       "      <th>3</th>\n",
       "      <td>1</td>\n",
       "      <td>2</td>\n",
       "      <td>1</td>\n",
       "      <td>1</td>\n",
       "    </tr>\n",
       "    <tr>\n",
       "      <th>3</th>\n",
       "      <td>1</td>\n",
       "      <td>2</td>\n",
       "      <td>1</td>\n",
       "      <td>2</td>\n",
       "    </tr>\n",
       "    <tr>\n",
       "      <th>3</th>\n",
       "      <td>2</td>\n",
       "      <td>2</td>\n",
       "      <td>1</td>\n",
       "      <td>0</td>\n",
       "    </tr>\n",
       "    <tr>\n",
       "      <th>3</th>\n",
       "      <td>2</td>\n",
       "      <td>2</td>\n",
       "      <td>1</td>\n",
       "      <td>1</td>\n",
       "    </tr>\n",
       "    <tr>\n",
       "      <th>3</th>\n",
       "      <td>2</td>\n",
       "      <td>2</td>\n",
       "      <td>1</td>\n",
       "      <td>2</td>\n",
       "    </tr>\n",
       "    <tr>\n",
       "      <th>4</th>\n",
       "      <td>2</td>\n",
       "      <td>2</td>\n",
       "      <td>1</td>\n",
       "      <td>0</td>\n",
       "    </tr>\n",
       "  </tbody>\n",
       "</table>\n",
       "</div>"
      ],
      "text/plain": [
       "   I1  I2  I3  I4\n",
       "0   0   1   1   2\n",
       "1   2   1   0   1\n",
       "1   2   1   1   1\n",
       "1   2   1   2   1\n",
       "2   1   0   0   0\n",
       "2   1   0   1   0\n",
       "2   1   0   2   0\n",
       "2   1   1   0   0\n",
       "2   1   1   1   0\n",
       "2   1   1   2   0\n",
       "2   1   2   0   0\n",
       "2   1   2   1   0\n",
       "2   1   2   2   0\n",
       "3   0   2   1   0\n",
       "3   0   2   1   1\n",
       "3   0   2   1   2\n",
       "3   1   2   1   0\n",
       "3   1   2   1   1\n",
       "3   1   2   1   2\n",
       "3   2   2   1   0\n",
       "3   2   2   1   1\n",
       "3   2   2   1   2\n",
       "4   2   2   1   0"
      ]
     },
     "execution_count": 122,
     "metadata": {},
     "output_type": "execute_result"
    }
   ],
   "source": [
    "aux_df = df.isna().stack()\n",
    "nans_pos = aux_df[aux_df].index\n",
    "\n",
    "aux2_df = df.stack(dropna=False).astype(\"object\")\n",
    "for i in nans_pos:\n",
    "    aux2_df[i] = [0,1,2]\n",
    "\n",
    "aux2_df = aux2_df.unstack()\n",
    "\n",
    "for col in df.columns:\n",
    "    aux2_df = aux2_df.explode(col)\n",
    "aux2_df.astype(int)"
   ]
  },
  {
   "cell_type": "markdown",
   "id": "bad6563a",
   "metadata": {},
   "source": [
    "* b) ¿Qué otro método utilizaría para reemplazar los valores perdidos?\n",
    "    - Se pueden rellenar los valores faltantes con una medida de tendencia central de cada columna. Por ejemplo se puede rellenar con la mediana de cada columna."
   ]
  },
  {
   "cell_type": "code",
   "execution_count": 124,
   "id": "2b6c110b",
   "metadata": {},
   "outputs": [
    {
     "data": {
      "text/html": [
       "<div>\n",
       "<style scoped>\n",
       "    .dataframe tbody tr th:only-of-type {\n",
       "        vertical-align: middle;\n",
       "    }\n",
       "\n",
       "    .dataframe tbody tr th {\n",
       "        vertical-align: top;\n",
       "    }\n",
       "\n",
       "    .dataframe thead th {\n",
       "        text-align: right;\n",
       "    }\n",
       "</style>\n",
       "<table border=\"1\" class=\"dataframe\">\n",
       "  <thead>\n",
       "    <tr style=\"text-align: right;\">\n",
       "      <th></th>\n",
       "      <th>I1</th>\n",
       "      <th>I2</th>\n",
       "      <th>I3</th>\n",
       "      <th>I4</th>\n",
       "    </tr>\n",
       "  </thead>\n",
       "  <tbody>\n",
       "    <tr>\n",
       "      <th>0</th>\n",
       "      <td>0.0</td>\n",
       "      <td>1.0</td>\n",
       "      <td>1.0</td>\n",
       "      <td>2.0</td>\n",
       "    </tr>\n",
       "    <tr>\n",
       "      <th>1</th>\n",
       "      <td>2.0</td>\n",
       "      <td>1.0</td>\n",
       "      <td>1.0</td>\n",
       "      <td>1.0</td>\n",
       "    </tr>\n",
       "    <tr>\n",
       "      <th>2</th>\n",
       "      <td>1.0</td>\n",
       "      <td>1.5</td>\n",
       "      <td>1.0</td>\n",
       "      <td>0.0</td>\n",
       "    </tr>\n",
       "    <tr>\n",
       "      <th>3</th>\n",
       "      <td>1.5</td>\n",
       "      <td>2.0</td>\n",
       "      <td>1.0</td>\n",
       "      <td>0.5</td>\n",
       "    </tr>\n",
       "    <tr>\n",
       "      <th>4</th>\n",
       "      <td>2.0</td>\n",
       "      <td>2.0</td>\n",
       "      <td>1.0</td>\n",
       "      <td>0.0</td>\n",
       "    </tr>\n",
       "  </tbody>\n",
       "</table>\n",
       "</div>"
      ],
      "text/plain": [
       "    I1   I2   I3   I4\n",
       "0  0.0  1.0  1.0  2.0\n",
       "1  2.0  1.0  1.0  1.0\n",
       "2  1.0  1.5  1.0  0.0\n",
       "3  1.5  2.0  1.0  0.5\n",
       "4  2.0  2.0  1.0  0.0"
      ]
     },
     "execution_count": 124,
     "metadata": {},
     "output_type": "execute_result"
    }
   ],
   "source": [
    "df.fillna(df.median())"
   ]
  },
  {
   "cell_type": "markdown",
   "id": "9b35bd5a",
   "metadata": {},
   "source": [
    "\n",
    "---\n",
    "\n",
    "### 3. Outliers en número de hijos\n",
    "\n",
    "El número de hijos de diferentes pacientes es dado por el siguiente vector:\n",
    "**C = {3, 1, 0, 2, 7, 3, 6, 4, -2, 0, 0, 10, 15, 6}**\n"
   ]
  },
  {
   "cell_type": "code",
   "execution_count": 111,
   "id": "114a28e2",
   "metadata": {},
   "outputs": [],
   "source": [
    "C = np.array([3, 1, 0, 2, 7, 3, 6, 4, -2, 0, 0, 10, 15, 6])"
   ]
  },
  {
   "cell_type": "markdown",
   "id": "d6acf728",
   "metadata": {},
   "source": [
    "\n",
    "* a) Encontrar outliers usando parámetros estadísticos estándar: media y varianza\n",
    "\n",
    "    R/ No hay outliers usando el criterio de 3 desviaciones estandar.\n"
   ]
  },
  {
   "cell_type": "code",
   "execution_count": 112,
   "id": "d40267e9",
   "metadata": {},
   "outputs": [
    {
     "data": {
      "text/plain": [
       "array([-0.21030754, -0.66327761, -0.88976265, -0.43679257,  0.69563262,\n",
       "       -0.21030754,  0.46914758,  0.0161775 , -1.34273272, -0.88976265,\n",
       "       -0.88976265,  1.37508773,  2.50751292,  0.46914758])"
      ]
     },
     "execution_count": 112,
     "metadata": {},
     "output_type": "execute_result"
    }
   ],
   "source": [
    "C_normalized = (C-C.mean())/C.std()\n",
    "C_normalized"
   ]
  },
  {
   "cell_type": "code",
   "execution_count": 113,
   "id": "35536430",
   "metadata": {},
   "outputs": [
    {
     "data": {
      "text/plain": [
       "array([], dtype=int64)"
      ]
     },
     "execution_count": 113,
     "metadata": {},
     "output_type": "execute_result"
    }
   ],
   "source": [
    "C[abs(C_normalized)>3]"
   ]
  },
  {
   "cell_type": "markdown",
   "id": "90afd618",
   "metadata": {},
   "source": [
    "* b) Si el umbral cambia de ±3 desviaciones estándar a ±2 desviaciones estándar, ¿cuál “outlier adicional” se encuentra?\n",
    "\n",
    "    R/ Se encuentra que _15_ es un outlier bajo el nuevo criterio.\n"
   ]
  },
  {
   "cell_type": "code",
   "execution_count": 114,
   "id": "4dac7cce",
   "metadata": {},
   "outputs": [
    {
     "data": {
      "text/plain": [
       "array([15])"
      ]
     },
     "execution_count": 114,
     "metadata": {},
     "output_type": "execute_result"
    }
   ],
   "source": [
    "C[abs(C_normalized)>2]"
   ]
  },
  {
   "cell_type": "markdown",
   "id": "ffb07b42",
   "metadata": {},
   "source": [
    "\n",
    "---\n",
    "\n",
    "### 4. Detección de outliers multivariados\n",
    "\n",
    "Dado un conjunto de tres dimensiones:\n",
    "\n",
    "```\n",
    "X = [{1,2,0},{3,1,4},{2,1,5},{0,1,6},{2,4,3},{4,4,2},{5,2,1},{7,7,7},{0,0,0},{3,3,3}]\n",
    "```\n"
   ]
  },
  {
   "cell_type": "code",
   "execution_count": 115,
   "id": "78265511",
   "metadata": {},
   "outputs": [
    {
     "data": {
      "text/plain": [
       "array([[1, 2, 0],\n",
       "       [3, 1, 4],\n",
       "       [2, 1, 5],\n",
       "       [0, 1, 6],\n",
       "       [2, 4, 3],\n",
       "       [4, 4, 2],\n",
       "       [5, 2, 1],\n",
       "       [7, 7, 7],\n",
       "       [0, 0, 0],\n",
       "       [3, 3, 3]])"
      ]
     },
     "execution_count": 115,
     "metadata": {},
     "output_type": "execute_result"
    }
   ],
   "source": [
    "X = np.array([[1,2,0],[3,1,4],[2,1,5],[0,1,6],[2,4,3],[4,4,2],[5,2,1],[7,7,7],[0,0,0],[3,3,3]])\n",
    "X"
   ]
  },
  {
   "cell_type": "markdown",
   "id": "aeb8b531",
   "metadata": {},
   "source": [
    "\n",
    "* a) Describir el procedimiento e interpretar los resultados de detección de outliers basado en la media y varianza\n",
    "\n",
    "    Se propone realizar PCA de un único componente tal que sobre este se puedan aplicar una técninca unidimensional de detección de outliers.\n"
   ]
  },
  {
   "cell_type": "code",
   "execution_count": 116,
   "id": "daf5fc4c",
   "metadata": {},
   "outputs": [
    {
     "data": {
      "text/plain": [
       "array([[-3.01860763],\n",
       "       [-0.19030271],\n",
       "       [-0.24505936],\n",
       "       [-0.903921  ],\n",
       "       [ 0.38813939],\n",
       "       [ 1.04700104],\n",
       "       [-0.05283928],\n",
       "       [ 7.33795324],\n",
       "       [-4.7773096 ],\n",
       "       [ 0.41494591]])"
      ]
     },
     "execution_count": 116,
     "metadata": {},
     "output_type": "execute_result"
    }
   ],
   "source": [
    "from sklearn.decomposition import PCA\n",
    "\n",
    "pca = PCA(n_components=1)\n",
    "x_pca = pca.fit_transform(X)\n",
    "\n",
    "x_pca\n"
   ]
  },
  {
   "cell_type": "code",
   "execution_count": 117,
   "id": "83707051",
   "metadata": {},
   "outputs": [
    {
     "data": {
      "text/plain": [
       "array([[-1.01690579],\n",
       "       [-0.064109  ],\n",
       "       [-0.08255537],\n",
       "       [-0.30451209],\n",
       "       [ 0.13075604],\n",
       "       [ 0.35271276],\n",
       "       [-0.01780045],\n",
       "       [ 2.47200301],\n",
       "       [-1.60937571],\n",
       "       [ 0.1397866 ]])"
      ]
     },
     "execution_count": 117,
     "metadata": {},
     "output_type": "execute_result"
    }
   ],
   "source": [
    "x_pca_normalized = (x_pca-x_pca.mean())/x_pca.std()\n",
    "x_pca_normalized"
   ]
  },
  {
   "cell_type": "markdown",
   "id": "09893ae0",
   "metadata": {},
   "source": [
    "Sobre nuestros nuevos datos unidimensionales realizamos detección de outliers mediante desviación estándar. El criterio será **más de 2 desviaciones estándar**."
   ]
  },
  {
   "cell_type": "code",
   "execution_count": 118,
   "id": "7cc94e8b",
   "metadata": {},
   "outputs": [
    {
     "data": {
      "text/plain": [
       "array([7, 7, 7])"
      ]
     },
     "execution_count": 118,
     "metadata": {},
     "output_type": "execute_result"
    }
   ],
   "source": [
    "x_pca_normalized_br,_ = np.broadcast_arrays(x_pca_normalized,X)\n",
    "\n",
    "X[(abs(x_pca_normalized_br)>2)]"
   ]
  },
  {
   "cell_type": "markdown",
   "id": "5ab8ca39",
   "metadata": {},
   "source": [
    "\n",
    "---\n",
    "\n",
    "### 5. Weka: valores perdidos, normalización y discretización\n",
    "\n",
    "Usar el conjunto de datos *iris* en Weka:\n",
    "\n",
    "* a) Eliminar manualmente valores (15%) en sus atributos para simular valores perdidos. Luego aplicar varios métodos disponibles en Weka para reemplazar esos valores. Discutir:\n",
    "\n",
    "  * Diferencias entre el valor real y el que lo reemplaza\n",
    "  * Diferencias entre los métodos\n",
    "* b) Normalizar usando varios métodos\n",
    "* c) Discretizar usando varios métodos\n"
   ]
  },
  {
   "cell_type": "markdown",
   "id": "ef6fe64d",
   "metadata": {},
   "source": [
    "\n",
    "---\n",
    "\n",
    "### 6. Reducción por binning\n",
    "\n",
    "Dado el conjunto de datos:\n",
    "\n",
    "```\n",
    "I1  I2   I3  \n",
    "1   5.9  3.4  \n",
    "2   2.1  6.2  \n",
    "1   1.6  2.8  \n",
    "2   6.8  5.8  \n",
    "1   3.1  3.1  \n",
    "1   8.3  4.1  \n",
    "2   2.4  5.0  \n",
    "```\n",
    "\n",
    "Realizar reducción de valores basado en la técnica de **binning** con el mejor corte:\n",
    "\n",
    "* a) Dimensión I2 usando la **media** como representante de 2 bins\n",
    "* b) Dimensión I3 usando el **límite más cercano** como representante de 2 bins\n",
    "  *(Mostrar pasos)*\n"
   ]
  },
  {
   "cell_type": "markdown",
   "id": "932785ea",
   "metadata": {},
   "source": [
    "\n",
    "---\n",
    "\n",
    "### 7. Ranking de dimensiones\n",
    "\n",
    "Dado el conjunto de datos con tres dimensiones de entrada y una clase:\n",
    "\n",
    "```\n",
    "I1   I2   I3   C  \n",
    "2.5  1.6  5.9  0  \n",
    "7.2  4.3  2.1  1  \n",
    "3.4  5.8  1.6  1  \n",
    "5.6  3.6  6.8  0  \n",
    "4.8  7.2  3.1  1  \n",
    "8.1  4.9  8.3  0  \n",
    "6.3  4.8  2.4  1  \n",
    "```\n",
    "\n",
    "* Realizar **ranking** de las dimensiones comparando medias y varianzas\n"
   ]
  },
  {
   "cell_type": "markdown",
   "id": "79a69438",
   "metadata": {},
   "source": [
    "\n",
    "---\n",
    "\n",
    "### 8. Selección de características por entropía\n",
    "\n",
    "Dado el conjunto de datos donde **X1** y **X2** son numéricas, y **X3** y **X4** categóricas:\n",
    "\n",
    "```\n",
    "X1  X2  X3  X4  \n",
    "2.7 3.4 1   A  \n",
    "3.1 6.2 2   A  \n",
    "4.5 2.8 1   B  \n",
    "5.3 5.8 2   B  \n",
    "6.6 3.1 1   A  \n",
    "5.0 4.1 2   B  \n",
    "```\n",
    "\n",
    "* a) Aplicar el método de **selección de características basado en entropía** para reducir una dimensión (mostrar pasos)\n",
    "* b) Implementar un programa para realizar el **ranking de dimensiones** usando entropía\n"
   ]
  },
  {
   "cell_type": "markdown",
   "id": "33db33ae",
   "metadata": {},
   "source": [
    "### 8.a) Cálculo de ganancia de información (Information Gain)"
   ]
  },
  {
   "cell_type": "code",
   "execution_count": null,
   "id": "4104cf92",
   "metadata": {},
   "outputs": [
    {
     "name": "stdout",
     "output_type": "stream",
     "text": [
      "Entropía de X4 (objetivo): 1.0\n",
      "\n",
      "Ganancia de información por característica:\n",
      "  - X1: 0.0817\n",
      "  - X2: 0.0817\n",
      "  - X3: 0.0817\n"
     ]
    }
   ],
   "source": [
    "import pandas as pd\n",
    "import numpy as np\n",
    "\n",
    "# 1. Definir el DataFrame\n",
    "data = {\n",
    "    'X1': [2.7, 3.1, 4.5, 5.3, 6.6, 5.0],\n",
    "    'X2': [3.4, 6.2, 2.8, 5.8, 3.1, 4.1],\n",
    "    'X3': [1,   2,   1,   2,   1,   2],\n",
    "    'X4': ['A', 'A', 'B', 'B', 'A', 'B']\n",
    "}\n",
    "df = pd.DataFrame(data)\n",
    "\n",
    "# 2. Función para calcular la entropía de una serie\n",
    "def entropy(labels: pd.Series) -> float:\n",
    "    p = labels.value_counts(normalize=True)\n",
    "    return -np.sum(p * np.log2(p))\n",
    "\n",
    "# 3. Entropía del objetivo (X4)\n",
    "H_Y = entropy(df['X4'])\n",
    "\n",
    "# 4. Para cada característica, calcular la entropía condicional y la ganancia de información\n",
    "features = ['X1', 'X2', 'X3']\n",
    "info_gain = {}\n",
    "\n",
    "for feat in features:\n",
    "    # 4.a) Si es continua (X1, X2), primero discretizamos en 2 bins\n",
    "    if feat in ['X1', 'X2']:\n",
    "        bins = pd.qcut(df[feat], q=2, labels=False)\n",
    "        df[f'{feat}_bin'] = bins\n",
    "        groups = df[f'{feat}_bin']\n",
    "    else:\n",
    "        groups = df[feat]\n",
    "    \n",
    "    # 4.b) Entropía condicional H(Y|feat)\n",
    "    H_Y_given_feat = 0.0\n",
    "    for val, subset in df.groupby(groups)['X4']:\n",
    "        H_Y_given_feat += (len(subset) / len(df)) * entropy(subset)\n",
    "    \n",
    "    # 4.c) Ganancia de información\n",
    "    info_gain[feat] = H_Y - H_Y_given_feat\n",
    "\n",
    "# Mostrar resultados\n",
    "print(\"Entropía de X4 (objetivo):\", H_Y)\n",
    "print(\"\\nGanancia de información por característica:\")\n",
    "for feat, ig in info_gain.items():\n",
    "    print(f\"  - {feat}: {ig:.4f}\")"
   ]
  },
  {
   "cell_type": "markdown",
   "id": "b4a4095d",
   "metadata": {},
   "source": [
    "### 8.b) Ranking de características y reducción\n"
   ]
  },
  {
   "cell_type": "code",
   "execution_count": null,
   "id": "ce31c303",
   "metadata": {},
   "outputs": [
    {
     "name": "stdout",
     "output_type": "stream",
     "text": [
      "\n",
      "Ranking de características (descendente por IG):\n",
      "  X1: 0.0817\n",
      "  X2: 0.0817\n",
      "  X3: 0.0817\n",
      "\n",
      "Características a conservar: ['X1', 'X2']\n",
      "Características eliminadas: X3\n"
     ]
    }
   ],
   "source": [
    "# 5. Ordenar las características por IG descendente\n",
    "ranking = sorted(info_gain.items(), key=lambda x: x[1], reverse=True)\n",
    "print(\"\\nRanking de características (descendente por IG):\")\n",
    "for feat, ig in ranking:\n",
    "    print(f\"  {feat}: {ig:.4f}\")\n",
    "\n",
    "# 6. Reducir una dimensión: eliminar la de IG más baja\n",
    "to_drop = ranking[-1][0]\n",
    "print(f\"\\nCaracterísticas a conservar: {[f for f, _ in ranking[:-1]]}\")\n",
    "print(f\"Características eliminadas: {to_drop}\")"
   ]
  },
  {
   "cell_type": "markdown",
   "id": "2f2f8fa4",
   "metadata": {},
   "source": [
    "\n",
    "---\n",
    "\n",
    "### 9. Transformación de atributos en *Adult dataset*\n",
    "\n",
    "Aplicar al conjunto de datos *Adult* del repositorio de Machine Learning:\n",
    "\n",
    "* a) Convertir todos los atributos numéricos a categóricos utilizando dos estrategias diferentes\n",
    "* b) Transformar el conjunto de datos para que **todos los atributos sean numéricos**\n"
   ]
  },
  {
   "cell_type": "code",
   "execution_count": 10,
   "id": "b41a1e58",
   "metadata": {},
   "outputs": [],
   "source": [
    "from sklearn.preprocessing import OrdinalEncoder\n",
    "\n",
    "# 1. Cargar el dataset Adult (asegúrate de tener 'adult.data' en el mismo directorio)\n",
    "column_names = [\n",
    "    'age','workclass','fnlwgt','education','education_num','marital_status',\n",
    "    'occupation','relationship','race','sex','capital_gain','capital_loss',\n",
    "    'hours_per_week','native_country','income'\n",
    "]\n",
    "adult = pd.read_csv('adult/adult.data', names=column_names, na_values=' ?')\n",
    "\n",
    "# 2. Identificar columnas numéricas\n",
    "num_cols = adult.select_dtypes(include=['int64','float64']).columns.tolist()"
   ]
  },
  {
   "cell_type": "markdown",
   "id": "00658885",
   "metadata": {},
   "source": [
    "### a) Estrategia 1: Equal-width binning en 3 bins"
   ]
  },
  {
   "cell_type": "code",
   "execution_count": 11,
   "id": "73380d90",
   "metadata": {},
   "outputs": [],
   "source": [
    "# 3.a) Estrategia 1: Equal-width binning en 3 bins\n",
    "adult_eq_width = adult.copy()\n",
    "for col in num_cols:\n",
    "    adult_eq_width[col] = pd.cut(adult_eq_width[col], bins=3, labels=False)"
   ]
  },
  {
   "cell_type": "markdown",
   "id": "7895e61b",
   "metadata": {},
   "source": [
    "### b) Estrategia 2: Equal-frequency binning en 4 bins"
   ]
  },
  {
   "cell_type": "code",
   "execution_count": 12,
   "id": "e53e91df",
   "metadata": {},
   "outputs": [],
   "source": [
    "# 3.b) Estrategia 2: Equal-frequency binning en 4 bins\n",
    "adult_eq_freq = adult.copy()\n",
    "for col in num_cols:\n",
    "    adult_eq_freq[col] = pd.qcut(adult_eq_freq[col], q=4, labels=False, duplicates='drop')"
   ]
  },
  {
   "cell_type": "code",
   "execution_count": 13,
   "id": "1a78f94a",
   "metadata": {},
   "outputs": [],
   "source": [
    "# 4) Transformación completa a numérico (ordinal encoding de categóricas)\n",
    "adult_numeric = adult.copy()\n",
    "cat_cols = adult_numeric.select_dtypes(include=['object']).columns.tolist()\n",
    "encoder = OrdinalEncoder()\n",
    "adult_numeric[cat_cols] = encoder.fit_transform(adult_numeric[cat_cols].fillna('Missing'))\n"
   ]
  },
  {
   "cell_type": "code",
   "execution_count": 14,
   "id": "28e5f15b",
   "metadata": {},
   "outputs": [
    {
     "name": "stdout",
     "output_type": "stream",
     "text": [
      "== Equal-width ==\n"
     ]
    },
    {
     "data": {
      "text/html": [
       "<div>\n",
       "<style scoped>\n",
       "    .dataframe tbody tr th:only-of-type {\n",
       "        vertical-align: middle;\n",
       "    }\n",
       "\n",
       "    .dataframe tbody tr th {\n",
       "        vertical-align: top;\n",
       "    }\n",
       "\n",
       "    .dataframe thead th {\n",
       "        text-align: right;\n",
       "    }\n",
       "</style>\n",
       "<table border=\"1\" class=\"dataframe\">\n",
       "  <thead>\n",
       "    <tr style=\"text-align: right;\">\n",
       "      <th></th>\n",
       "      <th>age</th>\n",
       "      <th>workclass</th>\n",
       "      <th>fnlwgt</th>\n",
       "      <th>education</th>\n",
       "      <th>education_num</th>\n",
       "      <th>marital_status</th>\n",
       "      <th>occupation</th>\n",
       "      <th>relationship</th>\n",
       "      <th>race</th>\n",
       "      <th>sex</th>\n",
       "      <th>capital_gain</th>\n",
       "      <th>capital_loss</th>\n",
       "      <th>hours_per_week</th>\n",
       "      <th>native_country</th>\n",
       "      <th>income</th>\n",
       "    </tr>\n",
       "  </thead>\n",
       "  <tbody>\n",
       "    <tr>\n",
       "      <th>0</th>\n",
       "      <td>0</td>\n",
       "      <td>State-gov</td>\n",
       "      <td>0</td>\n",
       "      <td>Bachelors</td>\n",
       "      <td>2</td>\n",
       "      <td>Never-married</td>\n",
       "      <td>Adm-clerical</td>\n",
       "      <td>Not-in-family</td>\n",
       "      <td>White</td>\n",
       "      <td>Male</td>\n",
       "      <td>0</td>\n",
       "      <td>0</td>\n",
       "      <td>1</td>\n",
       "      <td>United-States</td>\n",
       "      <td>&lt;=50K</td>\n",
       "    </tr>\n",
       "    <tr>\n",
       "      <th>1</th>\n",
       "      <td>1</td>\n",
       "      <td>Self-emp-not-inc</td>\n",
       "      <td>0</td>\n",
       "      <td>Bachelors</td>\n",
       "      <td>2</td>\n",
       "      <td>Married-civ-spouse</td>\n",
       "      <td>Exec-managerial</td>\n",
       "      <td>Husband</td>\n",
       "      <td>White</td>\n",
       "      <td>Male</td>\n",
       "      <td>0</td>\n",
       "      <td>0</td>\n",
       "      <td>0</td>\n",
       "      <td>United-States</td>\n",
       "      <td>&lt;=50K</td>\n",
       "    </tr>\n",
       "    <tr>\n",
       "      <th>2</th>\n",
       "      <td>0</td>\n",
       "      <td>Private</td>\n",
       "      <td>0</td>\n",
       "      <td>HS-grad</td>\n",
       "      <td>1</td>\n",
       "      <td>Divorced</td>\n",
       "      <td>Handlers-cleaners</td>\n",
       "      <td>Not-in-family</td>\n",
       "      <td>White</td>\n",
       "      <td>Male</td>\n",
       "      <td>0</td>\n",
       "      <td>0</td>\n",
       "      <td>1</td>\n",
       "      <td>United-States</td>\n",
       "      <td>&lt;=50K</td>\n",
       "    </tr>\n",
       "    <tr>\n",
       "      <th>3</th>\n",
       "      <td>1</td>\n",
       "      <td>Private</td>\n",
       "      <td>0</td>\n",
       "      <td>11th</td>\n",
       "      <td>1</td>\n",
       "      <td>Married-civ-spouse</td>\n",
       "      <td>Handlers-cleaners</td>\n",
       "      <td>Husband</td>\n",
       "      <td>Black</td>\n",
       "      <td>Male</td>\n",
       "      <td>0</td>\n",
       "      <td>0</td>\n",
       "      <td>1</td>\n",
       "      <td>United-States</td>\n",
       "      <td>&lt;=50K</td>\n",
       "    </tr>\n",
       "    <tr>\n",
       "      <th>4</th>\n",
       "      <td>0</td>\n",
       "      <td>Private</td>\n",
       "      <td>0</td>\n",
       "      <td>Bachelors</td>\n",
       "      <td>2</td>\n",
       "      <td>Married-civ-spouse</td>\n",
       "      <td>Prof-specialty</td>\n",
       "      <td>Wife</td>\n",
       "      <td>Black</td>\n",
       "      <td>Female</td>\n",
       "      <td>0</td>\n",
       "      <td>0</td>\n",
       "      <td>1</td>\n",
       "      <td>Cuba</td>\n",
       "      <td>&lt;=50K</td>\n",
       "    </tr>\n",
       "  </tbody>\n",
       "</table>\n",
       "</div>"
      ],
      "text/plain": [
       "   age          workclass  fnlwgt   education  education_num  \\\n",
       "0    0          State-gov       0   Bachelors              2   \n",
       "1    1   Self-emp-not-inc       0   Bachelors              2   \n",
       "2    0            Private       0     HS-grad              1   \n",
       "3    1            Private       0        11th              1   \n",
       "4    0            Private       0   Bachelors              2   \n",
       "\n",
       "        marital_status          occupation    relationship    race      sex  \\\n",
       "0        Never-married        Adm-clerical   Not-in-family   White     Male   \n",
       "1   Married-civ-spouse     Exec-managerial         Husband   White     Male   \n",
       "2             Divorced   Handlers-cleaners   Not-in-family   White     Male   \n",
       "3   Married-civ-spouse   Handlers-cleaners         Husband   Black     Male   \n",
       "4   Married-civ-spouse      Prof-specialty            Wife   Black   Female   \n",
       "\n",
       "   capital_gain  capital_loss  hours_per_week  native_country  income  \n",
       "0             0             0               1   United-States   <=50K  \n",
       "1             0             0               0   United-States   <=50K  \n",
       "2             0             0               1   United-States   <=50K  \n",
       "3             0             0               1   United-States   <=50K  \n",
       "4             0             0               1            Cuba   <=50K  "
      ]
     },
     "metadata": {},
     "output_type": "display_data"
    },
    {
     "name": "stdout",
     "output_type": "stream",
     "text": [
      "== Equal-frequency ==\n"
     ]
    },
    {
     "data": {
      "text/html": [
       "<div>\n",
       "<style scoped>\n",
       "    .dataframe tbody tr th:only-of-type {\n",
       "        vertical-align: middle;\n",
       "    }\n",
       "\n",
       "    .dataframe tbody tr th {\n",
       "        vertical-align: top;\n",
       "    }\n",
       "\n",
       "    .dataframe thead th {\n",
       "        text-align: right;\n",
       "    }\n",
       "</style>\n",
       "<table border=\"1\" class=\"dataframe\">\n",
       "  <thead>\n",
       "    <tr style=\"text-align: right;\">\n",
       "      <th></th>\n",
       "      <th>age</th>\n",
       "      <th>workclass</th>\n",
       "      <th>fnlwgt</th>\n",
       "      <th>education</th>\n",
       "      <th>education_num</th>\n",
       "      <th>marital_status</th>\n",
       "      <th>occupation</th>\n",
       "      <th>relationship</th>\n",
       "      <th>race</th>\n",
       "      <th>sex</th>\n",
       "      <th>capital_gain</th>\n",
       "      <th>capital_loss</th>\n",
       "      <th>hours_per_week</th>\n",
       "      <th>native_country</th>\n",
       "      <th>income</th>\n",
       "    </tr>\n",
       "  </thead>\n",
       "  <tbody>\n",
       "    <tr>\n",
       "      <th>0</th>\n",
       "      <td>2</td>\n",
       "      <td>State-gov</td>\n",
       "      <td>0</td>\n",
       "      <td>Bachelors</td>\n",
       "      <td>3</td>\n",
       "      <td>Never-married</td>\n",
       "      <td>Adm-clerical</td>\n",
       "      <td>Not-in-family</td>\n",
       "      <td>White</td>\n",
       "      <td>Male</td>\n",
       "      <td>0</td>\n",
       "      <td>0</td>\n",
       "      <td>0</td>\n",
       "      <td>United-States</td>\n",
       "      <td>&lt;=50K</td>\n",
       "    </tr>\n",
       "    <tr>\n",
       "      <th>1</th>\n",
       "      <td>3</td>\n",
       "      <td>Self-emp-not-inc</td>\n",
       "      <td>0</td>\n",
       "      <td>Bachelors</td>\n",
       "      <td>3</td>\n",
       "      <td>Married-civ-spouse</td>\n",
       "      <td>Exec-managerial</td>\n",
       "      <td>Husband</td>\n",
       "      <td>White</td>\n",
       "      <td>Male</td>\n",
       "      <td>0</td>\n",
       "      <td>0</td>\n",
       "      <td>0</td>\n",
       "      <td>United-States</td>\n",
       "      <td>&lt;=50K</td>\n",
       "    </tr>\n",
       "    <tr>\n",
       "      <th>2</th>\n",
       "      <td>2</td>\n",
       "      <td>Private</td>\n",
       "      <td>2</td>\n",
       "      <td>HS-grad</td>\n",
       "      <td>0</td>\n",
       "      <td>Divorced</td>\n",
       "      <td>Handlers-cleaners</td>\n",
       "      <td>Not-in-family</td>\n",
       "      <td>White</td>\n",
       "      <td>Male</td>\n",
       "      <td>0</td>\n",
       "      <td>0</td>\n",
       "      <td>0</td>\n",
       "      <td>United-States</td>\n",
       "      <td>&lt;=50K</td>\n",
       "    </tr>\n",
       "    <tr>\n",
       "      <th>3</th>\n",
       "      <td>3</td>\n",
       "      <td>Private</td>\n",
       "      <td>2</td>\n",
       "      <td>11th</td>\n",
       "      <td>0</td>\n",
       "      <td>Married-civ-spouse</td>\n",
       "      <td>Handlers-cleaners</td>\n",
       "      <td>Husband</td>\n",
       "      <td>Black</td>\n",
       "      <td>Male</td>\n",
       "      <td>0</td>\n",
       "      <td>0</td>\n",
       "      <td>0</td>\n",
       "      <td>United-States</td>\n",
       "      <td>&lt;=50K</td>\n",
       "    </tr>\n",
       "    <tr>\n",
       "      <th>4</th>\n",
       "      <td>0</td>\n",
       "      <td>Private</td>\n",
       "      <td>3</td>\n",
       "      <td>Bachelors</td>\n",
       "      <td>3</td>\n",
       "      <td>Married-civ-spouse</td>\n",
       "      <td>Prof-specialty</td>\n",
       "      <td>Wife</td>\n",
       "      <td>Black</td>\n",
       "      <td>Female</td>\n",
       "      <td>0</td>\n",
       "      <td>0</td>\n",
       "      <td>0</td>\n",
       "      <td>Cuba</td>\n",
       "      <td>&lt;=50K</td>\n",
       "    </tr>\n",
       "  </tbody>\n",
       "</table>\n",
       "</div>"
      ],
      "text/plain": [
       "   age          workclass  fnlwgt   education  education_num  \\\n",
       "0    2          State-gov       0   Bachelors              3   \n",
       "1    3   Self-emp-not-inc       0   Bachelors              3   \n",
       "2    2            Private       2     HS-grad              0   \n",
       "3    3            Private       2        11th              0   \n",
       "4    0            Private       3   Bachelors              3   \n",
       "\n",
       "        marital_status          occupation    relationship    race      sex  \\\n",
       "0        Never-married        Adm-clerical   Not-in-family   White     Male   \n",
       "1   Married-civ-spouse     Exec-managerial         Husband   White     Male   \n",
       "2             Divorced   Handlers-cleaners   Not-in-family   White     Male   \n",
       "3   Married-civ-spouse   Handlers-cleaners         Husband   Black     Male   \n",
       "4   Married-civ-spouse      Prof-specialty            Wife   Black   Female   \n",
       "\n",
       "   capital_gain  capital_loss  hours_per_week  native_country  income  \n",
       "0             0             0               0   United-States   <=50K  \n",
       "1             0             0               0   United-States   <=50K  \n",
       "2             0             0               0   United-States   <=50K  \n",
       "3             0             0               0   United-States   <=50K  \n",
       "4             0             0               0            Cuba   <=50K  "
      ]
     },
     "metadata": {},
     "output_type": "display_data"
    },
    {
     "name": "stdout",
     "output_type": "stream",
     "text": [
      "== Todos numéricos ==\n"
     ]
    },
    {
     "data": {
      "text/html": [
       "<div>\n",
       "<style scoped>\n",
       "    .dataframe tbody tr th:only-of-type {\n",
       "        vertical-align: middle;\n",
       "    }\n",
       "\n",
       "    .dataframe tbody tr th {\n",
       "        vertical-align: top;\n",
       "    }\n",
       "\n",
       "    .dataframe thead th {\n",
       "        text-align: right;\n",
       "    }\n",
       "</style>\n",
       "<table border=\"1\" class=\"dataframe\">\n",
       "  <thead>\n",
       "    <tr style=\"text-align: right;\">\n",
       "      <th></th>\n",
       "      <th>age</th>\n",
       "      <th>workclass</th>\n",
       "      <th>fnlwgt</th>\n",
       "      <th>education</th>\n",
       "      <th>education_num</th>\n",
       "      <th>marital_status</th>\n",
       "      <th>occupation</th>\n",
       "      <th>relationship</th>\n",
       "      <th>race</th>\n",
       "      <th>sex</th>\n",
       "      <th>capital_gain</th>\n",
       "      <th>capital_loss</th>\n",
       "      <th>hours_per_week</th>\n",
       "      <th>native_country</th>\n",
       "      <th>income</th>\n",
       "    </tr>\n",
       "  </thead>\n",
       "  <tbody>\n",
       "    <tr>\n",
       "      <th>0</th>\n",
       "      <td>39</td>\n",
       "      <td>6.0</td>\n",
       "      <td>77516</td>\n",
       "      <td>9.0</td>\n",
       "      <td>13</td>\n",
       "      <td>4.0</td>\n",
       "      <td>0.0</td>\n",
       "      <td>1.0</td>\n",
       "      <td>4.0</td>\n",
       "      <td>1.0</td>\n",
       "      <td>2174</td>\n",
       "      <td>0</td>\n",
       "      <td>40</td>\n",
       "      <td>38.0</td>\n",
       "      <td>0.0</td>\n",
       "    </tr>\n",
       "    <tr>\n",
       "      <th>1</th>\n",
       "      <td>50</td>\n",
       "      <td>5.0</td>\n",
       "      <td>83311</td>\n",
       "      <td>9.0</td>\n",
       "      <td>13</td>\n",
       "      <td>2.0</td>\n",
       "      <td>3.0</td>\n",
       "      <td>0.0</td>\n",
       "      <td>4.0</td>\n",
       "      <td>1.0</td>\n",
       "      <td>0</td>\n",
       "      <td>0</td>\n",
       "      <td>13</td>\n",
       "      <td>38.0</td>\n",
       "      <td>0.0</td>\n",
       "    </tr>\n",
       "    <tr>\n",
       "      <th>2</th>\n",
       "      <td>38</td>\n",
       "      <td>3.0</td>\n",
       "      <td>215646</td>\n",
       "      <td>11.0</td>\n",
       "      <td>9</td>\n",
       "      <td>0.0</td>\n",
       "      <td>5.0</td>\n",
       "      <td>1.0</td>\n",
       "      <td>4.0</td>\n",
       "      <td>1.0</td>\n",
       "      <td>0</td>\n",
       "      <td>0</td>\n",
       "      <td>40</td>\n",
       "      <td>38.0</td>\n",
       "      <td>0.0</td>\n",
       "    </tr>\n",
       "    <tr>\n",
       "      <th>3</th>\n",
       "      <td>53</td>\n",
       "      <td>3.0</td>\n",
       "      <td>234721</td>\n",
       "      <td>1.0</td>\n",
       "      <td>7</td>\n",
       "      <td>2.0</td>\n",
       "      <td>5.0</td>\n",
       "      <td>0.0</td>\n",
       "      <td>2.0</td>\n",
       "      <td>1.0</td>\n",
       "      <td>0</td>\n",
       "      <td>0</td>\n",
       "      <td>40</td>\n",
       "      <td>38.0</td>\n",
       "      <td>0.0</td>\n",
       "    </tr>\n",
       "    <tr>\n",
       "      <th>4</th>\n",
       "      <td>28</td>\n",
       "      <td>3.0</td>\n",
       "      <td>338409</td>\n",
       "      <td>9.0</td>\n",
       "      <td>13</td>\n",
       "      <td>2.0</td>\n",
       "      <td>9.0</td>\n",
       "      <td>5.0</td>\n",
       "      <td>2.0</td>\n",
       "      <td>0.0</td>\n",
       "      <td>0</td>\n",
       "      <td>0</td>\n",
       "      <td>40</td>\n",
       "      <td>4.0</td>\n",
       "      <td>0.0</td>\n",
       "    </tr>\n",
       "  </tbody>\n",
       "</table>\n",
       "</div>"
      ],
      "text/plain": [
       "   age  workclass  fnlwgt  education  education_num  marital_status  \\\n",
       "0   39        6.0   77516        9.0             13             4.0   \n",
       "1   50        5.0   83311        9.0             13             2.0   \n",
       "2   38        3.0  215646       11.0              9             0.0   \n",
       "3   53        3.0  234721        1.0              7             2.0   \n",
       "4   28        3.0  338409        9.0             13             2.0   \n",
       "\n",
       "   occupation  relationship  race  sex  capital_gain  capital_loss  \\\n",
       "0         0.0           1.0   4.0  1.0          2174             0   \n",
       "1         3.0           0.0   4.0  1.0             0             0   \n",
       "2         5.0           1.0   4.0  1.0             0             0   \n",
       "3         5.0           0.0   2.0  1.0             0             0   \n",
       "4         9.0           5.0   2.0  0.0             0             0   \n",
       "\n",
       "   hours_per_week  native_country  income  \n",
       "0              40            38.0     0.0  \n",
       "1              13            38.0     0.0  \n",
       "2              40            38.0     0.0  \n",
       "3              40            38.0     0.0  \n",
       "4              40             4.0     0.0  "
      ]
     },
     "metadata": {},
     "output_type": "display_data"
    }
   ],
   "source": [
    "#Resultados\n",
    "print(\"== Equal-width ==\")\n",
    "display(adult_eq_width.head())\n",
    "\n",
    "print(\"== Equal-frequency ==\")\n",
    "display(adult_eq_freq.head())\n",
    "\n",
    "print(\"== Todos numéricos ==\")\n",
    "display(adult_numeric.head())"
   ]
  },
  {
   "cell_type": "markdown",
   "id": "c81dfb53",
   "metadata": {},
   "source": [
    "\n",
    "---\n",
    "\n",
    "### 10. PCA en conjunto de datos numéricos\n",
    "\n",
    "Escoger un conjunto de datos del repositorio de Machine Learning que tenga varias dimensiones numéricas y aplicar **PCA**.\n",
    "\n",
    "* Describir el nuevo conjunto de datos resultante\n",
    "\n"
   ]
  }
 ],
 "metadata": {
  "kernelspec": {
   "display_name": ".venv",
   "language": "python",
   "name": "python3"
  },
  "language_info": {
   "codemirror_mode": {
    "name": "ipython",
    "version": 3
   },
   "file_extension": ".py",
   "mimetype": "text/x-python",
   "name": "python",
   "nbconvert_exporter": "python",
   "pygments_lexer": "ipython3",
   "version": "3.12.3"
  }
 },
 "nbformat": 4,
 "nbformat_minor": 5
}
