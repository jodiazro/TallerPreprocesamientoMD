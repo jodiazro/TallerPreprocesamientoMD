{
 "cells": [
  {
   "cell_type": "markdown",
   "id": "27fe81f4",
   "metadata": {},
   "source": [
    "\n",
    "# MINERÍA DE DATOS\n"
   ]
  },
  {
   "cell_type": "markdown",
   "id": "30f5e295",
   "metadata": {},
   "source": [
    "\n",
    "## Taller: Preprocesamiento\n",
    "\n",
    "**Profesora:** Elizabeth León Guzmán\n",
    "**Tema:** Preprocesamiento\n",
    "**Entrega:** Entregar documento detallado del trabajo realizado y análisis respectivos.\n",
    "\n"
   ]
  },
  {
   "cell_type": "markdown",
   "id": "9992507f",
   "metadata": {},
   "source": [
    "## Actividades\n"
   ]
  },
  {
   "cell_type": "markdown",
   "id": "3c86bd5c",
   "metadata": {},
   "source": [
    "\n",
    "### 1. Normalización de datos\n",
    "\n",
    "Dado un conjunto de datos de una dimensión\n",
    "**X = {-5.0, 23.0, 17.6, 7.23, 1.11}**, normalizar usando:\n",
    "\n",
    "* a) Min-max normalización en el intervalo \\[0,1]\n",
    "* b) Min-max normalización en el intervalo \\[-1,1]\n",
    "* c) Normalización usando desviación estándar\n",
    "* d) Escala decimal en el intervalo \\[-1,1]\n",
    "* e) Comparar los resultados y discutir ventajas y desventajas\n"
   ]
  },
  {
   "cell_type": "markdown",
   "id": "404d6b7e",
   "metadata": {},
   "source": [
    "---\n",
    "\n",
    "### 2. Valores perdidos\n",
    "\n",
    "Dado un conjunto de datos de 4 dimensiones con valores perdidos:\n",
    "\n",
    "```\n",
    "I1 I2 I3 I4  \n",
    "0  1  1  2  \n",
    "2  1  ?  1  \n",
    "1  ?  ?  0  \n",
    "?  2  1  ?  \n",
    "2  2  1  0\n",
    "```\n",
    "\n",
    "* a) Dado que el dominio para todos los atributos es \\[0,1,2], ¿cuál debe ser el número de ejemplos “artificiales” si los valores perdidos son interpretados como “no importa el valor” y ellos son reemplazados con todos los posibles valores para su dominio?\n",
    "* b) ¿Qué otro método utilizaría para reemplazar los valores perdidos?\n"
   ]
  },
  {
   "cell_type": "markdown",
   "id": "9b35bd5a",
   "metadata": {},
   "source": [
    "\n",
    "---\n",
    "\n",
    "### 3. Outliers en número de hijos\n",
    "\n",
    "El número de hijos de diferentes pacientes es dado por el siguiente vector:\n",
    "**C = {3, 1, 0, 2, 7, 3, 6, 4, -2, 0, 0, 10, 15, 6}**\n",
    "\n",
    "* a) Encontrar outliers usando parámetros estadísticos estándar: media y varianza\n",
    "* b) Si el umbral cambia de ±3 desviaciones estándar a ±2 desviaciones estándar, ¿cuál “outlier adicional” se encuentra?\n"
   ]
  },
  {
   "cell_type": "markdown",
   "id": "ffb07b42",
   "metadata": {},
   "source": [
    "\n",
    "---\n",
    "\n",
    "### 4. Detección de outliers multivariados\n",
    "\n",
    "Dado un conjunto de tres dimensiones:\n",
    "\n",
    "```\n",
    "X = [{1,2,0},{3,1,4},{2,1,5},{0,1,6},{2,4,3},{4,4,2},{5,2,1},{7,7,7},{0,0,0},{3,3,3}]\n",
    "```\n",
    "\n",
    "* a) Describir el procedimiento e interpretar los resultados de detección de outliers basado en la media y varianza\n"
   ]
  },
  {
   "cell_type": "markdown",
   "id": "5ab8ca39",
   "metadata": {},
   "source": [
    "\n",
    "---\n",
    "\n",
    "### 5. Weka: valores perdidos, normalización y discretización\n",
    "\n",
    "Usar el conjunto de datos *iris* en Weka:\n",
    "\n",
    "* a) Eliminar manualmente valores (15%) en sus atributos para simular valores perdidos. Luego aplicar varios métodos disponibles en Weka para reemplazar esos valores. Discutir:\n",
    "\n",
    "  * Diferencias entre el valor real y el que lo reemplaza\n",
    "  * Diferencias entre los métodos\n",
    "* b) Normalizar usando varios métodos\n",
    "* c) Discretizar usando varios métodos\n"
   ]
  },
  {
   "cell_type": "markdown",
   "id": "ef6fe64d",
   "metadata": {},
   "source": [
    "\n",
    "---\n",
    "\n",
    "### 6. Reducción por binning\n",
    "\n",
    "Dado el conjunto de datos:\n",
    "\n",
    "```\n",
    "I1  I2   I3  \n",
    "1   5.9  3.4  \n",
    "2   2.1  6.2  \n",
    "1   1.6  2.8  \n",
    "2   6.8  5.8  \n",
    "1   3.1  3.1  \n",
    "1   8.3  4.1  \n",
    "2   2.4  5.0  \n",
    "```\n",
    "\n",
    "Realizar reducción de valores basado en la técnica de **binning** con el mejor corte:\n",
    "\n",
    "* a) Dimensión I2 usando la **media** como representante de 2 bins\n",
    "* b) Dimensión I3 usando el **límite más cercano** como representante de 2 bins\n",
    "  *(Mostrar pasos)*\n"
   ]
  },
  {
   "cell_type": "markdown",
   "id": "932785ea",
   "metadata": {},
   "source": [
    "\n",
    "---\n",
    "\n",
    "### 7. Ranking de dimensiones\n",
    "\n",
    "Dado el conjunto de datos con tres dimensiones de entrada y una clase:\n",
    "\n",
    "```\n",
    "I1   I2   I3   C  \n",
    "2.5  1.6  5.9  0  \n",
    "7.2  4.3  2.1  1  \n",
    "3.4  5.8  1.6  1  \n",
    "5.6  3.6  6.8  0  \n",
    "4.8  7.2  3.1  1  \n",
    "8.1  4.9  8.3  0  \n",
    "6.3  4.8  2.4  1  \n",
    "```\n",
    "\n",
    "* Realizar **ranking** de las dimensiones comparando medias y varianzas\n"
   ]
  },
  {
   "cell_type": "markdown",
   "id": "79a69438",
   "metadata": {},
   "source": [
    "\n",
    "---\n",
    "\n",
    "### 8. Selección de características por entropía\n",
    "\n",
    "Dado el conjunto de datos donde **X1** y **X2** son numéricas, y **X3** y **X4** categóricas:\n",
    "\n",
    "```\n",
    "X1  X2  X3  X4  \n",
    "2.7 3.4 1   A  \n",
    "3.1 6.2 2   A  \n",
    "4.5 2.8 1   B  \n",
    "5.3 5.8 2   B  \n",
    "6.6 3.1 1   A  \n",
    "5.0 4.1 2   B  \n",
    "```\n",
    "\n",
    "* a) Aplicar el método de **selección de características basado en entropía** para reducir una dimensión (mostrar pasos)\n",
    "* b) Implementar un programa para realizar el **ranking de dimensiones** usando entropía\n"
   ]
  },
  {
   "cell_type": "markdown",
   "id": "2f2f8fa4",
   "metadata": {},
   "source": [
    "\n",
    "---\n",
    "\n",
    "### 9. Transformación de atributos en *Adult dataset*\n",
    "\n",
    "Aplicar al conjunto de datos *Adult* del repositorio de Machine Learning:\n",
    "\n",
    "* a) Convertir todos los atributos numéricos a categóricos utilizando dos estrategias diferentes\n",
    "* b) Transformar el conjunto de datos para que **todos los atributos sean numéricos**\n"
   ]
  },
  {
   "cell_type": "markdown",
   "id": "c81dfb53",
   "metadata": {},
   "source": [
    "\n",
    "---\n",
    "\n",
    "### 10. PCA en conjunto de datos numéricos\n",
    "\n",
    "Escoger un conjunto de datos del repositorio de Machine Learning que tenga varias dimensiones numéricas y aplicar **PCA**.\n",
    "\n",
    "* Describir el nuevo conjunto de datos resultante\n",
    "\n"
   ]
  }
 ],
 "metadata": {
  "kernelspec": {
   "display_name": ".venv",
   "language": "python",
   "name": "python3"
  },
  "language_info": {
   "codemirror_mode": {
    "name": "ipython",
    "version": 3
   },
   "file_extension": ".py",
   "mimetype": "text/x-python",
   "name": "python",
   "nbconvert_exporter": "python",
   "pygments_lexer": "ipython3",
   "version": "3.13.3"
  }
 },
 "nbformat": 4,
 "nbformat_minor": 5
}
