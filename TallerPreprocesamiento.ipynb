{
  "cells": [
    {
      "cell_type": "markdown",
      "id": "27fe81f4",
      "metadata": {
        "id": "27fe81f4"
      },
      "source": [
        "\n",
        "# MINERÍA DE DATOS\n"
      ]
    },
    {
      "cell_type": "markdown",
      "id": "30f5e295",
      "metadata": {
        "id": "30f5e295"
      },
      "source": [
        "\n",
        "## Taller: Preprocesamiento\n",
        "\n",
        "**Profesora:** Elizabeth León Guzmán\n",
        "\n",
        "**Tema:** Preprocesamiento\n",
        "\n",
        "**Entrega:** Entregar documento detallado del trabajo realizado y análisis respectivos.\n",
        "\n",
        "**Equipo 4:** Paula Velosa- Johan Díaz- Fabián López  \n",
        "\n"
      ]
    },
    {
      "cell_type": "markdown",
      "id": "9992507f",
      "metadata": {
        "id": "9992507f"
      },
      "source": [
        "## Actividades\n"
      ]
    },
    {
      "cell_type": "code",
      "execution_count": 49,
      "id": "7604ea34",
      "metadata": {
        "id": "7604ea34"
      },
      "outputs": [],
      "source": [
        "import pandas as pd\n",
        "import sklearn as skl\n",
        "import numpy as np"
      ]
    },
    {
      "cell_type": "markdown",
      "id": "3c86bd5c",
      "metadata": {
        "id": "3c86bd5c"
      },
      "source": [
        "\n",
        "### 1. Normalización de datos\n"
      ]
    },
    {
      "cell_type": "code",
      "execution_count": 50,
      "id": "8f57e1ba",
      "metadata": {
        "id": "8f57e1ba"
      },
      "outputs": [],
      "source": [
        "X = np.array([-5.0, 23.0, 17.6, 7.23, 1.11])"
      ]
    },
    {
      "cell_type": "markdown",
      "id": "acc159a6",
      "metadata": {
        "id": "acc159a6"
      },
      "source": [
        "\n",
        "Dado un conjunto de datos de una dimensión\n",
        "**X = {-5.0, 23.0, 17.6, 7.23, 1.11}**, normalizar usando:\n",
        "\n",
        "* a) Min-max normalización en el intervalo \\[0,1]\n"
      ]
    },
    {
      "cell_type": "code",
      "execution_count": 51,
      "id": "878bbd14",
      "metadata": {
        "id": "878bbd14"
      },
      "outputs": [],
      "source": [
        "min_max_0_1 = (X-X.min())/(X.max()-X.min())"
      ]
    },
    {
      "cell_type": "markdown",
      "id": "d7c7b04c",
      "metadata": {
        "id": "d7c7b04c"
      },
      "source": [
        "* b) Min-max normalización en el intervalo \\[-1,1]\n"
      ]
    },
    {
      "cell_type": "code",
      "execution_count": 52,
      "id": "d0a7f2de",
      "metadata": {
        "id": "d0a7f2de"
      },
      "outputs": [],
      "source": [
        "min_max_m1_1 = 2*(X-X.min())/(X.max()-X.min())-1"
      ]
    },
    {
      "cell_type": "markdown",
      "id": "5e64c13d",
      "metadata": {
        "id": "5e64c13d"
      },
      "source": [
        "* c) Normalización usando desviación estándar\n"
      ]
    },
    {
      "cell_type": "code",
      "execution_count": 53,
      "id": "a5afd262",
      "metadata": {
        "id": "a5afd262"
      },
      "outputs": [],
      "source": [
        "norm_by_std = (X-X.mean())/X.std()"
      ]
    },
    {
      "cell_type": "markdown",
      "id": "ee60742a",
      "metadata": {
        "id": "ee60742a"
      },
      "source": [
        "* d) Escala decimal en el intervalo \\[-1,1]\n"
      ]
    },
    {
      "cell_type": "code",
      "execution_count": 54,
      "id": "958d4469",
      "metadata": {
        "id": "958d4469"
      },
      "outputs": [],
      "source": [
        "dec_scale=X/(X**(np.ceil(np.log10(X.max()))))"
      ]
    },
    {
      "cell_type": "markdown",
      "id": "50d972e7",
      "metadata": {
        "id": "50d972e7"
      },
      "source": [
        "* e) Comparar los resultados y discutir ventajas y desventajas\n"
      ]
    },
    {
      "cell_type": "code",
      "execution_count": 54,
      "id": "31322b92",
      "metadata": {
        "id": "31322b92"
      },
      "outputs": [],
      "source": []
    },
    {
      "cell_type": "markdown",
      "id": "404d6b7e",
      "metadata": {
        "id": "404d6b7e"
      },
      "source": [
        "---\n",
        "\n",
        "### 2. Valores perdidos\n",
        "\n",
        "Dado un conjunto de datos de 4 dimensiones con valores perdidos:\n",
        "\n",
        "```\n",
        "I1 I2 I3 I4  \n",
        "0  1  1  2  \n",
        "2  1  ?  1  \n",
        "1  ?  ?  0  \n",
        "?  2  1  ?  \n",
        "2  2  1  0\n",
        "```\n",
        "\n",
        "* a) Dado que el dominio para todos los atributos es \\[0,1,2], ¿cuál debe ser el número de ejemplos “artificiales” si los valores perdidos son interpretados como “no importa el valor” y ellos son reemplazados con todos los posibles valores para su dominio?\n",
        "* b) ¿Qué otro método utilizaría para reemplazar los valores perdidos?\n"
      ]
    },
    {
      "cell_type": "markdown",
      "id": "9b35bd5a",
      "metadata": {
        "id": "9b35bd5a"
      },
      "source": [
        "\n",
        "---\n",
        "\n",
        "### 3. Outliers en número de hijos\n",
        "\n",
        "El número de hijos de diferentes pacientes es dado por el siguiente vector:\n",
        "**C = {3, 1, 0, 2, 7, 3, 6, 4, -2, 0, 0, 10, 15, 6}**\n"
      ]
    },
    {
      "cell_type": "code",
      "execution_count": 55,
      "id": "114a28e2",
      "metadata": {
        "id": "114a28e2"
      },
      "outputs": [],
      "source": [
        "C = np.array([3, 1, 0, 2, 7, 3, 6, 4, -2, 0, 0, 10, 15, 6])"
      ]
    },
    {
      "cell_type": "markdown",
      "id": "d6acf728",
      "metadata": {
        "id": "d6acf728"
      },
      "source": [
        "\n",
        "* a) Encontrar outliers usando parámetros estadísticos estándar: media y varianza\n"
      ]
    },
    {
      "cell_type": "code",
      "execution_count": 56,
      "id": "d40267e9",
      "metadata": {
        "colab": {
          "base_uri": "https://localhost:8080/"
        },
        "id": "d40267e9",
        "outputId": "f5668707-c928-4fa0-ab93-61321aa4cc60"
      },
      "outputs": [
        {
          "output_type": "execute_result",
          "data": {
            "text/plain": [
              "array([-0.21030754, -0.66327761, -0.88976265, -0.43679257,  0.69563262,\n",
              "       -0.21030754,  0.46914758,  0.0161775 , -1.34273272, -0.88976265,\n",
              "       -0.88976265,  1.37508773,  2.50751292,  0.46914758])"
            ]
          },
          "metadata": {},
          "execution_count": 56
        }
      ],
      "source": [
        "C_normalized = (C-C.mean())/C.std()\n",
        "C_normalized"
      ]
    },
    {
      "cell_type": "code",
      "execution_count": 57,
      "id": "35536430",
      "metadata": {
        "colab": {
          "base_uri": "https://localhost:8080/"
        },
        "id": "35536430",
        "outputId": "4e46c447-bb1e-4ada-eb5a-60cdc7e587e9"
      },
      "outputs": [
        {
          "output_type": "execute_result",
          "data": {
            "text/plain": [
              "array([], dtype=int64)"
            ]
          },
          "metadata": {},
          "execution_count": 57
        }
      ],
      "source": [
        "C[abs(C_normalized)>3]"
      ]
    },
    {
      "cell_type": "markdown",
      "id": "90afd618",
      "metadata": {
        "id": "90afd618"
      },
      "source": [
        "* b) Si el umbral cambia de ±3 desviaciones estándar a ±2 desviaciones estándar, ¿cuál “outlier adicional” se encuentra?\n"
      ]
    },
    {
      "cell_type": "code",
      "execution_count": 58,
      "id": "4dac7cce",
      "metadata": {
        "colab": {
          "base_uri": "https://localhost:8080/"
        },
        "id": "4dac7cce",
        "outputId": "eb0ef018-207b-41e8-d068-1a5a80607614"
      },
      "outputs": [
        {
          "output_type": "execute_result",
          "data": {
            "text/plain": [
              "array([15])"
            ]
          },
          "metadata": {},
          "execution_count": 58
        }
      ],
      "source": [
        "C[abs(C_normalized)>2]"
      ]
    },
    {
      "cell_type": "markdown",
      "id": "ffb07b42",
      "metadata": {
        "id": "ffb07b42"
      },
      "source": [
        "\n",
        "---\n",
        "\n",
        "### 4. Detección de outliers multivariados\n",
        "\n",
        "Dado un conjunto de tres dimensiones:\n",
        "\n",
        "```\n",
        "X = [{1,2,0},{3,1,4},{2,1,5},{0,1,6},{2,4,3},{4,4,2},{5,2,1},{7,7,7},{0,0,0},{3,3,3}]\n",
        "```\n"
      ]
    },
    {
      "cell_type": "code",
      "execution_count": 59,
      "id": "78265511",
      "metadata": {
        "colab": {
          "base_uri": "https://localhost:8080/"
        },
        "id": "78265511",
        "outputId": "ff1848f2-0276-4b5d-e764-f1182b5b9db6"
      },
      "outputs": [
        {
          "output_type": "execute_result",
          "data": {
            "text/plain": [
              "array([[1, 2, 0],\n",
              "       [3, 1, 4],\n",
              "       [2, 1, 5],\n",
              "       [0, 1, 6],\n",
              "       [2, 4, 3],\n",
              "       [4, 4, 2],\n",
              "       [5, 2, 1],\n",
              "       [7, 7, 7],\n",
              "       [0, 0, 0],\n",
              "       [3, 3, 3]])"
            ]
          },
          "metadata": {},
          "execution_count": 59
        }
      ],
      "source": [
        "X = np.array([[1,2,0],[3,1,4],[2,1,5],[0,1,6],[2,4,3],[4,4,2],[5,2,1],[7,7,7],[0,0,0],[3,3,3]])\n",
        "X"
      ]
    },
    {
      "cell_type": "markdown",
      "id": "aeb8b531",
      "metadata": {
        "id": "aeb8b531"
      },
      "source": [
        "\n",
        "* a) Describir el procedimiento e interpretar los resultados de detección de outliers basado en la media y varianza\n",
        "\n",
        "    Se propone realizar PCA de un único componente tal que sobre este se puedan aplicar una técninca unidimensional de detección de outliers.\n"
      ]
    },
    {
      "cell_type": "code",
      "execution_count": 60,
      "id": "daf5fc4c",
      "metadata": {
        "colab": {
          "base_uri": "https://localhost:8080/"
        },
        "id": "daf5fc4c",
        "outputId": "a75716f8-5955-4727-b539-88ccba43ff02"
      },
      "outputs": [
        {
          "output_type": "execute_result",
          "data": {
            "text/plain": [
              "array([[-3.01860763],\n",
              "       [-0.19030271],\n",
              "       [-0.24505936],\n",
              "       [-0.903921  ],\n",
              "       [ 0.38813939],\n",
              "       [ 1.04700104],\n",
              "       [-0.05283928],\n",
              "       [ 7.33795324],\n",
              "       [-4.7773096 ],\n",
              "       [ 0.41494591]])"
            ]
          },
          "metadata": {},
          "execution_count": 60
        }
      ],
      "source": [
        "from sklearn.decomposition import PCA\n",
        "\n",
        "pca = PCA(n_components=1)\n",
        "x_pca = pca.fit_transform(X)\n",
        "\n",
        "x_pca\n"
      ]
    },
    {
      "cell_type": "code",
      "execution_count": 61,
      "id": "83707051",
      "metadata": {
        "colab": {
          "base_uri": "https://localhost:8080/"
        },
        "id": "83707051",
        "outputId": "6562e9a7-b416-48e0-c282-0f39943b12b9"
      },
      "outputs": [
        {
          "output_type": "execute_result",
          "data": {
            "text/plain": [
              "array([[-1.01690579],\n",
              "       [-0.064109  ],\n",
              "       [-0.08255537],\n",
              "       [-0.30451209],\n",
              "       [ 0.13075604],\n",
              "       [ 0.35271276],\n",
              "       [-0.01780045],\n",
              "       [ 2.47200301],\n",
              "       [-1.60937571],\n",
              "       [ 0.1397866 ]])"
            ]
          },
          "metadata": {},
          "execution_count": 61
        }
      ],
      "source": [
        "x_pca_normalized = (x_pca-x_pca.mean())/x_pca.std()\n",
        "x_pca_normalized"
      ]
    },
    {
      "cell_type": "markdown",
      "id": "09893ae0",
      "metadata": {
        "id": "09893ae0"
      },
      "source": [
        "Sobre nuestros nuevos datos unidimensionales realizamos detección de outliers mediante desviación estándar. El criterio será **más de 2 desviaciones estándar**."
      ]
    },
    {
      "cell_type": "code",
      "execution_count": 62,
      "id": "7cc94e8b",
      "metadata": {
        "colab": {
          "base_uri": "https://localhost:8080/"
        },
        "id": "7cc94e8b",
        "outputId": "98cfccf5-16de-4e7b-a2c5-338a0d4a7434"
      },
      "outputs": [
        {
          "output_type": "execute_result",
          "data": {
            "text/plain": [
              "array([7, 7, 7])"
            ]
          },
          "metadata": {},
          "execution_count": 62
        }
      ],
      "source": [
        "x_pca_normalized_br,_ = np.broadcast_arrays(x_pca_normalized,X)\n",
        "\n",
        "X[(abs(x_pca_normalized_br)>2)]"
      ]
    },
    {
      "cell_type": "markdown",
      "id": "5ab8ca39",
      "metadata": {
        "id": "5ab8ca39"
      },
      "source": [
        "# 5. Weka: valores perdidos, normalización y discretización\n",
        "\n",
        "Usar el conjunto de datos *iris* en Weka:\n",
        "\n",
        "* a) Eliminar manualmente valores (15%) en sus atributos para simular valores perdidos. Luego aplicar varios métodos disponibles en Weka para reemplazar esos valores. Discutir:\n",
        "\n",
        "  * Diferencias entre el valor real y el que lo reemplaza\n",
        "  * Diferencias entre los métodos\n",
        "* b) Normalizar usando varios métodos\n",
        "* c) Discretizar usando varios métodos\n"
      ]
    },
    {
      "cell_type": "code",
      "source": [
        "from sklearn.datasets import load_iris"
      ],
      "metadata": {
        "id": "Vg9QII3lHbdI"
      },
      "id": "Vg9QII3lHbdI",
      "execution_count": 63,
      "outputs": []
    },
    {
      "cell_type": "code",
      "source": [
        "iris = load_iris(as_frame=True)\n",
        "df   = iris.frame\n",
        "df.head()\n"
      ],
      "metadata": {
        "colab": {
          "base_uri": "https://localhost:8080/",
          "height": 206
        },
        "id": "EPxAXGQkHn5W",
        "outputId": "436a6697-e998-4ef1-820d-bf8e663fc19d"
      },
      "id": "EPxAXGQkHn5W",
      "execution_count": 64,
      "outputs": [
        {
          "output_type": "execute_result",
          "data": {
            "text/plain": [
              "   sepal length (cm)  sepal width (cm)  petal length (cm)  petal width (cm)  \\\n",
              "0                5.1               3.5                1.4               0.2   \n",
              "1                4.9               3.0                1.4               0.2   \n",
              "2                4.7               3.2                1.3               0.2   \n",
              "3                4.6               3.1                1.5               0.2   \n",
              "4                5.0               3.6                1.4               0.2   \n",
              "\n",
              "   target  \n",
              "0       0  \n",
              "1       0  \n",
              "2       0  \n",
              "3       0  \n",
              "4       0  "
            ],
            "text/html": [
              "\n",
              "  <div id=\"df-3bca24d4-3b2e-4240-86ba-fbea3beeb0ba\" class=\"colab-df-container\">\n",
              "    <div>\n",
              "<style scoped>\n",
              "    .dataframe tbody tr th:only-of-type {\n",
              "        vertical-align: middle;\n",
              "    }\n",
              "\n",
              "    .dataframe tbody tr th {\n",
              "        vertical-align: top;\n",
              "    }\n",
              "\n",
              "    .dataframe thead th {\n",
              "        text-align: right;\n",
              "    }\n",
              "</style>\n",
              "<table border=\"1\" class=\"dataframe\">\n",
              "  <thead>\n",
              "    <tr style=\"text-align: right;\">\n",
              "      <th></th>\n",
              "      <th>sepal length (cm)</th>\n",
              "      <th>sepal width (cm)</th>\n",
              "      <th>petal length (cm)</th>\n",
              "      <th>petal width (cm)</th>\n",
              "      <th>target</th>\n",
              "    </tr>\n",
              "  </thead>\n",
              "  <tbody>\n",
              "    <tr>\n",
              "      <th>0</th>\n",
              "      <td>5.1</td>\n",
              "      <td>3.5</td>\n",
              "      <td>1.4</td>\n",
              "      <td>0.2</td>\n",
              "      <td>0</td>\n",
              "    </tr>\n",
              "    <tr>\n",
              "      <th>1</th>\n",
              "      <td>4.9</td>\n",
              "      <td>3.0</td>\n",
              "      <td>1.4</td>\n",
              "      <td>0.2</td>\n",
              "      <td>0</td>\n",
              "    </tr>\n",
              "    <tr>\n",
              "      <th>2</th>\n",
              "      <td>4.7</td>\n",
              "      <td>3.2</td>\n",
              "      <td>1.3</td>\n",
              "      <td>0.2</td>\n",
              "      <td>0</td>\n",
              "    </tr>\n",
              "    <tr>\n",
              "      <th>3</th>\n",
              "      <td>4.6</td>\n",
              "      <td>3.1</td>\n",
              "      <td>1.5</td>\n",
              "      <td>0.2</td>\n",
              "      <td>0</td>\n",
              "    </tr>\n",
              "    <tr>\n",
              "      <th>4</th>\n",
              "      <td>5.0</td>\n",
              "      <td>3.6</td>\n",
              "      <td>1.4</td>\n",
              "      <td>0.2</td>\n",
              "      <td>0</td>\n",
              "    </tr>\n",
              "  </tbody>\n",
              "</table>\n",
              "</div>\n",
              "    <div class=\"colab-df-buttons\">\n",
              "\n",
              "  <div class=\"colab-df-container\">\n",
              "    <button class=\"colab-df-convert\" onclick=\"convertToInteractive('df-3bca24d4-3b2e-4240-86ba-fbea3beeb0ba')\"\n",
              "            title=\"Convert this dataframe to an interactive table.\"\n",
              "            style=\"display:none;\">\n",
              "\n",
              "  <svg xmlns=\"http://www.w3.org/2000/svg\" height=\"24px\" viewBox=\"0 -960 960 960\">\n",
              "    <path d=\"M120-120v-720h720v720H120Zm60-500h600v-160H180v160Zm220 220h160v-160H400v160Zm0 220h160v-160H400v160ZM180-400h160v-160H180v160Zm440 0h160v-160H620v160ZM180-180h160v-160H180v160Zm440 0h160v-160H620v160Z\"/>\n",
              "  </svg>\n",
              "    </button>\n",
              "\n",
              "  <style>\n",
              "    .colab-df-container {\n",
              "      display:flex;\n",
              "      gap: 12px;\n",
              "    }\n",
              "\n",
              "    .colab-df-convert {\n",
              "      background-color: #E8F0FE;\n",
              "      border: none;\n",
              "      border-radius: 50%;\n",
              "      cursor: pointer;\n",
              "      display: none;\n",
              "      fill: #1967D2;\n",
              "      height: 32px;\n",
              "      padding: 0 0 0 0;\n",
              "      width: 32px;\n",
              "    }\n",
              "\n",
              "    .colab-df-convert:hover {\n",
              "      background-color: #E2EBFA;\n",
              "      box-shadow: 0px 1px 2px rgba(60, 64, 67, 0.3), 0px 1px 3px 1px rgba(60, 64, 67, 0.15);\n",
              "      fill: #174EA6;\n",
              "    }\n",
              "\n",
              "    .colab-df-buttons div {\n",
              "      margin-bottom: 4px;\n",
              "    }\n",
              "\n",
              "    [theme=dark] .colab-df-convert {\n",
              "      background-color: #3B4455;\n",
              "      fill: #D2E3FC;\n",
              "    }\n",
              "\n",
              "    [theme=dark] .colab-df-convert:hover {\n",
              "      background-color: #434B5C;\n",
              "      box-shadow: 0px 1px 3px 1px rgba(0, 0, 0, 0.15);\n",
              "      filter: drop-shadow(0px 1px 2px rgba(0, 0, 0, 0.3));\n",
              "      fill: #FFFFFF;\n",
              "    }\n",
              "  </style>\n",
              "\n",
              "    <script>\n",
              "      const buttonEl =\n",
              "        document.querySelector('#df-3bca24d4-3b2e-4240-86ba-fbea3beeb0ba button.colab-df-convert');\n",
              "      buttonEl.style.display =\n",
              "        google.colab.kernel.accessAllowed ? 'block' : 'none';\n",
              "\n",
              "      async function convertToInteractive(key) {\n",
              "        const element = document.querySelector('#df-3bca24d4-3b2e-4240-86ba-fbea3beeb0ba');\n",
              "        const dataTable =\n",
              "          await google.colab.kernel.invokeFunction('convertToInteractive',\n",
              "                                                    [key], {});\n",
              "        if (!dataTable) return;\n",
              "\n",
              "        const docLinkHtml = 'Like what you see? Visit the ' +\n",
              "          '<a target=\"_blank\" href=https://colab.research.google.com/notebooks/data_table.ipynb>data table notebook</a>'\n",
              "          + ' to learn more about interactive tables.';\n",
              "        element.innerHTML = '';\n",
              "        dataTable['output_type'] = 'display_data';\n",
              "        await google.colab.output.renderOutput(dataTable, element);\n",
              "        const docLink = document.createElement('div');\n",
              "        docLink.innerHTML = docLinkHtml;\n",
              "        element.appendChild(docLink);\n",
              "      }\n",
              "    </script>\n",
              "  </div>\n",
              "\n",
              "\n",
              "    <div id=\"df-ec5dbe02-d750-4a6f-b7d4-17fccbc1cc8b\">\n",
              "      <button class=\"colab-df-quickchart\" onclick=\"quickchart('df-ec5dbe02-d750-4a6f-b7d4-17fccbc1cc8b')\"\n",
              "                title=\"Suggest charts\"\n",
              "                style=\"display:none;\">\n",
              "\n",
              "<svg xmlns=\"http://www.w3.org/2000/svg\" height=\"24px\"viewBox=\"0 0 24 24\"\n",
              "     width=\"24px\">\n",
              "    <g>\n",
              "        <path d=\"M19 3H5c-1.1 0-2 .9-2 2v14c0 1.1.9 2 2 2h14c1.1 0 2-.9 2-2V5c0-1.1-.9-2-2-2zM9 17H7v-7h2v7zm4 0h-2V7h2v10zm4 0h-2v-4h2v4z\"/>\n",
              "    </g>\n",
              "</svg>\n",
              "      </button>\n",
              "\n",
              "<style>\n",
              "  .colab-df-quickchart {\n",
              "      --bg-color: #E8F0FE;\n",
              "      --fill-color: #1967D2;\n",
              "      --hover-bg-color: #E2EBFA;\n",
              "      --hover-fill-color: #174EA6;\n",
              "      --disabled-fill-color: #AAA;\n",
              "      --disabled-bg-color: #DDD;\n",
              "  }\n",
              "\n",
              "  [theme=dark] .colab-df-quickchart {\n",
              "      --bg-color: #3B4455;\n",
              "      --fill-color: #D2E3FC;\n",
              "      --hover-bg-color: #434B5C;\n",
              "      --hover-fill-color: #FFFFFF;\n",
              "      --disabled-bg-color: #3B4455;\n",
              "      --disabled-fill-color: #666;\n",
              "  }\n",
              "\n",
              "  .colab-df-quickchart {\n",
              "    background-color: var(--bg-color);\n",
              "    border: none;\n",
              "    border-radius: 50%;\n",
              "    cursor: pointer;\n",
              "    display: none;\n",
              "    fill: var(--fill-color);\n",
              "    height: 32px;\n",
              "    padding: 0;\n",
              "    width: 32px;\n",
              "  }\n",
              "\n",
              "  .colab-df-quickchart:hover {\n",
              "    background-color: var(--hover-bg-color);\n",
              "    box-shadow: 0 1px 2px rgba(60, 64, 67, 0.3), 0 1px 3px 1px rgba(60, 64, 67, 0.15);\n",
              "    fill: var(--button-hover-fill-color);\n",
              "  }\n",
              "\n",
              "  .colab-df-quickchart-complete:disabled,\n",
              "  .colab-df-quickchart-complete:disabled:hover {\n",
              "    background-color: var(--disabled-bg-color);\n",
              "    fill: var(--disabled-fill-color);\n",
              "    box-shadow: none;\n",
              "  }\n",
              "\n",
              "  .colab-df-spinner {\n",
              "    border: 2px solid var(--fill-color);\n",
              "    border-color: transparent;\n",
              "    border-bottom-color: var(--fill-color);\n",
              "    animation:\n",
              "      spin 1s steps(1) infinite;\n",
              "  }\n",
              "\n",
              "  @keyframes spin {\n",
              "    0% {\n",
              "      border-color: transparent;\n",
              "      border-bottom-color: var(--fill-color);\n",
              "      border-left-color: var(--fill-color);\n",
              "    }\n",
              "    20% {\n",
              "      border-color: transparent;\n",
              "      border-left-color: var(--fill-color);\n",
              "      border-top-color: var(--fill-color);\n",
              "    }\n",
              "    30% {\n",
              "      border-color: transparent;\n",
              "      border-left-color: var(--fill-color);\n",
              "      border-top-color: var(--fill-color);\n",
              "      border-right-color: var(--fill-color);\n",
              "    }\n",
              "    40% {\n",
              "      border-color: transparent;\n",
              "      border-right-color: var(--fill-color);\n",
              "      border-top-color: var(--fill-color);\n",
              "    }\n",
              "    60% {\n",
              "      border-color: transparent;\n",
              "      border-right-color: var(--fill-color);\n",
              "    }\n",
              "    80% {\n",
              "      border-color: transparent;\n",
              "      border-right-color: var(--fill-color);\n",
              "      border-bottom-color: var(--fill-color);\n",
              "    }\n",
              "    90% {\n",
              "      border-color: transparent;\n",
              "      border-bottom-color: var(--fill-color);\n",
              "    }\n",
              "  }\n",
              "</style>\n",
              "\n",
              "      <script>\n",
              "        async function quickchart(key) {\n",
              "          const quickchartButtonEl =\n",
              "            document.querySelector('#' + key + ' button');\n",
              "          quickchartButtonEl.disabled = true;  // To prevent multiple clicks.\n",
              "          quickchartButtonEl.classList.add('colab-df-spinner');\n",
              "          try {\n",
              "            const charts = await google.colab.kernel.invokeFunction(\n",
              "                'suggestCharts', [key], {});\n",
              "          } catch (error) {\n",
              "            console.error('Error during call to suggestCharts:', error);\n",
              "          }\n",
              "          quickchartButtonEl.classList.remove('colab-df-spinner');\n",
              "          quickchartButtonEl.classList.add('colab-df-quickchart-complete');\n",
              "        }\n",
              "        (() => {\n",
              "          let quickchartButtonEl =\n",
              "            document.querySelector('#df-ec5dbe02-d750-4a6f-b7d4-17fccbc1cc8b button');\n",
              "          quickchartButtonEl.style.display =\n",
              "            google.colab.kernel.accessAllowed ? 'block' : 'none';\n",
              "        })();\n",
              "      </script>\n",
              "    </div>\n",
              "\n",
              "    </div>\n",
              "  </div>\n"
            ],
            "application/vnd.google.colaboratory.intrinsic+json": {
              "type": "dataframe",
              "variable_name": "df",
              "summary": "{\n  \"name\": \"df\",\n  \"rows\": 150,\n  \"fields\": [\n    {\n      \"column\": \"sepal length (cm)\",\n      \"properties\": {\n        \"dtype\": \"number\",\n        \"std\": 0.8280661279778629,\n        \"min\": 4.3,\n        \"max\": 7.9,\n        \"num_unique_values\": 35,\n        \"samples\": [\n          6.2,\n          4.5,\n          5.6\n        ],\n        \"semantic_type\": \"\",\n        \"description\": \"\"\n      }\n    },\n    {\n      \"column\": \"sepal width (cm)\",\n      \"properties\": {\n        \"dtype\": \"number\",\n        \"std\": 0.435866284936698,\n        \"min\": 2.0,\n        \"max\": 4.4,\n        \"num_unique_values\": 23,\n        \"samples\": [\n          2.3,\n          4.0,\n          3.5\n        ],\n        \"semantic_type\": \"\",\n        \"description\": \"\"\n      }\n    },\n    {\n      \"column\": \"petal length (cm)\",\n      \"properties\": {\n        \"dtype\": \"number\",\n        \"std\": 1.7652982332594667,\n        \"min\": 1.0,\n        \"max\": 6.9,\n        \"num_unique_values\": 43,\n        \"samples\": [\n          6.7,\n          3.8,\n          3.7\n        ],\n        \"semantic_type\": \"\",\n        \"description\": \"\"\n      }\n    },\n    {\n      \"column\": \"petal width (cm)\",\n      \"properties\": {\n        \"dtype\": \"number\",\n        \"std\": 0.7622376689603465,\n        \"min\": 0.1,\n        \"max\": 2.5,\n        \"num_unique_values\": 22,\n        \"samples\": [\n          0.2,\n          1.2,\n          1.3\n        ],\n        \"semantic_type\": \"\",\n        \"description\": \"\"\n      }\n    },\n    {\n      \"column\": \"target\",\n      \"properties\": {\n        \"dtype\": \"number\",\n        \"std\": 0,\n        \"min\": 0,\n        \"max\": 2,\n        \"num_unique_values\": 3,\n        \"samples\": [\n          0,\n          1,\n          2\n        ],\n        \"semantic_type\": \"\",\n        \"description\": \"\"\n      }\n    }\n  ]\n}"
            }
          },
          "metadata": {},
          "execution_count": 64
        }
      ]
    },
    {
      "cell_type": "markdown",
      "source": [
        "### valores perdidos\n"
      ],
      "metadata": {
        "id": "yY4q5K7vR9qS"
      },
      "id": "yY4q5K7vR9qS"
    },
    {
      "cell_type": "code",
      "source": [
        "# Eliminar manualmente valores (15%) de los atributos de iris\n",
        "np.random.seed(42) # for reproducibility\n",
        "missing_percentage = 0.15\n",
        "n_elements = df.size\n",
        "n_missing = int(n_elements * missing_percentage)\n",
        "\n",
        "# Get random indices to set to NaN\n",
        "missing_indices = np.random.choice(n_elements, n_missing, replace=False)\n",
        "\n",
        "# Flatten the DataFrame to a numpy array, set values to NaN, then reshape\n",
        "df_iris_missing = df.values.flatten()\n",
        "df_iris_missing[missing_indices] = np.nan\n",
        "df_iris_missing = df_iris_missing.reshape(df.shape)\n",
        "\n",
        "# Create a new DataFrame with missing values\n",
        "df_iris_missing = pd.DataFrame(df_iris_missing, columns=df.columns)\n",
        "\n"
      ],
      "metadata": {
        "id": "rmc0QCq1HznJ"
      },
      "id": "rmc0QCq1HznJ",
      "execution_count": 65,
      "outputs": []
    },
    {
      "cell_type": "code",
      "source": [
        "# Reemplazando los datos con la media del atributo\n",
        "df_iris_missing_replaced_mean = df_iris_missing.fillna(df_iris_missing.mean())\n",
        "df_iris_missing_replaced_mean.head()\n",
        "df_iris_missing_replaced_mean.info()\n",
        "df_iris_missing_replaced_mean.isna().sum()"
      ],
      "metadata": {
        "colab": {
          "base_uri": "https://localhost:8080/",
          "height": 458
        },
        "id": "cAqcoTRQKkxB",
        "outputId": "1aba847b-10fd-4111-fe4c-d02e584aff20"
      },
      "id": "cAqcoTRQKkxB",
      "execution_count": 66,
      "outputs": [
        {
          "output_type": "stream",
          "name": "stdout",
          "text": [
            "<class 'pandas.core.frame.DataFrame'>\n",
            "RangeIndex: 150 entries, 0 to 149\n",
            "Data columns (total 5 columns):\n",
            " #   Column             Non-Null Count  Dtype  \n",
            "---  ------             --------------  -----  \n",
            " 0   sepal length (cm)  150 non-null    float64\n",
            " 1   sepal width (cm)   150 non-null    float64\n",
            " 2   petal length (cm)  150 non-null    float64\n",
            " 3   petal width (cm)   150 non-null    float64\n",
            " 4   target             150 non-null    float64\n",
            "dtypes: float64(5)\n",
            "memory usage: 6.0 KB\n"
          ]
        },
        {
          "output_type": "execute_result",
          "data": {
            "text/plain": [
              "sepal length (cm)    0\n",
              "sepal width (cm)     0\n",
              "petal length (cm)    0\n",
              "petal width (cm)     0\n",
              "target               0\n",
              "dtype: int64"
            ],
            "text/html": [
              "<div>\n",
              "<style scoped>\n",
              "    .dataframe tbody tr th:only-of-type {\n",
              "        vertical-align: middle;\n",
              "    }\n",
              "\n",
              "    .dataframe tbody tr th {\n",
              "        vertical-align: top;\n",
              "    }\n",
              "\n",
              "    .dataframe thead th {\n",
              "        text-align: right;\n",
              "    }\n",
              "</style>\n",
              "<table border=\"1\" class=\"dataframe\">\n",
              "  <thead>\n",
              "    <tr style=\"text-align: right;\">\n",
              "      <th></th>\n",
              "      <th>0</th>\n",
              "    </tr>\n",
              "  </thead>\n",
              "  <tbody>\n",
              "    <tr>\n",
              "      <th>sepal length (cm)</th>\n",
              "      <td>0</td>\n",
              "    </tr>\n",
              "    <tr>\n",
              "      <th>sepal width (cm)</th>\n",
              "      <td>0</td>\n",
              "    </tr>\n",
              "    <tr>\n",
              "      <th>petal length (cm)</th>\n",
              "      <td>0</td>\n",
              "    </tr>\n",
              "    <tr>\n",
              "      <th>petal width (cm)</th>\n",
              "      <td>0</td>\n",
              "    </tr>\n",
              "    <tr>\n",
              "      <th>target</th>\n",
              "      <td>0</td>\n",
              "    </tr>\n",
              "  </tbody>\n",
              "</table>\n",
              "</div><br><label><b>dtype:</b> int64</label>"
            ]
          },
          "metadata": {},
          "execution_count": 66
        }
      ]
    },
    {
      "cell_type": "code",
      "source": [
        "# Usando regresión para predecir los datos faltantes\n",
        "\"\"\"\n",
        "IterativeImputer de scikit-learn usando regresión lineal\n",
        "para predecir cada valor faltante. El imputador localiza de manera automática\n",
        "TODAS las celdas que contienen ``np.nan`` en las columnas numéricas (parámetro\n",
        "``missing_values=np.nan`` por defecto). Para cada columna con huecos:\n",
        "\n",
        "1. Entrena un modelo de regresión lineal usando las filas donde esa columna\n",
        "   **NO** es ``NaN``, tomando como variables predictoras las demás columnas.\n",
        "2. Predice los valores donde **SÍ** es ``NaN`` y reemplaza esos huecos.\n",
        "3. Repite el proceso ``max_iter`` veces (aquí 10) refinando las estimaciones.\n",
        "\"\"\"\n",
        "\n",
        "from sklearn.experimental import enable_iterative_imputer\n",
        "from sklearn.impute import IterativeImputer\n",
        "from sklearn.linear_model import LinearRegression\n",
        "\n",
        "df_iris_missing_predicted_regression = df_iris_missing.copy()\n",
        "\n",
        "# columnas numéricas\n",
        "numerical_cols = df_iris_missing.select_dtypes(include=np.number).columns\n",
        "\n",
        "# Creamos el imputador; por defecto detectará ``np.nan`` y llenará los huecos\n",
        "imputer = IterativeImputer(\n",
        "    estimator=LinearRegression(),  # modelo que predecirá cada valor faltante\n",
        "    max_iter=10,                  # número de rondas de refinamiento MICE\n",
        "    random_state=0,               # reproducibilidad\n",
        "    # missing_values=np.nan       # valor que señala los huecos (default)\n",
        ")\n",
        "\n",
        "\n",
        "# Fit y transform de las columnas numéricas\n",
        "df_iris_missing_predicted_regression[numerical_cols] = imputer.fit_transform(df_iris_missing_predicted_regression[numerical_cols])\n",
        "\n",
        "\n",
        "print(df_iris_missing_predicted_regression.head())\n",
        "print(df_iris_missing_predicted_regression.isna().sum())\n"
      ],
      "metadata": {
        "colab": {
          "base_uri": "https://localhost:8080/"
        },
        "id": "yEGVGFWtLXil",
        "outputId": "fcec3b7e-d83a-49cb-f727-c172faf7da6e"
      },
      "id": "yEGVGFWtLXil",
      "execution_count": 67,
      "outputs": [
        {
          "output_type": "stream",
          "name": "stdout",
          "text": [
            "   sepal length (cm)  sepal width (cm)  petal length (cm)  petal width (cm)  \\\n",
            "0           5.100000               3.5           1.525507          0.200000   \n",
            "1           4.900000               3.0           1.687826          0.200000   \n",
            "2           4.702556               3.2           1.300000          0.200000   \n",
            "3           4.600000               3.1           1.500000          0.200000   \n",
            "4           5.000000               3.6           1.400000          0.248846   \n",
            "\n",
            "   target  \n",
            "0     0.0  \n",
            "1     0.0  \n",
            "2     0.0  \n",
            "3     0.0  \n",
            "4     0.0  \n",
            "sepal length (cm)    0\n",
            "sepal width (cm)     0\n",
            "petal length (cm)    0\n",
            "petal width (cm)     0\n",
            "target               0\n",
            "dtype: int64\n"
          ]
        },
        {
          "output_type": "stream",
          "name": "stderr",
          "text": [
            "/usr/local/lib/python3.11/dist-packages/sklearn/impute/_iterative.py:895: ConvergenceWarning: [IterativeImputer] Early stopping criterion not reached.\n",
            "  warnings.warn(\n"
          ]
        }
      ]
    },
    {
      "cell_type": "code",
      "source": [
        "# Usando Decision Tree Regressor para predecir los datos faltantes\n",
        "from sklearn.experimental import enable_iterative_imputer\n",
        "from sklearn.impute import IterativeImputer\n",
        "from sklearn.tree import DecisionTreeRegressor # Import DecisionTreeRegressor\n",
        "from sklearn.naive_bayes import GaussianNB # Keep import for demonstration in the comment\n",
        "\n",
        "df_iris_missing_predicted_dt = df_iris_missing.copy()\n",
        "\n",
        "# columnas numéricas\n",
        "numerical_cols = df_iris_missing_predicted_dt.select_dtypes(include=np.number).columns\n",
        "\n",
        "# Creamos el imputador con un estimador Decision Tree Regressor\n",
        "imputer_dt = IterativeImputer(\n",
        "    estimator=DecisionTreeRegressor(random_state=0),  # modelo que predecirá cada valor faltante\n",
        "    max_iter=10,                  # número de rondas de refinamiento MICE\n",
        "    random_state=0,               # reproducibilidad\n",
        ")\n",
        "\n",
        "# Fit y transform de las columnas numéricas\n",
        "df_iris_missing_predicted_dt[numerical_cols] = imputer_dt.fit_transform(df_iris_missing_predicted_dt[numerical_cols])\n",
        "\n",
        "print(df_iris_missing_predicted_dt.head())\n",
        "print(df_iris_missing_predicted_dt.isna().sum())"
      ],
      "metadata": {
        "colab": {
          "base_uri": "https://localhost:8080/"
        },
        "id": "CZXggmZZPhBp",
        "outputId": "8fc5dca7-30c9-467b-8ee6-fc732f7b454a"
      },
      "id": "CZXggmZZPhBp",
      "execution_count": 68,
      "outputs": [
        {
          "output_type": "stream",
          "name": "stdout",
          "text": [
            "   sepal length (cm)  sepal width (cm)  petal length (cm)  petal width (cm)  \\\n",
            "0                5.1               3.5                1.7               0.2   \n",
            "1                4.9               3.0                1.5               0.2   \n",
            "2                4.4               3.2                1.3               0.2   \n",
            "3                4.6               3.1                1.5               0.2   \n",
            "4                5.0               3.6                1.4               0.1   \n",
            "\n",
            "   target  \n",
            "0     0.0  \n",
            "1     0.0  \n",
            "2     0.0  \n",
            "3     0.0  \n",
            "4     0.0  \n",
            "sepal length (cm)    0\n",
            "sepal width (cm)     0\n",
            "petal length (cm)    0\n",
            "petal width (cm)     0\n",
            "target               0\n",
            "dtype: int64\n"
          ]
        },
        {
          "output_type": "stream",
          "name": "stderr",
          "text": [
            "/usr/local/lib/python3.11/dist-packages/sklearn/impute/_iterative.py:895: ConvergenceWarning: [IterativeImputer] Early stopping criterion not reached.\n",
            "  warnings.warn(\n"
          ]
        }
      ]
    },
    {
      "cell_type": "code",
      "source": [
        "\n",
        "import matplotlib.pyplot as plt\n",
        "\n",
        "# Get descriptive statistics for each DataFrame\n",
        "desc_df = df.describe().T\n",
        "desc_df_mean = df_iris_missing_replaced_mean.describe().T\n",
        "desc_df_reg = df_iris_missing_predicted_regression.describe().T\n",
        "desc_df_dt = df_iris_missing_predicted_dt.describe().T\n",
        "\n",
        "# Prepare data for plotting\n",
        "stats_to_plot = ['mean', 'std', '50%'] # Corresponding to 'promedio', 'std', and '50%'\n",
        "\n",
        "fig, axes = plt.subplots(1, 3, figsize=(18, 5))\n",
        "\n",
        "for i, stat in enumerate(stats_to_plot):\n",
        "  ax = axes[i]\n",
        "  ax.plot(desc_df.index, desc_df[stat], marker='o', linestyle='-', label='Original')\n",
        "  ax.plot(desc_df_mean.index, desc_df_mean[stat], marker='o', linestyle='-', label='Missing Replaced Mean')\n",
        "  ax.plot(desc_df_reg.index, desc_df_reg[stat], marker='o', linestyle='-', label='Missing Predicted Regression')\n",
        "  ax.plot(desc_df_dt.index, desc_df_dt[stat], marker='o', linestyle='-', label='Missing Predicted DT')\n",
        "  ax.set_title(f'{stat.capitalize()}')\n",
        "  ax.set_ylabel(stat.capitalize())\n",
        "  ax.set_xlabel('Attribute')\n",
        "  ax.tick_params(axis='x', rotation=45)\n",
        "  ax.legend()\n",
        "  ax.grid(True)\n",
        "\n",
        "plt.tight_layout()\n",
        "plt.show()"
      ],
      "metadata": {
        "colab": {
          "base_uri": "https://localhost:8080/",
          "height": 251
        },
        "id": "OSw5INAXQ2SM",
        "outputId": "cfd62c7c-8e80-4f75-fbc1-309b08537d3f"
      },
      "id": "OSw5INAXQ2SM",
      "execution_count": 69,
      "outputs": [
        {
          "output_type": "display_data",
          "data": {
            "text/plain": [
              "<Figure size 1800x500 with 3 Axes>"
            ],
            "image/png": "[encoded data removed]"
          },
          "metadata": {}
        }
      ]
    },
    {
      "cell_type": "markdown",
      "source": [
        "### Normalización\n",
        "Normalización min-max y Normalización z-score"
      ],
      "metadata": {
        "id": "4FajSzDDSWXt"
      },
      "id": "4FajSzDDSWXt"
    },
    {
      "cell_type": "code",
      "source": [
        "#min-max\n",
        "\n",
        "from sklearn.preprocessing import MinMaxScaler\n",
        "\n",
        "numerical_cols = df.select_dtypes(include=np.number).columns\n",
        "\n",
        "# Initialize the MinMaxScaler\n",
        "min_max_scaler = MinMaxScaler()\n",
        "df_min_max_scaled = df.copy()\n",
        "df_min_max_scaled[numerical_cols] = min_max_scaler.fit_transform(df[numerical_cols])\n",
        "\n",
        "print(\"DataFrame after Min-Max Normalization:\")\n",
        "print(df_min_max_scaled.head())"
      ],
      "metadata": {
        "colab": {
          "base_uri": "https://localhost:8080/"
        },
        "id": "zSZowsS5SedZ",
        "outputId": "e46a90e8-9162-41a3-ab71-150bc4678a31"
      },
      "id": "zSZowsS5SedZ",
      "execution_count": 70,
      "outputs": [
        {
          "output_type": "stream",
          "name": "stdout",
          "text": [
            "DataFrame after Min-Max Normalization:\n",
            "   sepal length (cm)  sepal width (cm)  petal length (cm)  petal width (cm)  \\\n",
            "0           0.222222          0.625000           0.067797          0.041667   \n",
            "1           0.166667          0.416667           0.067797          0.041667   \n",
            "2           0.111111          0.500000           0.050847          0.041667   \n",
            "3           0.083333          0.458333           0.084746          0.041667   \n",
            "4           0.194444          0.666667           0.067797          0.041667   \n",
            "\n",
            "   target  \n",
            "0     0.0  \n",
            "1     0.0  \n",
            "2     0.0  \n",
            "3     0.0  \n",
            "4     0.0  \n"
          ]
        }
      ]
    },
    {
      "cell_type": "code",
      "source": [
        "from sklearn.preprocessing import StandardScaler\n",
        "\n",
        "# Initialize the StandardScaler\n",
        "z_score_scaler = StandardScaler()\n",
        "df_z_score_scaled = df.copy()\n",
        "df_z_score_scaled[numerical_cols] = z_score_scaler.fit_transform(df[numerical_cols])\n",
        "\n",
        "print(\"\\nDataFrame after Z-Score Normalization:\")\n",
        "print(df_z_score_scaled.head())"
      ],
      "metadata": {
        "colab": {
          "base_uri": "https://localhost:8080/"
        },
        "id": "EQp1JTKVSw1z",
        "outputId": "9279b53b-30b4-4f5d-c296-9e53c2ee9588"
      },
      "id": "EQp1JTKVSw1z",
      "execution_count": 71,
      "outputs": [
        {
          "output_type": "stream",
          "name": "stdout",
          "text": [
            "\n",
            "DataFrame after Z-Score Normalization:\n",
            "   sepal length (cm)  sepal width (cm)  petal length (cm)  petal width (cm)  \\\n",
            "0          -0.900681          1.019004          -1.340227         -1.315444   \n",
            "1          -1.143017         -0.131979          -1.340227         -1.315444   \n",
            "2          -1.385353          0.328414          -1.397064         -1.315444   \n",
            "3          -1.506521          0.098217          -1.283389         -1.315444   \n",
            "4          -1.021849          1.249201          -1.340227         -1.315444   \n",
            "\n",
            "     target  \n",
            "0 -1.224745  \n",
            "1 -1.224745  \n",
            "2 -1.224745  \n",
            "3 -1.224745  \n",
            "4 -1.224745  \n"
          ]
        }
      ]
    },
    {
      "cell_type": "markdown",
      "source": [
        "### Discretizar\n",
        "vamos a usar los tres metel de igual amplitud, igual frecuencia\n",
        "y agrupación (clustering)"
      ],
      "metadata": {
        "id": "oS_Wka3pLbDG"
      },
      "id": "oS_Wka3pLbDG"
    },
    {
      "cell_type": "code",
      "source": [
        "def equal_width_discretization(df, column, num_bins):\n",
        "  #cut: bin valuesinto dicrete intervals\n",
        "  return pd.cut(df[column], bins=num_bins, labels=False, include_lowest=True)\n",
        "\n",
        "equal_width_df = df.copy()\n",
        "equal_width_df['sepal length (cm)_ewd'] = equal_width_discretization(equal_width_df, 'sepal length (cm)', num_bins=4)\n",
        "\n",
        "\n",
        "print(\"\\nDataFrame igual amplitud:\")\n",
        "print(equal_width_df[['sepal length (cm)', 'sepal length (cm)_ewd']].head())"
      ],
      "metadata": {
        "colab": {
          "base_uri": "https://localhost:8080/"
        },
        "id": "luTFqo6pMCrI",
        "outputId": "d0ba551f-2ec5-4241-be78-ba3d5b41ce02"
      },
      "id": "luTFqo6pMCrI",
      "execution_count": 72,
      "outputs": [
        {
          "output_type": "stream",
          "name": "stdout",
          "text": [
            "\n",
            "DataFrame igual amplitud:\n",
            "   sepal length (cm)  sepal length (cm)_ewd\n",
            "0                5.1                      0\n",
            "1                4.9                      0\n",
            "2                4.7                      0\n",
            "3                4.6                      0\n",
            "4                5.0                      0\n"
          ]
        }
      ]
    },
    {
      "cell_type": "code",
      "source": [
        "\n",
        "def equal_frequency_discretization(df, column, num_bins):\n",
        "  # quantile based discretization function: qcut\n",
        "  return pd.qcut(df[column], q=num_bins, labels=False, duplicates='drop')\n",
        "\n",
        "equal_frecuency_df = df.copy()\n",
        "equal_frecuency_df['sepal length (cm)_efd'] = equal_frequency_discretization(df, 'sepal length (cm)', num_bins=4)\n",
        "\n",
        "print(\"\\nDataFrame igual frecuencia:\")\n",
        "print(equal_frecuency_df[['sepal length (cm)', 'sepal length (cm)_efd']].head())"
      ],
      "metadata": {
        "colab": {
          "base_uri": "https://localhost:8080/"
        },
        "id": "vBoUMN0ITDF4",
        "outputId": "05c2ab1e-3f80-42b4-8e37-ecf8ae78579b"
      },
      "id": "vBoUMN0ITDF4",
      "execution_count": 73,
      "outputs": [
        {
          "output_type": "stream",
          "name": "stdout",
          "text": [
            "\n",
            "DataFrame igual frecuencia:\n",
            "   sepal length (cm)  sepal length (cm)_efd\n",
            "0                5.1                      0\n",
            "1                4.9                      0\n",
            "2                4.7                      0\n",
            "3                4.6                      0\n",
            "4                5.0                      0\n"
          ]
        }
      ]
    },
    {
      "cell_type": "code",
      "source": [
        "from sklearn.cluster import KMeans\n",
        "\n",
        "def clustering_discretization(df, column, num_bins):\n",
        "  # Reshape the column data for KMeans\n",
        "  data = df[column].values.reshape(-1, 1)\n",
        "  # Initialize KMeans\n",
        "  kmeans = KMeans(n_clusters=num_bins, random_state=42, n_init=10)\n",
        "  # Fit KMeans and get the cluster labels\n",
        "  clusters = kmeans.fit_predict(data)\n",
        "  return clusters\n",
        "\n",
        "clustering_df = df.copy()\n",
        "clustering_df['sepal length (cm)_cd'] = clustering_discretization(df, 'sepal length (cm)', num_bins=4)\n",
        "\n",
        "print(\"\\nDataFrame using Clustering-Based Discretization:\")\n",
        "print(clustering_df[['sepal length (cm)', 'sepal length (cm)_cd']].head())"
      ],
      "metadata": {
        "colab": {
          "base_uri": "https://localhost:8080/"
        },
        "id": "EAcmdcd0M-w0",
        "outputId": "a2211f24-afbe-4c56-e4aa-cf1323a5fcac"
      },
      "id": "EAcmdcd0M-w0",
      "execution_count": 74,
      "outputs": [
        {
          "output_type": "stream",
          "name": "stdout",
          "text": [
            "\n",
            "DataFrame using Clustering-Based Discretization:\n",
            "   sepal length (cm)  sepal length (cm)_cd\n",
            "0                5.1                     2\n",
            "1                4.9                     2\n",
            "2                4.7                     2\n",
            "3                4.6                     2\n",
            "4                5.0                     2\n"
          ]
        }
      ]
    },
    {
      "cell_type": "code",
      "source": [
        "fig, axes = plt.subplots(1, 3, figsize=(18, 5))\n",
        "\n",
        "# Plotting Equal Width Discretization\n",
        "axes[0].hist(equal_width_df['sepal length (cm)_ewd'], bins=4, edgecolor='black', align='left')\n",
        "axes[0].set_title('Equal Width Discretization')\n",
        "axes[0].set_xlabel('sepal length (cm)_efd')\n",
        "axes[0].set_ylabel('Frequency')\n",
        "axes[0].set_xticks(range(4))\n",
        "\n",
        "# Plotting Equal Frequency Discretization\n",
        "# qcut might result in fewer bins than requested if values are not unique.\n",
        "# We need to get the actual number of bins created by qcut.\n",
        "actual_efd_bins = equal_frecuency_df['sepal length (cm)_efd'].nunique()\n",
        "axes[1].hist(equal_frecuency_df['sepal length (cm)_efd'], bins=actual_efd_bins, edgecolor='black', align='left')\n",
        "axes[1].set_title('Equal Frequency Discretization')\n",
        "axes[1].set_xlabel('sepal length (cm)_efd')\n",
        "axes[1].set_ylabel('Frequency')\n",
        "axes[1].set_xticks(range(actual_efd_bins))\n",
        "\n",
        "\n",
        "# Plotting Clustering Discretization\n",
        "axes[2].hist(clustering_df['sepal length (cm)_cd'], bins=4, edgecolor='black', align='left')\n",
        "axes[2].set_title('Clustering Discretization')\n",
        "axes[2].set_xlabel('Cluster')\n",
        "axes[2].set_ylabel('Frequency')\n",
        "axes[2].set_xticks(range(4))\n",
        "\n",
        "\n",
        "plt.tight_layout()\n",
        "plt.show()"
      ],
      "metadata": {
        "colab": {
          "base_uri": "https://localhost:8080/",
          "height": 251
        },
        "id": "p9gWOlD0NjUi",
        "outputId": "3a3271d6-b211-47d1-b3ac-24c240e275ae"
      },
      "id": "p9gWOlD0NjUi",
      "execution_count": 75,
      "outputs": [
        {
          "output_type": "display_data",
          "data": {
            "text/plain": [
              "<Figure size 1800x500 with 3 Axes>"
            ],
            "image/png": "[encoded data removed]"
          },
          "metadata": {}
        }
      ]
    },
    {
      "cell_type": "markdown",
      "id": "ef6fe64d",
      "metadata": {
        "id": "ef6fe64d"
      },
      "source": [
        "\n",
        "---\n",
        "\n",
        "### 6. Reducción por binning\n",
        "\n",
        "Dado el conjunto de datos:\n",
        "\n",
        "```\n",
        "I1  I2   I3  \n",
        "1   5.9  3.4  \n",
        "2   2.1  6.2  \n",
        "1   1.6  2.8  \n",
        "2   6.8  5.8  \n",
        "1   3.1  3.1  \n",
        "1   8.3  4.1  \n",
        "2   2.4  5.0  \n",
        "```\n",
        "\n",
        "Realizar reducción de valores basado en la técnica de **binning** con el mejor corte:\n",
        "\n",
        "* a) Dimensión I2 usando la **media** como representante de 2 bins\n",
        "* b) Dimensión I3 usando el **límite más cercano** como representante de 2 bins\n",
        "  *(Mostrar pasos)*\n"
      ]
    },
    {
      "cell_type": "code",
      "source": [
        "data = {'I1': [1, 2, 1, 2, 1, 1, 2],\n",
        "        'I2': [5.9, 2.1, 1.6, 6.8, 3.1, 8.3, 2.4],\n",
        "        'I3': [3.4, 6.2, 2.8, 5.8, 3.1, 4.1, 5.0]}\n",
        "binning_df = pd.DataFrame(data)\n",
        "\n",
        "print(\"Original DataFrame:\")\n",
        "binning_df"
      ],
      "metadata": {
        "colab": {
          "base_uri": "https://localhost:8080/",
          "height": 287
        },
        "id": "sixt3Z-GOgIf",
        "outputId": "f7c0cc93-27bb-4f52-ad71-3cdefb36a777"
      },
      "id": "sixt3Z-GOgIf",
      "execution_count": 76,
      "outputs": [
        {
          "output_type": "stream",
          "name": "stdout",
          "text": [
            "Original DataFrame:\n"
          ]
        },
        {
          "output_type": "execute_result",
          "data": {
            "text/plain": [
              "   I1   I2   I3\n",
              "0   1  5.9  3.4\n",
              "1   2  2.1  6.2\n",
              "2   1  1.6  2.8\n",
              "3   2  6.8  5.8\n",
              "4   1  3.1  3.1\n",
              "5   1  8.3  4.1\n",
              "6   2  2.4  5.0"
            ],
            "text/html": [
              "\n",
              "  <div id=\"df-1c57eb8e-19fb-4e69-ae62-2a0474ce0ad6\" class=\"colab-df-container\">\n",
              "    <div>\n",
              "<style scoped>\n",
              "    .dataframe tbody tr th:only-of-type {\n",
              "        vertical-align: middle;\n",
              "    }\n",
              "\n",
              "    .dataframe tbody tr th {\n",
              "        vertical-align: top;\n",
              "    }\n",
              "\n",
              "    .dataframe thead th {\n",
              "        text-align: right;\n",
              "    }\n",
              "</style>\n",
              "<table border=\"1\" class=\"dataframe\">\n",
              "  <thead>\n",
              "    <tr style=\"text-align: right;\">\n",
              "      <th></th>\n",
              "      <th>I1</th>\n",
              "      <th>I2</th>\n",
              "      <th>I3</th>\n",
              "    </tr>\n",
              "  </thead>\n",
              "  <tbody>\n",
              "    <tr>\n",
              "      <th>0</th>\n",
              "      <td>1</td>\n",
              "      <td>5.9</td>\n",
              "      <td>3.4</td>\n",
              "    </tr>\n",
              "    <tr>\n",
              "      <th>1</th>\n",
              "      <td>2</td>\n",
              "      <td>2.1</td>\n",
              "      <td>6.2</td>\n",
              "    </tr>\n",
              "    <tr>\n",
              "      <th>2</th>\n",
              "      <td>1</td>\n",
              "      <td>1.6</td>\n",
              "      <td>2.8</td>\n",
              "    </tr>\n",
              "    <tr>\n",
              "      <th>3</th>\n",
              "      <td>2</td>\n",
              "      <td>6.8</td>\n",
              "      <td>5.8</td>\n",
              "    </tr>\n",
              "    <tr>\n",
              "      <th>4</th>\n",
              "      <td>1</td>\n",
              "      <td>3.1</td>\n",
              "      <td>3.1</td>\n",
              "    </tr>\n",
              "    <tr>\n",
              "      <th>5</th>\n",
              "      <td>1</td>\n",
              "      <td>8.3</td>\n",
              "      <td>4.1</td>\n",
              "    </tr>\n",
              "    <tr>\n",
              "      <th>6</th>\n",
              "      <td>2</td>\n",
              "      <td>2.4</td>\n",
              "      <td>5.0</td>\n",
              "    </tr>\n",
              "  </tbody>\n",
              "</table>\n",
              "</div>\n",
              "    <div class=\"colab-df-buttons\">\n",
              "\n",
              "  <div class=\"colab-df-container\">\n",
              "    <button class=\"colab-df-convert\" onclick=\"convertToInteractive('df-1c57eb8e-19fb-4e69-ae62-2a0474ce0ad6')\"\n",
              "            title=\"Convert this dataframe to an interactive table.\"\n",
              "            style=\"display:none;\">\n",
              "\n",
              "  <svg xmlns=\"http://www.w3.org/2000/svg\" height=\"24px\" viewBox=\"0 -960 960 960\">\n",
              "    <path d=\"M120-120v-720h720v720H120Zm60-500h600v-160H180v160Zm220 220h160v-160H400v160Zm0 220h160v-160H400v160ZM180-400h160v-160H180v160Zm440 0h160v-160H620v160ZM180-180h160v-160H180v160Zm440 0h160v-160H620v160Z\"/>\n",
              "  </svg>\n",
              "    </button>\n",
              "\n",
              "  <style>\n",
              "    .colab-df-container {\n",
              "      display:flex;\n",
              "      gap: 12px;\n",
              "    }\n",
              "\n",
              "    .colab-df-convert {\n",
              "      background-color: #E8F0FE;\n",
              "      border: none;\n",
              "      border-radius: 50%;\n",
              "      cursor: pointer;\n",
              "      display: none;\n",
              "      fill: #1967D2;\n",
              "      height: 32px;\n",
              "      padding: 0 0 0 0;\n",
              "      width: 32px;\n",
              "    }\n",
              "\n",
              "    .colab-df-convert:hover {\n",
              "      background-color: #E2EBFA;\n",
              "      box-shadow: 0px 1px 2px rgba(60, 64, 67, 0.3), 0px 1px 3px 1px rgba(60, 64, 67, 0.15);\n",
              "      fill: #174EA6;\n",
              "    }\n",
              "\n",
              "    .colab-df-buttons div {\n",
              "      margin-bottom: 4px;\n",
              "    }\n",
              "\n",
              "    [theme=dark] .colab-df-convert {\n",
              "      background-color: #3B4455;\n",
              "      fill: #D2E3FC;\n",
              "    }\n",
              "\n",
              "    [theme=dark] .colab-df-convert:hover {\n",
              "      background-color: #434B5C;\n",
              "      box-shadow: 0px 1px 3px 1px rgba(0, 0, 0, 0.15);\n",
              "      filter: drop-shadow(0px 1px 2px rgba(0, 0, 0, 0.3));\n",
              "      fill: #FFFFFF;\n",
              "    }\n",
              "  </style>\n",
              "\n",
              "    <script>\n",
              "      const buttonEl =\n",
              "        document.querySelector('#df-1c57eb8e-19fb-4e69-ae62-2a0474ce0ad6 button.colab-df-convert');\n",
              "      buttonEl.style.display =\n",
              "        google.colab.kernel.accessAllowed ? 'block' : 'none';\n",
              "\n",
              "      async function convertToInteractive(key) {\n",
              "        const element = document.querySelector('#df-1c57eb8e-19fb-4e69-ae62-2a0474ce0ad6');\n",
              "        const dataTable =\n",
              "          await google.colab.kernel.invokeFunction('convertToInteractive',\n",
              "                                                    [key], {});\n",
              "        if (!dataTable) return;\n",
              "\n",
              "        const docLinkHtml = 'Like what you see? Visit the ' +\n",
              "          '<a target=\"_blank\" href=https://colab.research.google.com/notebooks/data_table.ipynb>data table notebook</a>'\n",
              "          + ' to learn more about interactive tables.';\n",
              "        element.innerHTML = '';\n",
              "        dataTable['output_type'] = 'display_data';\n",
              "        await google.colab.output.renderOutput(dataTable, element);\n",
              "        const docLink = document.createElement('div');\n",
              "        docLink.innerHTML = docLinkHtml;\n",
              "        element.appendChild(docLink);\n",
              "      }\n",
              "    </script>\n",
              "  </div>\n",
              "\n",
              "\n",
              "    <div id=\"df-2ff0eddd-d491-4bf8-81e1-453245f97d53\">\n",
              "      <button class=\"colab-df-quickchart\" onclick=\"quickchart('df-2ff0eddd-d491-4bf8-81e1-453245f97d53')\"\n",
              "                title=\"Suggest charts\"\n",
              "                style=\"display:none;\">\n",
              "\n",
              "<svg xmlns=\"http://www.w3.org/2000/svg\" height=\"24px\"viewBox=\"0 0 24 24\"\n",
              "     width=\"24px\">\n",
              "    <g>\n",
              "        <path d=\"M19 3H5c-1.1 0-2 .9-2 2v14c0 1.1.9 2 2 2h14c1.1 0 2-.9 2-2V5c0-1.1-.9-2-2-2zM9 17H7v-7h2v7zm4 0h-2V7h2v10zm4 0h-2v-4h2v4z\"/>\n",
              "    </g>\n",
              "</svg>\n",
              "      </button>\n",
              "\n",
              "<style>\n",
              "  .colab-df-quickchart {\n",
              "      --bg-color: #E8F0FE;\n",
              "      --fill-color: #1967D2;\n",
              "      --hover-bg-color: #E2EBFA;\n",
              "      --hover-fill-color: #174EA6;\n",
              "      --disabled-fill-color: #AAA;\n",
              "      --disabled-bg-color: #DDD;\n",
              "  }\n",
              "\n",
              "  [theme=dark] .colab-df-quickchart {\n",
              "      --bg-color: #3B4455;\n",
              "      --fill-color: #D2E3FC;\n",
              "      --hover-bg-color: #434B5C;\n",
              "      --hover-fill-color: #FFFFFF;\n",
              "      --disabled-bg-color: #3B4455;\n",
              "      --disabled-fill-color: #666;\n",
              "  }\n",
              "\n",
              "  .colab-df-quickchart {\n",
              "    background-color: var(--bg-color);\n",
              "    border: none;\n",
              "    border-radius: 50%;\n",
              "    cursor: pointer;\n",
              "    display: none;\n",
              "    fill: var(--fill-color);\n",
              "    height: 32px;\n",
              "    padding: 0;\n",
              "    width: 32px;\n",
              "  }\n",
              "\n",
              "  .colab-df-quickchart:hover {\n",
              "    background-color: var(--hover-bg-color);\n",
              "    box-shadow: 0 1px 2px rgba(60, 64, 67, 0.3), 0 1px 3px 1px rgba(60, 64, 67, 0.15);\n",
              "    fill: var(--button-hover-fill-color);\n",
              "  }\n",
              "\n",
              "  .colab-df-quickchart-complete:disabled,\n",
              "  .colab-df-quickchart-complete:disabled:hover {\n",
              "    background-color: var(--disabled-bg-color);\n",
              "    fill: var(--disabled-fill-color);\n",
              "    box-shadow: none;\n",
              "  }\n",
              "\n",
              "  .colab-df-spinner {\n",
              "    border: 2px solid var(--fill-color);\n",
              "    border-color: transparent;\n",
              "    border-bottom-color: var(--fill-color);\n",
              "    animation:\n",
              "      spin 1s steps(1) infinite;\n",
              "  }\n",
              "\n",
              "  @keyframes spin {\n",
              "    0% {\n",
              "      border-color: transparent;\n",
              "      border-bottom-color: var(--fill-color);\n",
              "      border-left-color: var(--fill-color);\n",
              "    }\n",
              "    20% {\n",
              "      border-color: transparent;\n",
              "      border-left-color: var(--fill-color);\n",
              "      border-top-color: var(--fill-color);\n",
              "    }\n",
              "    30% {\n",
              "      border-color: transparent;\n",
              "      border-left-color: var(--fill-color);\n",
              "      border-top-color: var(--fill-color);\n",
              "      border-right-color: var(--fill-color);\n",
              "    }\n",
              "    40% {\n",
              "      border-color: transparent;\n",
              "      border-right-color: var(--fill-color);\n",
              "      border-top-color: var(--fill-color);\n",
              "    }\n",
              "    60% {\n",
              "      border-color: transparent;\n",
              "      border-right-color: var(--fill-color);\n",
              "    }\n",
              "    80% {\n",
              "      border-color: transparent;\n",
              "      border-right-color: var(--fill-color);\n",
              "      border-bottom-color: var(--fill-color);\n",
              "    }\n",
              "    90% {\n",
              "      border-color: transparent;\n",
              "      border-bottom-color: var(--fill-color);\n",
              "    }\n",
              "  }\n",
              "</style>\n",
              "\n",
              "      <script>\n",
              "        async function quickchart(key) {\n",
              "          const quickchartButtonEl =\n",
              "            document.querySelector('#' + key + ' button');\n",
              "          quickchartButtonEl.disabled = true;  // To prevent multiple clicks.\n",
              "          quickchartButtonEl.classList.add('colab-df-spinner');\n",
              "          try {\n",
              "            const charts = await google.colab.kernel.invokeFunction(\n",
              "                'suggestCharts', [key], {});\n",
              "          } catch (error) {\n",
              "            console.error('Error during call to suggestCharts:', error);\n",
              "          }\n",
              "          quickchartButtonEl.classList.remove('colab-df-spinner');\n",
              "          quickchartButtonEl.classList.add('colab-df-quickchart-complete');\n",
              "        }\n",
              "        (() => {\n",
              "          let quickchartButtonEl =\n",
              "            document.querySelector('#df-2ff0eddd-d491-4bf8-81e1-453245f97d53 button');\n",
              "          quickchartButtonEl.style.display =\n",
              "            google.colab.kernel.accessAllowed ? 'block' : 'none';\n",
              "        })();\n",
              "      </script>\n",
              "    </div>\n",
              "\n",
              "  <div id=\"id_8207f716-2a15-4cbf-a42e-0971fd3c358f\">\n",
              "    <style>\n",
              "      .colab-df-generate {\n",
              "        background-color: #E8F0FE;\n",
              "        border: none;\n",
              "        border-radius: 50%;\n",
              "        cursor: pointer;\n",
              "        display: none;\n",
              "        fill: #1967D2;\n",
              "        height: 32px;\n",
              "        padding: 0 0 0 0;\n",
              "        width: 32px;\n",
              "      }\n",
              "\n",
              "      .colab-df-generate:hover {\n",
              "        background-color: #E2EBFA;\n",
              "        box-shadow: 0px 1px 2px rgba(60, 64, 67, 0.3), 0px 1px 3px 1px rgba(60, 64, 67, 0.15);\n",
              "        fill: #174EA6;\n",
              "      }\n",
              "\n",
              "      [theme=dark] .colab-df-generate {\n",
              "        background-color: #3B4455;\n",
              "        fill: #D2E3FC;\n",
              "      }\n",
              "\n",
              "      [theme=dark] .colab-df-generate:hover {\n",
              "        background-color: #434B5C;\n",
              "        box-shadow: 0px 1px 3px 1px rgba(0, 0, 0, 0.15);\n",
              "        filter: drop-shadow(0px 1px 2px rgba(0, 0, 0, 0.3));\n",
              "        fill: #FFFFFF;\n",
              "      }\n",
              "    </style>\n",
              "    <button class=\"colab-df-generate\" onclick=\"generateWithVariable('binning_df')\"\n",
              "            title=\"Generate code using this dataframe.\"\n",
              "            style=\"display:none;\">\n",
              "\n",
              "  <svg xmlns=\"http://www.w3.org/2000/svg\" height=\"24px\"viewBox=\"0 0 24 24\"\n",
              "       width=\"24px\">\n",
              "    <path d=\"M7,19H8.4L18.45,9,17,7.55,7,17.6ZM5,21V16.75L18.45,3.32a2,2,0,0,1,2.83,0l1.4,1.43a1.91,1.91,0,0,1,.58,1.4,1.91,1.91,0,0,1-.58,1.4L9.25,21ZM18.45,9,17,7.55Zm-12,3A5.31,5.31,0,0,0,4.9,8.1,5.31,5.31,0,0,0,1,6.5,5.31,5.31,0,0,0,4.9,4.9,5.31,5.31,0,0,0,6.5,1,5.31,5.31,0,0,0,8.1,4.9,5.31,5.31,0,0,0,12,6.5,5.46,5.46,0,0,0,6.5,12Z\"/>\n",
              "  </svg>\n",
              "    </button>\n",
              "    <script>\n",
              "      (() => {\n",
              "      const buttonEl =\n",
              "        document.querySelector('#id_8207f716-2a15-4cbf-a42e-0971fd3c358f button.colab-df-generate');\n",
              "      buttonEl.style.display =\n",
              "        google.colab.kernel.accessAllowed ? 'block' : 'none';\n",
              "\n",
              "      buttonEl.onclick = () => {\n",
              "        google.colab.notebook.generateWithVariable('binning_df');\n",
              "      }\n",
              "      })();\n",
              "    </script>\n",
              "  </div>\n",
              "\n",
              "    </div>\n",
              "  </div>\n"
            ],
            "application/vnd.google.colaboratory.intrinsic+json": {
              "type": "dataframe",
              "variable_name": "binning_df",
              "summary": "{\n  \"name\": \"binning_df\",\n  \"rows\": 7,\n  \"fields\": [\n    {\n      \"column\": \"I1\",\n      \"properties\": {\n        \"dtype\": \"number\",\n        \"std\": 0,\n        \"min\": 1,\n        \"max\": 2,\n        \"num_unique_values\": 2,\n        \"samples\": [\n          2,\n          1\n        ],\n        \"semantic_type\": \"\",\n        \"description\": \"\"\n      }\n    },\n    {\n      \"column\": \"I2\",\n      \"properties\": {\n        \"dtype\": \"number\",\n        \"std\": 2.6453913204089936,\n        \"min\": 1.6,\n        \"max\": 8.3,\n        \"num_unique_values\": 7,\n        \"samples\": [\n          5.9,\n          2.1\n        ],\n        \"semantic_type\": \"\",\n        \"description\": \"\"\n      }\n    },\n    {\n      \"column\": \"I3\",\n      \"properties\": {\n        \"dtype\": \"number\",\n        \"std\": 1.3464238347775723,\n        \"min\": 2.8,\n        \"max\": 6.2,\n        \"num_unique_values\": 7,\n        \"samples\": [\n          3.4,\n          6.2\n        ],\n        \"semantic_type\": \"\",\n        \"description\": \"\"\n      }\n    }\n  ]\n}"
            }
          },
          "metadata": {},
          "execution_count": 76
        }
      ]
    },
    {
      "cell_type": "code",
      "source": [
        "\n",
        "# a) Dimensión I2 usando la media como representante de 2 bins\n",
        "\n",
        "# Ordenar los datos\n",
        "binning_df_sorted_i2 = binning_df.sort_values(by='I2').reset_index(drop=True)\n",
        "\n",
        "num_bins = 2 #2 bins\n",
        "bin_size = len(binning_df_sorted_i2) // num_bins\n",
        "\n",
        "\n",
        "binning_df_sorted_i2['I2_bin'] = pd.cut(binning_df_sorted_i2['I2'], bins=num_bins, labels=False, include_lowest=True)\n",
        "\n",
        "# Create a temporary sorted df with bin assignments to calculate means\n",
        "temp_sorted_df = binning_df.sort_values(by='I2').reset_index()\n",
        "temp_sorted_df['I2_bin'] = pd.cut(temp_sorted_df['I2'], bins=num_bins, labels=False, include_lowest=True)\n",
        "\n",
        "# calcula el promedio para cada bin\n",
        "bin_means_i2 = temp_sorted_df.groupby('I2_bin')['I2'].transform('mean')\n",
        "\n",
        "# Create a mapping from original index to bin mean\n",
        "index_to_bin_mean = temp_sorted_df.set_index('index')['I2_bin'].apply(lambda x: bin_means_i2[temp_sorted_df['I2_bin'] == x].iloc[0])\n",
        "\n",
        "# Apply the mapping to the original dataframe\n",
        "binning_df['I2_binned_mean'] = binning_df.index.map(index_to_bin_mean)\n",
        "\n",
        "\n",
        "print(\"\\nDataFrame usando Binning en I2 con representante Promedio:\")\n",
        "binning_df"
      ],
      "metadata": {
        "colab": {
          "base_uri": "https://localhost:8080/",
          "height": 305
        },
        "id": "2Mvql8QOO1Fm",
        "outputId": "d82eedf1-8e58-440d-eb8d-793ebea4bfde"
      },
      "id": "2Mvql8QOO1Fm",
      "execution_count": 77,
      "outputs": [
        {
          "output_type": "stream",
          "name": "stdout",
          "text": [
            "\n",
            "DataFrame usando Binning en I2 con representante Promedio:\n"
          ]
        },
        {
          "output_type": "execute_result",
          "data": {
            "text/plain": [
              "   I1   I2   I3  I2_binned_mean\n",
              "0   1  5.9  3.4             7.0\n",
              "1   2  2.1  6.2             2.3\n",
              "2   1  1.6  2.8             2.3\n",
              "3   2  6.8  5.8             7.0\n",
              "4   1  3.1  3.1             2.3\n",
              "5   1  8.3  4.1             7.0\n",
              "6   2  2.4  5.0             2.3"
            ],
            "text/html": [
              "\n",
              "  <div id=\"df-1c3c5c64-6053-4291-84e5-90732f1d12d3\" class=\"colab-df-container\">\n",
              "    <div>\n",
              "<style scoped>\n",
              "    .dataframe tbody tr th:only-of-type {\n",
              "        vertical-align: middle;\n",
              "    }\n",
              "\n",
              "    .dataframe tbody tr th {\n",
              "        vertical-align: top;\n",
              "    }\n",
              "\n",
              "    .dataframe thead th {\n",
              "        text-align: right;\n",
              "    }\n",
              "</style>\n",
              "<table border=\"1\" class=\"dataframe\">\n",
              "  <thead>\n",
              "    <tr style=\"text-align: right;\">\n",
              "      <th></th>\n",
              "      <th>I1</th>\n",
              "      <th>I2</th>\n",
              "      <th>I3</th>\n",
              "      <th>I2_binned_mean</th>\n",
              "    </tr>\n",
              "  </thead>\n",
              "  <tbody>\n",
              "    <tr>\n",
              "      <th>0</th>\n",
              "      <td>1</td>\n",
              "      <td>5.9</td>\n",
              "      <td>3.4</td>\n",
              "      <td>7.0</td>\n",
              "    </tr>\n",
              "    <tr>\n",
              "      <th>1</th>\n",
              "      <td>2</td>\n",
              "      <td>2.1</td>\n",
              "      <td>6.2</td>\n",
              "      <td>2.3</td>\n",
              "    </tr>\n",
              "    <tr>\n",
              "      <th>2</th>\n",
              "      <td>1</td>\n",
              "      <td>1.6</td>\n",
              "      <td>2.8</td>\n",
              "      <td>2.3</td>\n",
              "    </tr>\n",
              "    <tr>\n",
              "      <th>3</th>\n",
              "      <td>2</td>\n",
              "      <td>6.8</td>\n",
              "      <td>5.8</td>\n",
              "      <td>7.0</td>\n",
              "    </tr>\n",
              "    <tr>\n",
              "      <th>4</th>\n",
              "      <td>1</td>\n",
              "      <td>3.1</td>\n",
              "      <td>3.1</td>\n",
              "      <td>2.3</td>\n",
              "    </tr>\n",
              "    <tr>\n",
              "      <th>5</th>\n",
              "      <td>1</td>\n",
              "      <td>8.3</td>\n",
              "      <td>4.1</td>\n",
              "      <td>7.0</td>\n",
              "    </tr>\n",
              "    <tr>\n",
              "      <th>6</th>\n",
              "      <td>2</td>\n",
              "      <td>2.4</td>\n",
              "      <td>5.0</td>\n",
              "      <td>2.3</td>\n",
              "    </tr>\n",
              "  </tbody>\n",
              "</table>\n",
              "</div>\n",
              "    <div class=\"colab-df-buttons\">\n",
              "\n",
              "  <div class=\"colab-df-container\">\n",
              "    <button class=\"colab-df-convert\" onclick=\"convertToInteractive('df-1c3c5c64-6053-4291-84e5-90732f1d12d3')\"\n",
              "            title=\"Convert this dataframe to an interactive table.\"\n",
              "            style=\"display:none;\">\n",
              "\n",
              "  <svg xmlns=\"http://www.w3.org/2000/svg\" height=\"24px\" viewBox=\"0 -960 960 960\">\n",
              "    <path d=\"M120-120v-720h720v720H120Zm60-500h600v-160H180v160Zm220 220h160v-160H400v160Zm0 220h160v-160H400v160ZM180-400h160v-160H180v160Zm440 0h160v-160H620v160ZM180-180h160v-160H180v160Zm440 0h160v-160H620v160Z\"/>\n",
              "  </svg>\n",
              "    </button>\n",
              "\n",
              "  <style>\n",
              "    .colab-df-container {\n",
              "      display:flex;\n",
              "      gap: 12px;\n",
              "    }\n",
              "\n",
              "    .colab-df-convert {\n",
              "      background-color: #E8F0FE;\n",
              "      border: none;\n",
              "      border-radius: 50%;\n",
              "      cursor: pointer;\n",
              "      display: none;\n",
              "      fill: #1967D2;\n",
              "      height: 32px;\n",
              "      padding: 0 0 0 0;\n",
              "      width: 32px;\n",
              "    }\n",
              "\n",
              "    .colab-df-convert:hover {\n",
              "      background-color: #E2EBFA;\n",
              "      box-shadow: 0px 1px 2px rgba(60, 64, 67, 0.3), 0px 1px 3px 1px rgba(60, 64, 67, 0.15);\n",
              "      fill: #174EA6;\n",
              "    }\n",
              "\n",
              "    .colab-df-buttons div {\n",
              "      margin-bottom: 4px;\n",
              "    }\n",
              "\n",
              "    [theme=dark] .colab-df-convert {\n",
              "      background-color: #3B4455;\n",
              "      fill: #D2E3FC;\n",
              "    }\n",
              "\n",
              "    [theme=dark] .colab-df-convert:hover {\n",
              "      background-color: #434B5C;\n",
              "      box-shadow: 0px 1px 3px 1px rgba(0, 0, 0, 0.15);\n",
              "      filter: drop-shadow(0px 1px 2px rgba(0, 0, 0, 0.3));\n",
              "      fill: #FFFFFF;\n",
              "    }\n",
              "  </style>\n",
              "\n",
              "    <script>\n",
              "      const buttonEl =\n",
              "        document.querySelector('#df-1c3c5c64-6053-4291-84e5-90732f1d12d3 button.colab-df-convert');\n",
              "      buttonEl.style.display =\n",
              "        google.colab.kernel.accessAllowed ? 'block' : 'none';\n",
              "\n",
              "      async function convertToInteractive(key) {\n",
              "        const element = document.querySelector('#df-1c3c5c64-6053-4291-84e5-90732f1d12d3');\n",
              "        const dataTable =\n",
              "          await google.colab.kernel.invokeFunction('convertToInteractive',\n",
              "                                                    [key], {});\n",
              "        if (!dataTable) return;\n",
              "\n",
              "        const docLinkHtml = 'Like what you see? Visit the ' +\n",
              "          '<a target=\"_blank\" href=https://colab.research.google.com/notebooks/data_table.ipynb>data table notebook</a>'\n",
              "          + ' to learn more about interactive tables.';\n",
              "        element.innerHTML = '';\n",
              "        dataTable['output_type'] = 'display_data';\n",
              "        await google.colab.output.renderOutput(dataTable, element);\n",
              "        const docLink = document.createElement('div');\n",
              "        docLink.innerHTML = docLinkHtml;\n",
              "        element.appendChild(docLink);\n",
              "      }\n",
              "    </script>\n",
              "  </div>\n",
              "\n",
              "\n",
              "    <div id=\"df-550917f3-6565-4835-9a71-dea524b1c797\">\n",
              "      <button class=\"colab-df-quickchart\" onclick=\"quickchart('df-550917f3-6565-4835-9a71-dea524b1c797')\"\n",
              "                title=\"Suggest charts\"\n",
              "                style=\"display:none;\">\n",
              "\n",
              "<svg xmlns=\"http://www.w3.org/2000/svg\" height=\"24px\"viewBox=\"0 0 24 24\"\n",
              "     width=\"24px\">\n",
              "    <g>\n",
              "        <path d=\"M19 3H5c-1.1 0-2 .9-2 2v14c0 1.1.9 2 2 2h14c1.1 0 2-.9 2-2V5c0-1.1-.9-2-2-2zM9 17H7v-7h2v7zm4 0h-2V7h2v10zm4 0h-2v-4h2v4z\"/>\n",
              "    </g>\n",
              "</svg>\n",
              "      </button>\n",
              "\n",
              "<style>\n",
              "  .colab-df-quickchart {\n",
              "      --bg-color: #E8F0FE;\n",
              "      --fill-color: #1967D2;\n",
              "      --hover-bg-color: #E2EBFA;\n",
              "      --hover-fill-color: #174EA6;\n",
              "      --disabled-fill-color: #AAA;\n",
              "      --disabled-bg-color: #DDD;\n",
              "  }\n",
              "\n",
              "  [theme=dark] .colab-df-quickchart {\n",
              "      --bg-color: #3B4455;\n",
              "      --fill-color: #D2E3FC;\n",
              "      --hover-bg-color: #434B5C;\n",
              "      --hover-fill-color: #FFFFFF;\n",
              "      --disabled-bg-color: #3B4455;\n",
              "      --disabled-fill-color: #666;\n",
              "  }\n",
              "\n",
              "  .colab-df-quickchart {\n",
              "    background-color: var(--bg-color);\n",
              "    border: none;\n",
              "    border-radius: 50%;\n",
              "    cursor: pointer;\n",
              "    display: none;\n",
              "    fill: var(--fill-color);\n",
              "    height: 32px;\n",
              "    padding: 0;\n",
              "    width: 32px;\n",
              "  }\n",
              "\n",
              "  .colab-df-quickchart:hover {\n",
              "    background-color: var(--hover-bg-color);\n",
              "    box-shadow: 0 1px 2px rgba(60, 64, 67, 0.3), 0 1px 3px 1px rgba(60, 64, 67, 0.15);\n",
              "    fill: var(--button-hover-fill-color);\n",
              "  }\n",
              "\n",
              "  .colab-df-quickchart-complete:disabled,\n",
              "  .colab-df-quickchart-complete:disabled:hover {\n",
              "    background-color: var(--disabled-bg-color);\n",
              "    fill: var(--disabled-fill-color);\n",
              "    box-shadow: none;\n",
              "  }\n",
              "\n",
              "  .colab-df-spinner {\n",
              "    border: 2px solid var(--fill-color);\n",
              "    border-color: transparent;\n",
              "    border-bottom-color: var(--fill-color);\n",
              "    animation:\n",
              "      spin 1s steps(1) infinite;\n",
              "  }\n",
              "\n",
              "  @keyframes spin {\n",
              "    0% {\n",
              "      border-color: transparent;\n",
              "      border-bottom-color: var(--fill-color);\n",
              "      border-left-color: var(--fill-color);\n",
              "    }\n",
              "    20% {\n",
              "      border-color: transparent;\n",
              "      border-left-color: var(--fill-color);\n",
              "      border-top-color: var(--fill-color);\n",
              "    }\n",
              "    30% {\n",
              "      border-color: transparent;\n",
              "      border-left-color: var(--fill-color);\n",
              "      border-top-color: var(--fill-color);\n",
              "      border-right-color: var(--fill-color);\n",
              "    }\n",
              "    40% {\n",
              "      border-color: transparent;\n",
              "      border-right-color: var(--fill-color);\n",
              "      border-top-color: var(--fill-color);\n",
              "    }\n",
              "    60% {\n",
              "      border-color: transparent;\n",
              "      border-right-color: var(--fill-color);\n",
              "    }\n",
              "    80% {\n",
              "      border-color: transparent;\n",
              "      border-right-color: var(--fill-color);\n",
              "      border-bottom-color: var(--fill-color);\n",
              "    }\n",
              "    90% {\n",
              "      border-color: transparent;\n",
              "      border-bottom-color: var(--fill-color);\n",
              "    }\n",
              "  }\n",
              "</style>\n",
              "\n",
              "      <script>\n",
              "        async function quickchart(key) {\n",
              "          const quickchartButtonEl =\n",
              "            document.querySelector('#' + key + ' button');\n",
              "          quickchartButtonEl.disabled = true;  // To prevent multiple clicks.\n",
              "          quickchartButtonEl.classList.add('colab-df-spinner');\n",
              "          try {\n",
              "            const charts = await google.colab.kernel.invokeFunction(\n",
              "                'suggestCharts', [key], {});\n",
              "          } catch (error) {\n",
              "            console.error('Error during call to suggestCharts:', error);\n",
              "          }\n",
              "          quickchartButtonEl.classList.remove('colab-df-spinner');\n",
              "          quickchartButtonEl.classList.add('colab-df-quickchart-complete');\n",
              "        }\n",
              "        (() => {\n",
              "          let quickchartButtonEl =\n",
              "            document.querySelector('#df-550917f3-6565-4835-9a71-dea524b1c797 button');\n",
              "          quickchartButtonEl.style.display =\n",
              "            google.colab.kernel.accessAllowed ? 'block' : 'none';\n",
              "        })();\n",
              "      </script>\n",
              "    </div>\n",
              "\n",
              "  <div id=\"id_33ba051c-7e76-454e-9c58-7b755aa849a9\">\n",
              "    <style>\n",
              "      .colab-df-generate {\n",
              "        background-color: #E8F0FE;\n",
              "        border: none;\n",
              "        border-radius: 50%;\n",
              "        cursor: pointer;\n",
              "        display: none;\n",
              "        fill: #1967D2;\n",
              "        height: 32px;\n",
              "        padding: 0 0 0 0;\n",
              "        width: 32px;\n",
              "      }\n",
              "\n",
              "      .colab-df-generate:hover {\n",
              "        background-color: #E2EBFA;\n",
              "        box-shadow: 0px 1px 2px rgba(60, 64, 67, 0.3), 0px 1px 3px 1px rgba(60, 64, 67, 0.15);\n",
              "        fill: #174EA6;\n",
              "      }\n",
              "\n",
              "      [theme=dark] .colab-df-generate {\n",
              "        background-color: #3B4455;\n",
              "        fill: #D2E3FC;\n",
              "      }\n",
              "\n",
              "      [theme=dark] .colab-df-generate:hover {\n",
              "        background-color: #434B5C;\n",
              "        box-shadow: 0px 1px 3px 1px rgba(0, 0, 0, 0.15);\n",
              "        filter: drop-shadow(0px 1px 2px rgba(0, 0, 0, 0.3));\n",
              "        fill: #FFFFFF;\n",
              "      }\n",
              "    </style>\n",
              "    <button class=\"colab-df-generate\" onclick=\"generateWithVariable('binning_df')\"\n",
              "            title=\"Generate code using this dataframe.\"\n",
              "            style=\"display:none;\">\n",
              "\n",
              "  <svg xmlns=\"http://www.w3.org/2000/svg\" height=\"24px\"viewBox=\"0 0 24 24\"\n",
              "       width=\"24px\">\n",
              "    <path d=\"M7,19H8.4L18.45,9,17,7.55,7,17.6ZM5,21V16.75L18.45,3.32a2,2,0,0,1,2.83,0l1.4,1.43a1.91,1.91,0,0,1,.58,1.4,1.91,1.91,0,0,1-.58,1.4L9.25,21ZM18.45,9,17,7.55Zm-12,3A5.31,5.31,0,0,0,4.9,8.1,5.31,5.31,0,0,0,1,6.5,5.31,5.31,0,0,0,4.9,4.9,5.31,5.31,0,0,0,6.5,1,5.31,5.31,0,0,0,8.1,4.9,5.31,5.31,0,0,0,12,6.5,5.46,5.46,0,0,0,6.5,12Z\"/>\n",
              "  </svg>\n",
              "    </button>\n",
              "    <script>\n",
              "      (() => {\n",
              "      const buttonEl =\n",
              "        document.querySelector('#id_33ba051c-7e76-454e-9c58-7b755aa849a9 button.colab-df-generate');\n",
              "      buttonEl.style.display =\n",
              "        google.colab.kernel.accessAllowed ? 'block' : 'none';\n",
              "\n",
              "      buttonEl.onclick = () => {\n",
              "        google.colab.notebook.generateWithVariable('binning_df');\n",
              "      }\n",
              "      })();\n",
              "    </script>\n",
              "  </div>\n",
              "\n",
              "    </div>\n",
              "  </div>\n"
            ],
            "application/vnd.google.colaboratory.intrinsic+json": {
              "type": "dataframe",
              "variable_name": "binning_df",
              "summary": "{\n  \"name\": \"binning_df\",\n  \"rows\": 7,\n  \"fields\": [\n    {\n      \"column\": \"I1\",\n      \"properties\": {\n        \"dtype\": \"number\",\n        \"std\": 0,\n        \"min\": 1,\n        \"max\": 2,\n        \"num_unique_values\": 2,\n        \"samples\": [\n          2,\n          1\n        ],\n        \"semantic_type\": \"\",\n        \"description\": \"\"\n      }\n    },\n    {\n      \"column\": \"I2\",\n      \"properties\": {\n        \"dtype\": \"number\",\n        \"std\": 2.6453913204089936,\n        \"min\": 1.6,\n        \"max\": 8.3,\n        \"num_unique_values\": 7,\n        \"samples\": [\n          5.9,\n          2.1\n        ],\n        \"semantic_type\": \"\",\n        \"description\": \"\"\n      }\n    },\n    {\n      \"column\": \"I3\",\n      \"properties\": {\n        \"dtype\": \"number\",\n        \"std\": 1.3464238347775723,\n        \"min\": 2.8,\n        \"max\": 6.2,\n        \"num_unique_values\": 7,\n        \"samples\": [\n          3.4,\n          6.2\n        ],\n        \"semantic_type\": \"\",\n        \"description\": \"\"\n      }\n    },\n    {\n      \"column\": \"I2_binned_mean\",\n      \"properties\": {\n        \"dtype\": \"number\",\n        \"std\": 2.512255673976789,\n        \"min\": 2.3,\n        \"max\": 7.0,\n        \"num_unique_values\": 2,\n        \"samples\": [\n          2.3,\n          7.0\n        ],\n        \"semantic_type\": \"\",\n        \"description\": \"\"\n      }\n    }\n  ]\n}"
            }
          },
          "metadata": {},
          "execution_count": 77
        }
      ]
    },
    {
      "cell_type": "code",
      "source": [
        "# b) Dimensión I3 usando el límite más cercano como representante de 2 bins\n",
        "\n",
        "# 1) Calcula los bordes de los bins (2 bins) de I3\n",
        "_, bin_edges = pd.cut(\n",
        "    binning_df['I3'],\n",
        "    bins=num_bins,\n",
        "    labels=False,\n",
        "    include_lowest=True,\n",
        "    retbins=True # importante porque este trae los límitos\n",
        ")\n",
        "\n",
        "# 2) Función que, dado un valor x, devuelve el límite más cercano\n",
        "def nearest_boundary(x, edges):\n",
        "    # np.searchsorted te dice dónde insertarlo para mantener orden\n",
        "    idx = np.searchsorted(edges, x, side='right')\n",
        "    lower = edges[idx-1] if idx > 0 else edges[0]\n",
        "    upper = edges[idx] if idx < len(edges) else edges[-1]\n",
        "    # elige el más cercano y redondea a 2 decimales\n",
        "    return round(lower if abs(x - lower) <= abs(x - upper) else upper, 2)\n",
        "\n",
        "# 3) Aplica vectorizado con .apply\n",
        "binning_df['I3_binned_boundary'] = binning_df['I3'].apply(\n",
        "    lambda x: nearest_boundary(x, bin_edges)\n",
        ")\n",
        "\n",
        "print(\"\\nDataFrame usando Binning en I3 con representante Nearest Boundary:\")\n",
        "print(binning_df)\n"
      ],
      "metadata": {
        "colab": {
          "base_uri": "https://localhost:8080/"
        },
        "id": "Y3dv5KK1Q0C2",
        "outputId": "efb823ed-b1ac-49f4-a1db-c2da6371d2ab"
      },
      "id": "Y3dv5KK1Q0C2",
      "execution_count": 80,
      "outputs": [
        {
          "output_type": "stream",
          "name": "stdout",
          "text": [
            "\n",
            "DataFrame usando Binning en I3 con representante Nearest Boundary:\n",
            "   I1   I2   I3  I2_binned_mean  I3_binned_boundary\n",
            "0   1  5.9  3.4             7.0                 2.8\n",
            "1   2  2.1  6.2             2.3                 6.2\n",
            "2   1  1.6  2.8             2.3                 2.8\n",
            "3   2  6.8  5.8             7.0                 6.2\n",
            "4   1  3.1  3.1             2.3                 2.8\n",
            "5   1  8.3  4.1             7.0                 4.5\n",
            "6   2  2.4  5.0             2.3                 4.5\n"
          ]
        }
      ]
    },
    {
      "cell_type": "markdown",
      "id": "932785ea",
      "metadata": {
        "id": "932785ea"
      },
      "source": [
        "\n",
        "---\n",
        "\n",
        "### 7. Ranking de dimensiones\n",
        "\n",
        "Dado el conjunto de datos con tres dimensiones de entrada y una clase:\n",
        "\n",
        "```\n",
        "I1   I2   I3   C  \n",
        "2.5  1.6  5.9  0  \n",
        "7.2  4.3  2.1  1  \n",
        "3.4  5.8  1.6  1  \n",
        "5.6  3.6  6.8  0  \n",
        "4.8  7.2  3.1  1  \n",
        "8.1  4.9  8.3  0  \n",
        "6.3  4.8  2.4  1  \n",
        "```\n",
        "\n",
        "* Realizar **ranking** de las dimensiones comparando medias y varianzas\n"
      ]
    },
    {
      "cell_type": "code",
      "source": [
        "data = {'I1': [2.5, 7.2, 3.4, 5.6, 4.8, 8.1, 6.3],\n",
        "        'I2': [1.6, 4.3, 5.8, 3.6, 7.2, 4.9, 4.8],\n",
        "        'I3': [5.9, 2.1, 1.6, 6.8, 3.1, 8.3, 2.4],\n",
        "        'C': [0, 1, 1, 0, 1, 0, 1]}\n",
        "\n",
        "ranking_df = pd.DataFrame(data)\n",
        "\n",
        "class_0_df = ranking_df[ranking_df['C'] == 0].drop(columns=['C'])\n",
        "class_1_df = ranking_df[ranking_df['C'] == 1].drop(columns=['C'])\n",
        "\n",
        "# Calcular para cada cclase\n",
        "mean_0 = class_0_df.mean()\n",
        "mean_1 = class_1_df.mean()\n",
        "var_0 = class_0_df.var()\n",
        "var_1 = class_1_df.var()\n",
        "\n",
        "ranking_table_data = []\n",
        "for dim in ranking_df.columns[:-1]:\n",
        "  ranking_table_data.append([\n",
        "      dim,\n",
        "      mean_0[dim],\n",
        "      mean_1[dim],\n",
        "      var_0[dim],\n",
        "      var_1[dim],\n",
        "      None, # Score placeholder\n",
        "      None  # Ranking placeholder\n",
        "  ])\n",
        "\n",
        "ranking_table_df = pd.DataFrame(ranking_table_data, columns=['Dimensión', 'μ₀', 'μ₁', 'σ²₀', 'σ²₁', 'Score', 'Ranking'])\n",
        "\n",
        "\n",
        "# Calculate scores: |μ₀ - μ₁| / (σ₀ + σ₁)\n",
        "# Handle potential division by zero if variance is 0. Add a small epsilon.\n",
        "epsilon = 1e-9\n",
        "ranking_table_df['Score'] = abs(ranking_table_df['μ₀'] - ranking_table_df['μ₁']) / (np.sqrt(ranking_table_df['σ²₀']) + np.sqrt(ranking_table_df['σ²₁']) + epsilon)\n",
        "\n",
        "ranking_table_df = ranking_table_df.sort_values(by='Score', ascending=False).reset_index(drop=True)\n",
        "ranking_table_df['Ranking'] = ranking_table_df.index + 1\n",
        "\n",
        "print(\"Ranking Table:\")\n",
        "ranking_table_df"
      ],
      "metadata": {
        "colab": {
          "base_uri": "https://localhost:8080/",
          "height": 161
        },
        "id": "Rt26_jXIVqzR",
        "outputId": "b7c7221e-215a-4fcf-c2ed-68c1dc70e445"
      },
      "id": "Rt26_jXIVqzR",
      "execution_count": 83,
      "outputs": [
        {
          "output_type": "stream",
          "name": "stdout",
          "text": [
            "Ranking Table:\n"
          ]
        },
        {
          "output_type": "execute_result",
          "data": {
            "text/plain": [
              "  Dimensión        μ₀     μ₁       σ²₀       σ²₁     Score  Ranking\n",
              "0        I3  7.000000  2.300  1.470000  0.393333  2.554905        1\n",
              "1        I2  3.366667  5.525  2.763333  1.635833  0.733796        2\n",
              "2        I1  5.400000  5.425  7.870000  2.802500  0.005581        3"
            ],
            "text/html": [
              "\n",
              "  <div id=\"df-af09bab8-6eb7-41be-b94e-aa7f2989b8df\" class=\"colab-df-container\">\n",
              "    <div>\n",
              "<style scoped>\n",
              "    .dataframe tbody tr th:only-of-type {\n",
              "        vertical-align: middle;\n",
              "    }\n",
              "\n",
              "    .dataframe tbody tr th {\n",
              "        vertical-align: top;\n",
              "    }\n",
              "\n",
              "    .dataframe thead th {\n",
              "        text-align: right;\n",
              "    }\n",
              "</style>\n",
              "<table border=\"1\" class=\"dataframe\">\n",
              "  <thead>\n",
              "    <tr style=\"text-align: right;\">\n",
              "      <th></th>\n",
              "      <th>Dimensión</th>\n",
              "      <th>μ₀</th>\n",
              "      <th>μ₁</th>\n",
              "      <th>σ²₀</th>\n",
              "      <th>σ²₁</th>\n",
              "      <th>Score</th>\n",
              "      <th>Ranking</th>\n",
              "    </tr>\n",
              "  </thead>\n",
              "  <tbody>\n",
              "    <tr>\n",
              "      <th>0</th>\n",
              "      <td>I3</td>\n",
              "      <td>7.000000</td>\n",
              "      <td>2.300</td>\n",
              "      <td>1.470000</td>\n",
              "      <td>0.393333</td>\n",
              "      <td>2.554905</td>\n",
              "      <td>1</td>\n",
              "    </tr>\n",
              "    <tr>\n",
              "      <th>1</th>\n",
              "      <td>I2</td>\n",
              "      <td>3.366667</td>\n",
              "      <td>5.525</td>\n",
              "      <td>2.763333</td>\n",
              "      <td>1.635833</td>\n",
              "      <td>0.733796</td>\n",
              "      <td>2</td>\n",
              "    </tr>\n",
              "    <tr>\n",
              "      <th>2</th>\n",
              "      <td>I1</td>\n",
              "      <td>5.400000</td>\n",
              "      <td>5.425</td>\n",
              "      <td>7.870000</td>\n",
              "      <td>2.802500</td>\n",
              "      <td>0.005581</td>\n",
              "      <td>3</td>\n",
              "    </tr>\n",
              "  </tbody>\n",
              "</table>\n",
              "</div>\n",
              "    <div class=\"colab-df-buttons\">\n",
              "\n",
              "  <div class=\"colab-df-container\">\n",
              "    <button class=\"colab-df-convert\" onclick=\"convertToInteractive('df-af09bab8-6eb7-41be-b94e-aa7f2989b8df')\"\n",
              "            title=\"Convert this dataframe to an interactive table.\"\n",
              "            style=\"display:none;\">\n",
              "\n",
              "  <svg xmlns=\"http://www.w3.org/2000/svg\" height=\"24px\" viewBox=\"0 -960 960 960\">\n",
              "    <path d=\"M120-120v-720h720v720H120Zm60-500h600v-160H180v160Zm220 220h160v-160H400v160Zm0 220h160v-160H400v160ZM180-400h160v-160H180v160Zm440 0h160v-160H620v160ZM180-180h160v-160H180v160Zm440 0h160v-160H620v160Z\"/>\n",
              "  </svg>\n",
              "    </button>\n",
              "\n",
              "  <style>\n",
              "    .colab-df-container {\n",
              "      display:flex;\n",
              "      gap: 12px;\n",
              "    }\n",
              "\n",
              "    .colab-df-convert {\n",
              "      background-color: #E8F0FE;\n",
              "      border: none;\n",
              "      border-radius: 50%;\n",
              "      cursor: pointer;\n",
              "      display: none;\n",
              "      fill: #1967D2;\n",
              "      height: 32px;\n",
              "      padding: 0 0 0 0;\n",
              "      width: 32px;\n",
              "    }\n",
              "\n",
              "    .colab-df-convert:hover {\n",
              "      background-color: #E2EBFA;\n",
              "      box-shadow: 0px 1px 2px rgba(60, 64, 67, 0.3), 0px 1px 3px 1px rgba(60, 64, 67, 0.15);\n",
              "      fill: #174EA6;\n",
              "    }\n",
              "\n",
              "    .colab-df-buttons div {\n",
              "      margin-bottom: 4px;\n",
              "    }\n",
              "\n",
              "    [theme=dark] .colab-df-convert {\n",
              "      background-color: #3B4455;\n",
              "      fill: #D2E3FC;\n",
              "    }\n",
              "\n",
              "    [theme=dark] .colab-df-convert:hover {\n",
              "      background-color: #434B5C;\n",
              "      box-shadow: 0px 1px 3px 1px rgba(0, 0, 0, 0.15);\n",
              "      filter: drop-shadow(0px 1px 2px rgba(0, 0, 0, 0.3));\n",
              "      fill: #FFFFFF;\n",
              "    }\n",
              "  </style>\n",
              "\n",
              "    <script>\n",
              "      const buttonEl =\n",
              "        document.querySelector('#df-af09bab8-6eb7-41be-b94e-aa7f2989b8df button.colab-df-convert');\n",
              "      buttonEl.style.display =\n",
              "        google.colab.kernel.accessAllowed ? 'block' : 'none';\n",
              "\n",
              "      async function convertToInteractive(key) {\n",
              "        const element = document.querySelector('#df-af09bab8-6eb7-41be-b94e-aa7f2989b8df');\n",
              "        const dataTable =\n",
              "          await google.colab.kernel.invokeFunction('convertToInteractive',\n",
              "                                                    [key], {});\n",
              "        if (!dataTable) return;\n",
              "\n",
              "        const docLinkHtml = 'Like what you see? Visit the ' +\n",
              "          '<a target=\"_blank\" href=https://colab.research.google.com/notebooks/data_table.ipynb>data table notebook</a>'\n",
              "          + ' to learn more about interactive tables.';\n",
              "        element.innerHTML = '';\n",
              "        dataTable['output_type'] = 'display_data';\n",
              "        await google.colab.output.renderOutput(dataTable, element);\n",
              "        const docLink = document.createElement('div');\n",
              "        docLink.innerHTML = docLinkHtml;\n",
              "        element.appendChild(docLink);\n",
              "      }\n",
              "    </script>\n",
              "  </div>\n",
              "\n",
              "\n",
              "    <div id=\"df-fd3a1b5a-5eb4-48ec-9466-dbd01cd76905\">\n",
              "      <button class=\"colab-df-quickchart\" onclick=\"quickchart('df-fd3a1b5a-5eb4-48ec-9466-dbd01cd76905')\"\n",
              "                title=\"Suggest charts\"\n",
              "                style=\"display:none;\">\n",
              "\n",
              "<svg xmlns=\"http://www.w3.org/2000/svg\" height=\"24px\"viewBox=\"0 0 24 24\"\n",
              "     width=\"24px\">\n",
              "    <g>\n",
              "        <path d=\"M19 3H5c-1.1 0-2 .9-2 2v14c0 1.1.9 2 2 2h14c1.1 0 2-.9 2-2V5c0-1.1-.9-2-2-2zM9 17H7v-7h2v7zm4 0h-2V7h2v10zm4 0h-2v-4h2v4z\"/>\n",
              "    </g>\n",
              "</svg>\n",
              "      </button>\n",
              "\n",
              "<style>\n",
              "  .colab-df-quickchart {\n",
              "      --bg-color: #E8F0FE;\n",
              "      --fill-color: #1967D2;\n",
              "      --hover-bg-color: #E2EBFA;\n",
              "      --hover-fill-color: #174EA6;\n",
              "      --disabled-fill-color: #AAA;\n",
              "      --disabled-bg-color: #DDD;\n",
              "  }\n",
              "\n",
              "  [theme=dark] .colab-df-quickchart {\n",
              "      --bg-color: #3B4455;\n",
              "      --fill-color: #D2E3FC;\n",
              "      --hover-bg-color: #434B5C;\n",
              "      --hover-fill-color: #FFFFFF;\n",
              "      --disabled-bg-color: #3B4455;\n",
              "      --disabled-fill-color: #666;\n",
              "  }\n",
              "\n",
              "  .colab-df-quickchart {\n",
              "    background-color: var(--bg-color);\n",
              "    border: none;\n",
              "    border-radius: 50%;\n",
              "    cursor: pointer;\n",
              "    display: none;\n",
              "    fill: var(--fill-color);\n",
              "    height: 32px;\n",
              "    padding: 0;\n",
              "    width: 32px;\n",
              "  }\n",
              "\n",
              "  .colab-df-quickchart:hover {\n",
              "    background-color: var(--hover-bg-color);\n",
              "    box-shadow: 0 1px 2px rgba(60, 64, 67, 0.3), 0 1px 3px 1px rgba(60, 64, 67, 0.15);\n",
              "    fill: var(--button-hover-fill-color);\n",
              "  }\n",
              "\n",
              "  .colab-df-quickchart-complete:disabled,\n",
              "  .colab-df-quickchart-complete:disabled:hover {\n",
              "    background-color: var(--disabled-bg-color);\n",
              "    fill: var(--disabled-fill-color);\n",
              "    box-shadow: none;\n",
              "  }\n",
              "\n",
              "  .colab-df-spinner {\n",
              "    border: 2px solid var(--fill-color);\n",
              "    border-color: transparent;\n",
              "    border-bottom-color: var(--fill-color);\n",
              "    animation:\n",
              "      spin 1s steps(1) infinite;\n",
              "  }\n",
              "\n",
              "  @keyframes spin {\n",
              "    0% {\n",
              "      border-color: transparent;\n",
              "      border-bottom-color: var(--fill-color);\n",
              "      border-left-color: var(--fill-color);\n",
              "    }\n",
              "    20% {\n",
              "      border-color: transparent;\n",
              "      border-left-color: var(--fill-color);\n",
              "      border-top-color: var(--fill-color);\n",
              "    }\n",
              "    30% {\n",
              "      border-color: transparent;\n",
              "      border-left-color: var(--fill-color);\n",
              "      border-top-color: var(--fill-color);\n",
              "      border-right-color: var(--fill-color);\n",
              "    }\n",
              "    40% {\n",
              "      border-color: transparent;\n",
              "      border-right-color: var(--fill-color);\n",
              "      border-top-color: var(--fill-color);\n",
              "    }\n",
              "    60% {\n",
              "      border-color: transparent;\n",
              "      border-right-color: var(--fill-color);\n",
              "    }\n",
              "    80% {\n",
              "      border-color: transparent;\n",
              "      border-right-color: var(--fill-color);\n",
              "      border-bottom-color: var(--fill-color);\n",
              "    }\n",
              "    90% {\n",
              "      border-color: transparent;\n",
              "      border-bottom-color: var(--fill-color);\n",
              "    }\n",
              "  }\n",
              "</style>\n",
              "\n",
              "      <script>\n",
              "        async function quickchart(key) {\n",
              "          const quickchartButtonEl =\n",
              "            document.querySelector('#' + key + ' button');\n",
              "          quickchartButtonEl.disabled = true;  // To prevent multiple clicks.\n",
              "          quickchartButtonEl.classList.add('colab-df-spinner');\n",
              "          try {\n",
              "            const charts = await google.colab.kernel.invokeFunction(\n",
              "                'suggestCharts', [key], {});\n",
              "          } catch (error) {\n",
              "            console.error('Error during call to suggestCharts:', error);\n",
              "          }\n",
              "          quickchartButtonEl.classList.remove('colab-df-spinner');\n",
              "          quickchartButtonEl.classList.add('colab-df-quickchart-complete');\n",
              "        }\n",
              "        (() => {\n",
              "          let quickchartButtonEl =\n",
              "            document.querySelector('#df-fd3a1b5a-5eb4-48ec-9466-dbd01cd76905 button');\n",
              "          quickchartButtonEl.style.display =\n",
              "            google.colab.kernel.accessAllowed ? 'block' : 'none';\n",
              "        })();\n",
              "      </script>\n",
              "    </div>\n",
              "\n",
              "  <div id=\"id_2b17ece4-9121-4c6a-a739-8ead7e9b5aa8\">\n",
              "    <style>\n",
              "      .colab-df-generate {\n",
              "        background-color: #E8F0FE;\n",
              "        border: none;\n",
              "        border-radius: 50%;\n",
              "        cursor: pointer;\n",
              "        display: none;\n",
              "        fill: #1967D2;\n",
              "        height: 32px;\n",
              "        padding: 0 0 0 0;\n",
              "        width: 32px;\n",
              "      }\n",
              "\n",
              "      .colab-df-generate:hover {\n",
              "        background-color: #E2EBFA;\n",
              "        box-shadow: 0px 1px 2px rgba(60, 64, 67, 0.3), 0px 1px 3px 1px rgba(60, 64, 67, 0.15);\n",
              "        fill: #174EA6;\n",
              "      }\n",
              "\n",
              "      [theme=dark] .colab-df-generate {\n",
              "        background-color: #3B4455;\n",
              "        fill: #D2E3FC;\n",
              "      }\n",
              "\n",
              "      [theme=dark] .colab-df-generate:hover {\n",
              "        background-color: #434B5C;\n",
              "        box-shadow: 0px 1px 3px 1px rgba(0, 0, 0, 0.15);\n",
              "        filter: drop-shadow(0px 1px 2px rgba(0, 0, 0, 0.3));\n",
              "        fill: #FFFFFF;\n",
              "      }\n",
              "    </style>\n",
              "    <button class=\"colab-df-generate\" onclick=\"generateWithVariable('ranking_table_df')\"\n",
              "            title=\"Generate code using this dataframe.\"\n",
              "            style=\"display:none;\">\n",
              "\n",
              "  <svg xmlns=\"http://www.w3.org/2000/svg\" height=\"24px\"viewBox=\"0 0 24 24\"\n",
              "       width=\"24px\">\n",
              "    <path d=\"M7,19H8.4L18.45,9,17,7.55,7,17.6ZM5,21V16.75L18.45,3.32a2,2,0,0,1,2.83,0l1.4,1.43a1.91,1.91,0,0,1,.58,1.4,1.91,1.91,0,0,1-.58,1.4L9.25,21ZM18.45,9,17,7.55Zm-12,3A5.31,5.31,0,0,0,4.9,8.1,5.31,5.31,0,0,0,1,6.5,5.31,5.31,0,0,0,4.9,4.9,5.31,5.31,0,0,0,6.5,1,5.31,5.31,0,0,0,8.1,4.9,5.31,5.31,0,0,0,12,6.5,5.46,5.46,0,0,0,6.5,12Z\"/>\n",
              "  </svg>\n",
              "    </button>\n",
              "    <script>\n",
              "      (() => {\n",
              "      const buttonEl =\n",
              "        document.querySelector('#id_2b17ece4-9121-4c6a-a739-8ead7e9b5aa8 button.colab-df-generate');\n",
              "      buttonEl.style.display =\n",
              "        google.colab.kernel.accessAllowed ? 'block' : 'none';\n",
              "\n",
              "      buttonEl.onclick = () => {\n",
              "        google.colab.notebook.generateWithVariable('ranking_table_df');\n",
              "      }\n",
              "      })();\n",
              "    </script>\n",
              "  </div>\n",
              "\n",
              "    </div>\n",
              "  </div>\n"
            ],
            "application/vnd.google.colaboratory.intrinsic+json": {
              "type": "dataframe",
              "variable_name": "ranking_table_df",
              "summary": "{\n  \"name\": \"ranking_table_df\",\n  \"rows\": 3,\n  \"fields\": [\n    {\n      \"column\": \"Dimensi\\u00f3n\",\n      \"properties\": {\n        \"dtype\": \"string\",\n        \"num_unique_values\": 3,\n        \"samples\": [\n          \"I3\",\n          \"I2\",\n          \"I1\"\n        ],\n        \"semantic_type\": \"\",\n        \"description\": \"\"\n      }\n    },\n    {\n      \"column\": \"\\u03bc\\u2080\",\n      \"properties\": {\n        \"dtype\": \"number\",\n        \"std\": 1.820968403329922,\n        \"min\": 3.366666666666667,\n        \"max\": 7.0,\n        \"num_unique_values\": 3,\n        \"samples\": [\n          7.0,\n          3.366666666666667,\n          5.3999999999999995\n        ],\n        \"semantic_type\": \"\",\n        \"description\": \"\"\n      }\n    },\n    {\n      \"column\": \"\\u03bc\\u2081\",\n      \"properties\": {\n        \"dtype\": \"number\",\n        \"std\": 1.8337688876555118,\n        \"min\": 2.3000000000000003,\n        \"max\": 5.525,\n        \"num_unique_values\": 3,\n        \"samples\": [\n          2.3000000000000003,\n          5.525,\n          5.425\n        ],\n        \"semantic_type\": \"\",\n        \"description\": \"\"\n      }\n    },\n    {\n      \"column\": \"\\u03c3\\u00b2\\u2080\",\n      \"properties\": {\n        \"dtype\": \"number\",\n        \"std\": 3.3840497325826324,\n        \"min\": 1.4700000000000006,\n        \"max\": 7.869999999999999,\n        \"num_unique_values\": 3,\n        \"samples\": [\n          1.4700000000000006,\n          2.7633333333333336,\n          7.869999999999999\n        ],\n        \"semantic_type\": \"\",\n        \"description\": \"\"\n      }\n    },\n    {\n      \"column\": \"\\u03c3\\u00b2\\u2081\",\n      \"properties\": {\n        \"dtype\": \"number\",\n        \"std\": 1.2047822340495737,\n        \"min\": 0.3933333333333333,\n        \"max\": 2.8025,\n        \"num_unique_values\": 3,\n        \"samples\": [\n          0.3933333333333333,\n          1.635833333333334,\n          2.8025\n        ],\n        \"semantic_type\": \"\",\n        \"description\": \"\"\n      }\n    },\n    {\n      \"column\": \"Score\",\n      \"properties\": {\n        \"dtype\": \"number\",\n        \"std\": 1.313125379188131,\n        \"min\": 0.005581081022645542,\n        \"max\": 2.5549053364620065,\n        \"num_unique_values\": 3,\n        \"samples\": [\n          2.5549053364620065,\n          0.733796354166943,\n          0.005581081022645542\n        ],\n        \"semantic_type\": \"\",\n        \"description\": \"\"\n      }\n    },\n    {\n      \"column\": \"Ranking\",\n      \"properties\": {\n        \"dtype\": \"number\",\n        \"std\": 1,\n        \"min\": 1,\n        \"max\": 3,\n        \"num_unique_values\": 3,\n        \"samples\": [\n          1,\n          2,\n          3\n        ],\n        \"semantic_type\": \"\",\n        \"description\": \"\"\n      }\n    }\n  ]\n}"
            }
          },
          "metadata": {},
          "execution_count": 83
        }
      ]
    },
    {
      "cell_type": "markdown",
      "source": [
        "Conclusión:\n",
        "\n",
        "I3 es la dimensión más relevante ya que tendría una Diferencia grande de promedios y datos poco “esparcidos” (poca diferencia de std's) ⇒ mejor para distinguir las clases..\n",
        "\n",
        "I2 tiene utilidad intermedia (Ranking 2).\n",
        "\n",
        "I1 prácticamente no ayuda a distinguir entre las clases (Ranking 3)."
      ],
      "metadata": {
        "id": "SE8e1-12XDpk"
      },
      "id": "SE8e1-12XDpk"
    },
    {
      "cell_type": "markdown",
      "id": "79a69438",
      "metadata": {
        "id": "79a69438"
      },
      "source": [
        "\n",
        "---\n",
        "\n",
        "### 8. Selección de características por entropía\n",
        "\n",
        "Dado el conjunto de datos donde **X1** y **X2** son numéricas, y **X3** y **X4** categóricas:\n",
        "\n",
        "```\n",
        "X1  X2  X3  X4  \n",
        "2.7 3.4 1   A  \n",
        "3.1 6.2 2   A  \n",
        "4.5 2.8 1   B  \n",
        "5.3 5.8 2   B  \n",
        "6.6 3.1 1   A  \n",
        "5.0 4.1 2   B  \n",
        "```\n",
        "\n",
        "* a) Aplicar el método de **selección de características basado en entropía** para reducir una dimensión (mostrar pasos)\n",
        "* b) Implementar un programa para realizar el **ranking de dimensiones** usando entropía\n"
      ]
    },
    {
      "cell_type": "markdown",
      "id": "2f2f8fa4",
      "metadata": {
        "id": "2f2f8fa4"
      },
      "source": [
        "\n",
        "---\n",
        "\n",
        "### 9. Transformación de atributos en *Adult dataset*\n",
        "\n",
        "Aplicar al conjunto de datos *Adult* del repositorio de Machine Learning:\n",
        "\n",
        "* a) Convertir todos los atributos numéricos a categóricos utilizando dos estrategias diferentes\n",
        "* b) Transformar el conjunto de datos para que **todos los atributos sean numéricos**\n"
      ]
    },
    {
      "cell_type": "markdown",
      "id": "c81dfb53",
      "metadata": {
        "id": "c81dfb53"
      },
      "source": [
        "\n",
        "---\n",
        "\n",
        "### 10. PCA en conjunto de datos numéricos\n",
        "\n",
        "Escoger un conjunto de datos del repositorio de Machine Learning que tenga varias dimensiones numéricas y aplicar **PCA**.\n",
        "\n",
        "* Describir el nuevo conjunto de datos resultante\n",
        "\n"
      ]
    }
  ],
  "metadata": {
    "kernelspec": {
      "display_name": ".venv",
      "language": "python",
      "name": "python3"
    },
    "language_info": {
      "codemirror_mode": {
        "name": "ipython",
        "version": 3
      },
      "file_extension": ".py",
      "mimetype": "text/x-python",
      "name": "python",
      "nbconvert_exporter": "python",
      "pygments_lexer": "ipython3",
      "version": "3.13.3"
    },
    "colab": {
      "provenance": []
    }
  },
  "nbformat": 4,
  "nbformat_minor": 5
}